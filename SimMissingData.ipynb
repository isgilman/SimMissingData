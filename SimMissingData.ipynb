{
 "cells": [
  {
   "cell_type": "markdown",
   "metadata": {},
   "source": [
    "## Simuation of the effects of missing data in the SVDquartets analysis\n",
    "In order to explore the effect of missing data on the ability to recover the correct topology in SVDquartets a number of ddrad datasets will be simulated before various amounts of data will be convereted to 'N's, and then SVDquartets will be run.\n",
    "\n",
    "Steps\n",
    "* Make directory for new simulation\n",
    "    * `mkdir l<length>L<nloci>`\n",
    "    * `cd l<length>L<nloci>`\n",
    "* Use *simrrls* (Eaton) to construct ddrad datasets\n",
    "    * `simrrls -o l<length>L<nloci> -f ddrad -l <length> -L <nLoci>`\n",
    "    * Loci lengths will range from 100 too 1000 in steps of 100\n",
    "    * Number of loci will range from 100 to 600 in steps of 100\n",
    "* Data will be run through pyRAD (Eaton) using default parameters\n",
    "    * `pyrad -n`\n",
    "    * Rename barcodes file from `./l<length>L<nloci>_barcodes.txt` to `./l<length>L<nloci>.barcodes`\n",
    "    * Edit lins in params file\n",
    "        * (6) Restriction overhand from `TGCAG` to `CTGCAG, CCGG`\n",
    "        * (11) Datatype from `rad` to `ddrad`\n",
    "        * (14) Prefix form `c88d6m4p3` to `l<length>L<nloci>.c88d6m4p3`\n",
    "    * `pyrad -p params.txt -s 1234567`\n",
    "* Data will be analyzed via SVDquartets in PAUP\n",
    "    * Write PUAP block to nexus file by appending `~/simrrls/SVD_paupblock.txt`\n",
    "        * `cat SVD_paupblock.txt >> ./outfiles/*.nex`\n",
    "    * `paup4 ./outfiles/l<length>L<nloci>.nex\n",
    "    "
   ]
  },
  {
   "cell_type": "markdown",
   "metadata": {},
   "source": [
    "### 0. Load modules"
   ]
  },
  {
   "cell_type": "code",
   "execution_count": 1,
   "metadata": {
    "collapsed": false
   },
   "outputs": [],
   "source": [
    "try: import sys\n",
    "except ImportError:\n",
    "    print \"\\n\\tError: sys is not installed/loaded\"\n",
    "    sys.exit()\n",
    "try: import os\n",
    "except ImportError:\n",
    "    print \"\\n\\tError: os is not installed/loaded\"\n",
    "    sys.exit()\n",
    "try: from optparse import OptionParser\n",
    "except ImportError:\n",
    "    print \"\\n\\tError: OptionParser (optparse) is not installed/loaded\"\n",
    "    sys.exit()\n",
    "try: import shutil\n",
    "except ImportError:\n",
    "    print \"\\n\\tError: shutil is not installed/loaded\"\n",
    "    sys.exit()\n",
    "try: from tqdm import tqdm, tqdm_notebook, tnrange\n",
    "except ImportError:\n",
    "    print \"\\n\\tError: tqdm is not installed/loaded.\"\n",
    "    print \"\\n\\tTo install, try 'pip install tqdm' or 'conda install -c conda-forge tqdm'\"\n",
    "    sys.exit()\n",
    "import subprocess\n",
    "from pprint import pprint\n",
    "import numpy as np\n",
    "import pandas as pd\n",
    "import numpy.random as rand\n",
    "from Bio import AlignIO, Alphabet\n",
    "import re\n",
    "import dendropy\n",
    "import csv"
   ]
  },
  {
   "cell_type": "code",
   "execution_count": 3,
   "metadata": {
    "collapsed": true
   },
   "outputs": [],
   "source": [
    "def listabs(directory):\n",
    "    return [os.path.join(directory, filename) for filename in os.listdir(directory)]\n",
    "\n",
    "class Vividict(dict):\n",
    "    def __missing__(self, key):\n",
    "        value = self[key] = type(self)() # retain local pointer to value\n",
    "        return value                     # faster to return than dict lookup"
   ]
  },
  {
   "cell_type": "code",
   "execution_count": 2,
   "metadata": {
    "collapsed": true
   },
   "outputs": [],
   "source": [
    "os.chdir('/Users/IanGilman/Desktop/TempSims/L100/l100L100SluNh/')"
   ]
  },
  {
   "cell_type": "code",
   "execution_count": 17,
   "metadata": {
    "collapsed": false
   },
   "outputs": [
    {
     "name": "stdout",
     "output_type": "stream",
     "text": [
      "Found incomplete RF table. Deleting and recalculating.\n",
      "\n",
      "Hello\n"
     ]
    }
   ],
   "source": [
    "reps=10\n",
    "rfpath = './l100L100SluNh.RF.csv'\n",
    "if os.path.exists(rfpath):\n",
    "    with open(rfpath, 'r') as r:\n",
    "        if not len(r.readlines())==reps+1:\n",
    "            print('Found incomplete RF table. Deleting and recalculating.\\n')\n",
    "            os.remove(rfpath)\n",
    "        else: \n",
    "            print('Found RF distance matrix for simulation %s, move/remove to recalculate. Continuing...\\n') % ('BLAH')\n",
    "print('Hello')"
   ]
  },
  {
   "cell_type": "markdown",
   "metadata": {},
   "source": [
    "### 1. Simulate datasets"
   ]
  },
  {
   "cell_type": "code",
   "execution_count": 4,
   "metadata": {
    "collapsed": false
   },
   "outputs": [
    {
     "name": "stdout",
     "output_type": "stream",
     "text": [
      "/Users/IanGilman/pythonscripts\n",
      "/Users/IanGilman/simrrls\n",
      "/Users/IanGilman/simrrls/newsims\n"
     ]
    }
   ],
   "source": [
    "print os.getcwd()\n",
    "simrrls_dir = '/Users/IanGilman/simrrls/'\n",
    "os.chdir(simrrls_dir)\n",
    "print os.getcwd()\n",
    "newsimsdir = '/Users/IanGilman/simrrls/newsims/'\n",
    "os.chdir(newsimsdir)\n",
    "print os.getcwd()"
   ]
  },
  {
   "cell_type": "markdown",
   "metadata": {},
   "source": [
    "nuc Spinach/Silene 15.8-31.5 \n",
    "    \n",
    "   Monocot/dicot 5.8- 8.1"
   ]
  },
  {
   "cell_type": "code",
   "execution_count": 5,
   "metadata": {
    "collapsed": true
   },
   "outputs": [],
   "source": [
    "def multiply_strints(mystring, by):\n",
    "    return re.sub(\n",
    "        re.compile(\"\\d+\"), \n",
    "        lambda matchobj: str(int(matchobj.group(0))*by), mystring)"
   ]
  },
  {
   "cell_type": "code",
   "execution_count": 6,
   "metadata": {
    "collapsed": false
   },
   "outputs": [],
   "source": [
    "MedBalTree = '((((((A:2,B:2):2,C:4):4,D:8):4,(((E:2,F:2):2,G:4):4,H:8):4):4,(((I:2,J:2):2,K:4):4,L:8):8):16);'\n",
    "MedUnbTree = '((((((((((((A:1,B:1):1,C:2):1,D:3):1,E:4):1,F:5):1,G:6):1,H:7):1,I:8):1,J:9):1,K:10):1,L:11):12);'\n",
    "ShortBalTree = multiply_strints(MedBalTree, 0.5)\n",
    "LongBalTree = multiply_strints(MedBalTree, 2.0)\n",
    "ShortUnbTree = multiply_strints(MedUnbTree, 0.5)\n",
    "LongUnbTree = multiply_strints(MedUnbTree, 2.0)"
   ]
  },
  {
   "cell_type": "code",
   "execution_count": 7,
   "metadata": {
    "collapsed": false
   },
   "outputs": [],
   "source": [
    "treeshapes = Vividict()\n",
    "treeshapes['ShortBalTree']['tree'] = ShortBalTree\n",
    "treeshapes['MedBalTree']['tree'] = MedBalTree\n",
    "treeshapes['LongBalTree']['tree'] = LongBalTree\n",
    "treeshapes['ShortUnbTree']['tree'] = ShortUnbTree\n",
    "treeshapes['MedUnbTree']['tree'] = MedUnbTree\n",
    "treeshapes['LongUnbTree']['tree'] =LongUnbTree"
   ]
  },
  {
   "cell_type": "code",
   "execution_count": 8,
   "metadata": {
    "collapsed": false
   },
   "outputs": [],
   "source": [
    "for key in treeshapes.iterkeys():\n",
    "    path = os.path.join(simrrls_dir, key)\n",
    "    treeshapes[key]['path'] = str(path)\n",
    "    with open(path, 'w+') as f:\n",
    "        f.write(treeshapes[key]['tree'])"
   ]
  },
  {
   "cell_type": "code",
   "execution_count": 9,
   "metadata": {
    "collapsed": false
   },
   "outputs": [],
   "source": [
    "treeshapes['sb'] = treeshapes.pop('ShortBalTree')\n",
    "treeshapes['mb'] = treeshapes.pop('MedBalTree')\n",
    "treeshapes['lb'] = treeshapes.pop('LongBalTree')\n",
    "treeshapes['su'] = treeshapes.pop('ShortUnbTree')\n",
    "treeshapes['mu'] = treeshapes.pop('MedUnbTree')\n",
    "treeshapes['lu'] = treeshapes.pop('LongUnbTree')"
   ]
  },
  {
   "cell_type": "code",
   "execution_count": 10,
   "metadata": {
    "collapsed": false
   },
   "outputs": [
    {
     "name": "stdout",
     "output_type": "stream",
     "text": [
      "540\n",
      "[[100, 100, 'mb', 'h'], [100, 100, 'mb', 'm'], [100, 100, 'mb', 'l'], [100, 100, 'su', 'h'], [100, 100, 'su', 'm'], [100, 100, 'su', 'l'], [100, 100, 'lb', 'h'], [100, 100, 'lb', 'm'], [100, 100, 'lb', 'l'], [100, 100, 'mu', 'h'], [100, 100, 'mu', 'm'], [100, 100, 'mu', 'l'], [100, 100, 'lu', 'h'], [100, 100, 'lu', 'm'], [100, 100, 'lu', 'l'], [100, 100, 'sb', 'h'], [100, 100, 'sb', 'm'], [100, 100, 'sb', 'l'], [200, 100, 'mb', 'h'], [200, 100, 'mb', 'm'], [200, 100, 'mb', 'l'], [200, 100, 'su', 'h'], [200, 100, 'su', 'm'], [200, 100, 'su', 'l'], [200, 100, 'lb', 'h'], [200, 100, 'lb', 'm'], [200, 100, 'lb', 'l'], [200, 100, 'mu', 'h'], [200, 100, 'mu', 'm'], [200, 100, 'mu', 'l'], [200, 100, 'lu', 'h'], [200, 100, 'lu', 'm'], [200, 100, 'lu', 'l'], [200, 100, 'sb', 'h'], [200, 100, 'sb', 'm'], [200, 100, 'sb', 'l'], [300, 100, 'mb', 'h'], [300, 100, 'mb', 'm'], [300, 100, 'mb', 'l'], [300, 100, 'su', 'h'], [300, 100, 'su', 'm'], [300, 100, 'su', 'l'], [300, 100, 'lb', 'h'], [300, 100, 'lb', 'm'], [300, 100, 'lb', 'l'], [300, 100, 'mu', 'h'], [300, 100, 'mu', 'm'], [300, 100, 'mu', 'l'], [300, 100, 'lu', 'h'], [300, 100, 'lu', 'm'], [300, 100, 'lu', 'l'], [300, 100, 'sb', 'h'], [300, 100, 'sb', 'm'], [300, 100, 'sb', 'l'], [400, 100, 'mb', 'h'], [400, 100, 'mb', 'm'], [400, 100, 'mb', 'l'], [400, 100, 'su', 'h'], [400, 100, 'su', 'm'], [400, 100, 'su', 'l'], [400, 100, 'lb', 'h'], [400, 100, 'lb', 'm'], [400, 100, 'lb', 'l'], [400, 100, 'mu', 'h'], [400, 100, 'mu', 'm'], [400, 100, 'mu', 'l'], [400, 100, 'lu', 'h'], [400, 100, 'lu', 'm'], [400, 100, 'lu', 'l'], [400, 100, 'sb', 'h'], [400, 100, 'sb', 'm'], [400, 100, 'sb', 'l'], [500, 100, 'mb', 'h'], [500, 100, 'mb', 'm'], [500, 100, 'mb', 'l'], [500, 100, 'su', 'h'], [500, 100, 'su', 'm'], [500, 100, 'su', 'l'], [500, 100, 'lb', 'h'], [500, 100, 'lb', 'm'], [500, 100, 'lb', 'l'], [500, 100, 'mu', 'h'], [500, 100, 'mu', 'm'], [500, 100, 'mu', 'l'], [500, 100, 'lu', 'h'], [500, 100, 'lu', 'm'], [500, 100, 'lu', 'l'], [500, 100, 'sb', 'h'], [500, 100, 'sb', 'm'], [500, 100, 'sb', 'l'], [600, 100, 'mb', 'h'], [600, 100, 'mb', 'm'], [600, 100, 'mb', 'l'], [600, 100, 'su', 'h'], [600, 100, 'su', 'm'], [600, 100, 'su', 'l'], [600, 100, 'lb', 'h'], [600, 100, 'lb', 'm'], [600, 100, 'lb', 'l'], [600, 100, 'mu', 'h'], [600, 100, 'mu', 'm'], [600, 100, 'mu', 'l'], [600, 100, 'lu', 'h'], [600, 100, 'lu', 'm'], [600, 100, 'lu', 'l'], [600, 100, 'sb', 'h'], [600, 100, 'sb', 'm'], [600, 100, 'sb', 'l'], [100, 500, 'mb', 'h'], [100, 500, 'mb', 'm'], [100, 500, 'mb', 'l'], [100, 500, 'su', 'h'], [100, 500, 'su', 'm'], [100, 500, 'su', 'l'], [100, 500, 'lb', 'h'], [100, 500, 'lb', 'm'], [100, 500, 'lb', 'l'], [100, 500, 'mu', 'h'], [100, 500, 'mu', 'm'], [100, 500, 'mu', 'l'], [100, 500, 'lu', 'h'], [100, 500, 'lu', 'm'], [100, 500, 'lu', 'l'], [100, 500, 'sb', 'h'], [100, 500, 'sb', 'm'], [100, 500, 'sb', 'l'], [200, 500, 'mb', 'h'], [200, 500, 'mb', 'm'], [200, 500, 'mb', 'l'], [200, 500, 'su', 'h'], [200, 500, 'su', 'm'], [200, 500, 'su', 'l'], [200, 500, 'lb', 'h'], [200, 500, 'lb', 'm'], [200, 500, 'lb', 'l'], [200, 500, 'mu', 'h'], [200, 500, 'mu', 'm'], [200, 500, 'mu', 'l'], [200, 500, 'lu', 'h'], [200, 500, 'lu', 'm'], [200, 500, 'lu', 'l'], [200, 500, 'sb', 'h'], [200, 500, 'sb', 'm'], [200, 500, 'sb', 'l'], [300, 500, 'mb', 'h'], [300, 500, 'mb', 'm'], [300, 500, 'mb', 'l'], [300, 500, 'su', 'h'], [300, 500, 'su', 'm'], [300, 500, 'su', 'l'], [300, 500, 'lb', 'h'], [300, 500, 'lb', 'm'], [300, 500, 'lb', 'l'], [300, 500, 'mu', 'h'], [300, 500, 'mu', 'm'], [300, 500, 'mu', 'l'], [300, 500, 'lu', 'h'], [300, 500, 'lu', 'm'], [300, 500, 'lu', 'l'], [300, 500, 'sb', 'h'], [300, 500, 'sb', 'm'], [300, 500, 'sb', 'l'], [400, 500, 'mb', 'h'], [400, 500, 'mb', 'm'], [400, 500, 'mb', 'l'], [400, 500, 'su', 'h'], [400, 500, 'su', 'm'], [400, 500, 'su', 'l'], [400, 500, 'lb', 'h'], [400, 500, 'lb', 'm'], [400, 500, 'lb', 'l'], [400, 500, 'mu', 'h'], [400, 500, 'mu', 'm'], [400, 500, 'mu', 'l'], [400, 500, 'lu', 'h'], [400, 500, 'lu', 'm'], [400, 500, 'lu', 'l'], [400, 500, 'sb', 'h'], [400, 500, 'sb', 'm'], [400, 500, 'sb', 'l'], [500, 500, 'mb', 'h'], [500, 500, 'mb', 'm'], [500, 500, 'mb', 'l'], [500, 500, 'su', 'h'], [500, 500, 'su', 'm'], [500, 500, 'su', 'l'], [500, 500, 'lb', 'h'], [500, 500, 'lb', 'm'], [500, 500, 'lb', 'l'], [500, 500, 'mu', 'h'], [500, 500, 'mu', 'm'], [500, 500, 'mu', 'l'], [500, 500, 'lu', 'h'], [500, 500, 'lu', 'm'], [500, 500, 'lu', 'l'], [500, 500, 'sb', 'h'], [500, 500, 'sb', 'm'], [500, 500, 'sb', 'l'], [600, 500, 'mb', 'h'], [600, 500, 'mb', 'm'], [600, 500, 'mb', 'l'], [600, 500, 'su', 'h'], [600, 500, 'su', 'm'], [600, 500, 'su', 'l'], [600, 500, 'lb', 'h'], [600, 500, 'lb', 'm'], [600, 500, 'lb', 'l'], [600, 500, 'mu', 'h'], [600, 500, 'mu', 'm'], [600, 500, 'mu', 'l'], [600, 500, 'lu', 'h'], [600, 500, 'lu', 'm'], [600, 500, 'lu', 'l'], [600, 500, 'sb', 'h'], [600, 500, 'sb', 'm'], [600, 500, 'sb', 'l'], [100, 1000, 'mb', 'h'], [100, 1000, 'mb', 'm'], [100, 1000, 'mb', 'l'], [100, 1000, 'su', 'h'], [100, 1000, 'su', 'm'], [100, 1000, 'su', 'l'], [100, 1000, 'lb', 'h'], [100, 1000, 'lb', 'm'], [100, 1000, 'lb', 'l'], [100, 1000, 'mu', 'h'], [100, 1000, 'mu', 'm'], [100, 1000, 'mu', 'l'], [100, 1000, 'lu', 'h'], [100, 1000, 'lu', 'm'], [100, 1000, 'lu', 'l'], [100, 1000, 'sb', 'h'], [100, 1000, 'sb', 'm'], [100, 1000, 'sb', 'l'], [200, 1000, 'mb', 'h'], [200, 1000, 'mb', 'm'], [200, 1000, 'mb', 'l'], [200, 1000, 'su', 'h'], [200, 1000, 'su', 'm'], [200, 1000, 'su', 'l'], [200, 1000, 'lb', 'h'], [200, 1000, 'lb', 'm'], [200, 1000, 'lb', 'l'], [200, 1000, 'mu', 'h'], [200, 1000, 'mu', 'm'], [200, 1000, 'mu', 'l'], [200, 1000, 'lu', 'h'], [200, 1000, 'lu', 'm'], [200, 1000, 'lu', 'l'], [200, 1000, 'sb', 'h'], [200, 1000, 'sb', 'm'], [200, 1000, 'sb', 'l'], [300, 1000, 'mb', 'h'], [300, 1000, 'mb', 'm'], [300, 1000, 'mb', 'l'], [300, 1000, 'su', 'h'], [300, 1000, 'su', 'm'], [300, 1000, 'su', 'l'], [300, 1000, 'lb', 'h'], [300, 1000, 'lb', 'm'], [300, 1000, 'lb', 'l'], [300, 1000, 'mu', 'h'], [300, 1000, 'mu', 'm'], [300, 1000, 'mu', 'l'], [300, 1000, 'lu', 'h'], [300, 1000, 'lu', 'm'], [300, 1000, 'lu', 'l'], [300, 1000, 'sb', 'h'], [300, 1000, 'sb', 'm'], [300, 1000, 'sb', 'l'], [400, 1000, 'mb', 'h'], [400, 1000, 'mb', 'm'], [400, 1000, 'mb', 'l'], [400, 1000, 'su', 'h'], [400, 1000, 'su', 'm'], [400, 1000, 'su', 'l'], [400, 1000, 'lb', 'h'], [400, 1000, 'lb', 'm'], [400, 1000, 'lb', 'l'], [400, 1000, 'mu', 'h'], [400, 1000, 'mu', 'm'], [400, 1000, 'mu', 'l'], [400, 1000, 'lu', 'h'], [400, 1000, 'lu', 'm'], [400, 1000, 'lu', 'l'], [400, 1000, 'sb', 'h'], [400, 1000, 'sb', 'm'], [400, 1000, 'sb', 'l'], [500, 1000, 'mb', 'h'], [500, 1000, 'mb', 'm'], [500, 1000, 'mb', 'l'], [500, 1000, 'su', 'h'], [500, 1000, 'su', 'm'], [500, 1000, 'su', 'l'], [500, 1000, 'lb', 'h'], [500, 1000, 'lb', 'm'], [500, 1000, 'lb', 'l'], [500, 1000, 'mu', 'h'], [500, 1000, 'mu', 'm'], [500, 1000, 'mu', 'l'], [500, 1000, 'lu', 'h'], [500, 1000, 'lu', 'm'], [500, 1000, 'lu', 'l'], [500, 1000, 'sb', 'h'], [500, 1000, 'sb', 'm'], [500, 1000, 'sb', 'l'], [600, 1000, 'mb', 'h'], [600, 1000, 'mb', 'm'], [600, 1000, 'mb', 'l'], [600, 1000, 'su', 'h'], [600, 1000, 'su', 'm'], [600, 1000, 'su', 'l'], [600, 1000, 'lb', 'h'], [600, 1000, 'lb', 'm'], [600, 1000, 'lb', 'l'], [600, 1000, 'mu', 'h'], [600, 1000, 'mu', 'm'], [600, 1000, 'mu', 'l'], [600, 1000, 'lu', 'h'], [600, 1000, 'lu', 'm'], [600, 1000, 'lu', 'l'], [600, 1000, 'sb', 'h'], [600, 1000, 'sb', 'm'], [600, 1000, 'sb', 'l'], [100, 5000, 'mb', 'h'], [100, 5000, 'mb', 'm'], [100, 5000, 'mb', 'l'], [100, 5000, 'su', 'h'], [100, 5000, 'su', 'm'], [100, 5000, 'su', 'l'], [100, 5000, 'lb', 'h'], [100, 5000, 'lb', 'm'], [100, 5000, 'lb', 'l'], [100, 5000, 'mu', 'h'], [100, 5000, 'mu', 'm'], [100, 5000, 'mu', 'l'], [100, 5000, 'lu', 'h'], [100, 5000, 'lu', 'm'], [100, 5000, 'lu', 'l'], [100, 5000, 'sb', 'h'], [100, 5000, 'sb', 'm'], [100, 5000, 'sb', 'l'], [200, 5000, 'mb', 'h'], [200, 5000, 'mb', 'm'], [200, 5000, 'mb', 'l'], [200, 5000, 'su', 'h'], [200, 5000, 'su', 'm'], [200, 5000, 'su', 'l'], [200, 5000, 'lb', 'h'], [200, 5000, 'lb', 'm'], [200, 5000, 'lb', 'l'], [200, 5000, 'mu', 'h'], [200, 5000, 'mu', 'm'], [200, 5000, 'mu', 'l'], [200, 5000, 'lu', 'h'], [200, 5000, 'lu', 'm'], [200, 5000, 'lu', 'l'], [200, 5000, 'sb', 'h'], [200, 5000, 'sb', 'm'], [200, 5000, 'sb', 'l'], [300, 5000, 'mb', 'h'], [300, 5000, 'mb', 'm'], [300, 5000, 'mb', 'l'], [300, 5000, 'su', 'h'], [300, 5000, 'su', 'm'], [300, 5000, 'su', 'l'], [300, 5000, 'lb', 'h'], [300, 5000, 'lb', 'm'], [300, 5000, 'lb', 'l'], [300, 5000, 'mu', 'h'], [300, 5000, 'mu', 'm'], [300, 5000, 'mu', 'l'], [300, 5000, 'lu', 'h'], [300, 5000, 'lu', 'm'], [300, 5000, 'lu', 'l'], [300, 5000, 'sb', 'h'], [300, 5000, 'sb', 'm'], [300, 5000, 'sb', 'l'], [400, 5000, 'mb', 'h'], [400, 5000, 'mb', 'm'], [400, 5000, 'mb', 'l'], [400, 5000, 'su', 'h'], [400, 5000, 'su', 'm'], [400, 5000, 'su', 'l'], [400, 5000, 'lb', 'h'], [400, 5000, 'lb', 'm'], [400, 5000, 'lb', 'l'], [400, 5000, 'mu', 'h'], [400, 5000, 'mu', 'm'], [400, 5000, 'mu', 'l'], [400, 5000, 'lu', 'h'], [400, 5000, 'lu', 'm'], [400, 5000, 'lu', 'l'], [400, 5000, 'sb', 'h'], [400, 5000, 'sb', 'm'], [400, 5000, 'sb', 'l'], [500, 5000, 'mb', 'h'], [500, 5000, 'mb', 'm'], [500, 5000, 'mb', 'l'], [500, 5000, 'su', 'h'], [500, 5000, 'su', 'm'], [500, 5000, 'su', 'l'], [500, 5000, 'lb', 'h'], [500, 5000, 'lb', 'm'], [500, 5000, 'lb', 'l'], [500, 5000, 'mu', 'h'], [500, 5000, 'mu', 'm'], [500, 5000, 'mu', 'l'], [500, 5000, 'lu', 'h'], [500, 5000, 'lu', 'm'], [500, 5000, 'lu', 'l'], [500, 5000, 'sb', 'h'], [500, 5000, 'sb', 'm'], [500, 5000, 'sb', 'l'], [600, 5000, 'mb', 'h'], [600, 5000, 'mb', 'm'], [600, 5000, 'mb', 'l'], [600, 5000, 'su', 'h'], [600, 5000, 'su', 'm'], [600, 5000, 'su', 'l'], [600, 5000, 'lb', 'h'], [600, 5000, 'lb', 'm'], [600, 5000, 'lb', 'l'], [600, 5000, 'mu', 'h'], [600, 5000, 'mu', 'm'], [600, 5000, 'mu', 'l'], [600, 5000, 'lu', 'h'], [600, 5000, 'lu', 'm'], [600, 5000, 'lu', 'l'], [600, 5000, 'sb', 'h'], [600, 5000, 'sb', 'm'], [600, 5000, 'sb', 'l'], [100, 10000, 'mb', 'h'], [100, 10000, 'mb', 'm'], [100, 10000, 'mb', 'l'], [100, 10000, 'su', 'h'], [100, 10000, 'su', 'm'], [100, 10000, 'su', 'l'], [100, 10000, 'lb', 'h'], [100, 10000, 'lb', 'm'], [100, 10000, 'lb', 'l'], [100, 10000, 'mu', 'h'], [100, 10000, 'mu', 'm'], [100, 10000, 'mu', 'l'], [100, 10000, 'lu', 'h'], [100, 10000, 'lu', 'm'], [100, 10000, 'lu', 'l'], [100, 10000, 'sb', 'h'], [100, 10000, 'sb', 'm'], [100, 10000, 'sb', 'l'], [200, 10000, 'mb', 'h'], [200, 10000, 'mb', 'm'], [200, 10000, 'mb', 'l'], [200, 10000, 'su', 'h'], [200, 10000, 'su', 'm'], [200, 10000, 'su', 'l'], [200, 10000, 'lb', 'h'], [200, 10000, 'lb', 'm'], [200, 10000, 'lb', 'l'], [200, 10000, 'mu', 'h'], [200, 10000, 'mu', 'm'], [200, 10000, 'mu', 'l'], [200, 10000, 'lu', 'h'], [200, 10000, 'lu', 'm'], [200, 10000, 'lu', 'l'], [200, 10000, 'sb', 'h'], [200, 10000, 'sb', 'm'], [200, 10000, 'sb', 'l'], [300, 10000, 'mb', 'h'], [300, 10000, 'mb', 'm'], [300, 10000, 'mb', 'l'], [300, 10000, 'su', 'h'], [300, 10000, 'su', 'm'], [300, 10000, 'su', 'l'], [300, 10000, 'lb', 'h'], [300, 10000, 'lb', 'm'], [300, 10000, 'lb', 'l'], [300, 10000, 'mu', 'h'], [300, 10000, 'mu', 'm'], [300, 10000, 'mu', 'l'], [300, 10000, 'lu', 'h'], [300, 10000, 'lu', 'm'], [300, 10000, 'lu', 'l'], [300, 10000, 'sb', 'h'], [300, 10000, 'sb', 'm'], [300, 10000, 'sb', 'l'], [400, 10000, 'mb', 'h'], [400, 10000, 'mb', 'm'], [400, 10000, 'mb', 'l'], [400, 10000, 'su', 'h'], [400, 10000, 'su', 'm'], [400, 10000, 'su', 'l'], [400, 10000, 'lb', 'h'], [400, 10000, 'lb', 'm'], [400, 10000, 'lb', 'l'], [400, 10000, 'mu', 'h'], [400, 10000, 'mu', 'm'], [400, 10000, 'mu', 'l'], [400, 10000, 'lu', 'h'], [400, 10000, 'lu', 'm'], [400, 10000, 'lu', 'l'], [400, 10000, 'sb', 'h'], [400, 10000, 'sb', 'm'], [400, 10000, 'sb', 'l'], [500, 10000, 'mb', 'h'], [500, 10000, 'mb', 'm'], [500, 10000, 'mb', 'l'], [500, 10000, 'su', 'h'], [500, 10000, 'su', 'm'], [500, 10000, 'su', 'l'], [500, 10000, 'lb', 'h'], [500, 10000, 'lb', 'm'], [500, 10000, 'lb', 'l'], [500, 10000, 'mu', 'h'], [500, 10000, 'mu', 'm'], [500, 10000, 'mu', 'l'], [500, 10000, 'lu', 'h'], [500, 10000, 'lu', 'm'], [500, 10000, 'lu', 'l'], [500, 10000, 'sb', 'h'], [500, 10000, 'sb', 'm'], [500, 10000, 'sb', 'l'], [600, 10000, 'mb', 'h'], [600, 10000, 'mb', 'm'], [600, 10000, 'mb', 'l'], [600, 10000, 'su', 'h'], [600, 10000, 'su', 'm'], [600, 10000, 'su', 'l'], [600, 10000, 'lb', 'h'], [600, 10000, 'lb', 'm'], [600, 10000, 'lb', 'l'], [600, 10000, 'mu', 'h'], [600, 10000, 'mu', 'm'], [600, 10000, 'mu', 'l'], [600, 10000, 'lu', 'h'], [600, 10000, 'lu', 'm'], [600, 10000, 'lu', 'l'], [600, 10000, 'sb', 'h'], [600, 10000, 'sb', 'm'], [600, 10000, 'sb', 'l']]\n"
     ]
    }
   ],
   "source": [
    "nloci = [100, 500, 1000, 5000, 10000]\n",
    "lengths = [100, 200, 300, 400, 500, 600]\n",
    "Nes = {'l':100, 'm': 1000, 'h':10000}\n",
    "\n",
    "combos = []\n",
    "for number in nloci:\n",
    "    for size in lengths:\n",
    "        for shape in treeshapes.keys():\n",
    "            for Ne in Nes.keys():\n",
    "                combos.append([size, number, shape, Ne])\n",
    "print(len(combos))\n",
    "print combos"
   ]
  },
  {
   "cell_type": "markdown",
   "metadata": {},
   "source": [
    "### 2. Run simRRLs and pyRAD"
   ]
  },
  {
   "cell_type": "code",
   "execution_count": 310,
   "metadata": {
    "collapsed": true
   },
   "outputs": [],
   "source": [
    "def run_simrrls(size, nloci, shape, ne, simname):\n",
    "    tree = treeshapes[shape]['path']\n",
    "    simrrls_call = 'simrrls -o %s -f ddrad -l %d -L %d -N %s' % (simname, size, nloci, Nes[ne])\n",
    "    if treeshapes[shape]:\n",
    "        simrrls_call = 'simrrls -o %s -f ddrad -l %d -L %d -t %s -N %s' % (simname, size, nloci, tree, Nes[ne])\n",
    "    print('Running simrrls...\\n%s\\n') % (simrrls_call)\n",
    "    subprocess.call(simrrls_call, shell=True)\n",
    "    print('Dataset %s finished.\\n') % (simname)"
   ]
  },
  {
   "cell_type": "code",
   "execution_count": 313,
   "metadata": {
    "collapsed": false
   },
   "outputs": [],
   "source": [
    "def run_pyrad(simname, pyrad = 'python ~/pyrad/pyrad/pyRAD.py '):\n",
    "    \n",
    "    # Create new params file\n",
    "    new_params_call = pyrad+'-n'\n",
    "    subprocess.call(new_params_call, shell=True)\n",
    "    \n",
    "    # Rename barcodes file so it's recognized by default by pyRAD\n",
    "    oldbcfile = simname+'_barcodes.txt'\n",
    "    newbcfile = simname+'.barcodes'\n",
    "    if not os.path.exists(newbcfile):\n",
    "        shutil.move(oldbcfile, newbcfile)\n",
    "    \n",
    "    # Read in params file\n",
    "    with open('params.txt', 'r') as p:\n",
    "        paramsdata =  p.readlines()\n",
    "    \n",
    "    # Edit lines\n",
    "    newlines = []\n",
    "    for line in paramsdata:\n",
    "        if 'Restriction overhang' in line:\n",
    "            line = 'CTGCAG, CCGG                     ## 6. Restriction overhang (e.g., C|TGCAG -> TGCAG)     (s1,s2)\\n'\n",
    "        if 'Prefix name' in line:\n",
    "            line = '%s.c88d6m4p3                 ## 14. Prefix name for final output (no spaces)         (s7)\\n' % (simname)\n",
    "        if 'output formats' in line:\n",
    "            line = '*                       ## 30.opt.: output formats: p,n,a,s,v,u,t,m,k,g,* (see docs) (s7)\\n'\n",
    "        if 'Datatype' in line:\n",
    "            line = 'ddrad                       ## 11. Datatype: rad,gbs,pairgbs,pairddrad,(others:see docs)(all)\\n'\n",
    "        newlines.append(line)\n",
    "    \n",
    "    # Write new lines\n",
    "    with open('params.txt', 'w') as p:\n",
    "        p.writelines(newlines)\n",
    "    \n",
    "    # Run pyRad\n",
    "    pyrad_call = pyrad+'-p params.txt -s 1234567'\n",
    "    print(pyrad_call)\n",
    "    subprocess.call(pyrad_call, shell=True)"
   ]
  },
  {
   "cell_type": "markdown",
   "metadata": {},
   "source": [
    "### 3. Create missing data replicates\n",
    "Idea: could we create replicated by simulating missing data multiple times instead of simRRLs and pyRAD?"
   ]
  },
  {
   "cell_type": "code",
   "execution_count": 118,
   "metadata": {
    "collapsed": true
   },
   "outputs": [],
   "source": [
    "# flatten = lambda l: [item for sublist in l for item in sublist]"
   ]
  },
  {
   "cell_type": "code",
   "execution_count": 314,
   "metadata": {
    "collapsed": true
   },
   "outputs": [],
   "source": [
    "def phylip_to_df(simname):\n",
    "    \n",
    "    # Read phylip data\n",
    "    phylip = './outfiles/%s.c88d6m4p3.phy' % (simname)\n",
    "    with open(phylip, 'r') as p:\n",
    "        phylipdata = p.readlines()\n",
    "    \n",
    "    # Split all sites \n",
    "    splitdata = []\n",
    "    for line in phylipdata[1:]:\n",
    "        splitdata.append(line.split())\n",
    "    for i, line in enumerate(splitdata):\n",
    "        splitdata[i][1] = list(splitdata[i][1])    \n",
    "    flatdata = []\n",
    "    for line in splitdata:\n",
    "        flatdata.append([line[0]]+line[1])\n",
    "    \n",
    "    # Write to dataframe\n",
    "    datadf = pd.DataFrame(flatdata)\n",
    "    datadf.set_index(keys=[0], inplace=True)\n",
    "    \n",
    "    return datadf"
   ]
  },
  {
   "cell_type": "code",
   "execution_count": 350,
   "metadata": {
    "collapsed": false
   },
   "outputs": [],
   "source": [
    "def write_missing_data(fulldf, percent, simname):\n",
    "    \n",
    "    # Create string for naming files\n",
    "    p = '.p'+str(percent).zfill(2)\n",
    "    \n",
    "    # Delete missing data from previous replicate if it exists\n",
    "    if os.path.exists(simname+p+'.nex'):\n",
    "        os.remove(simname+p+'.nex')\n",
    "    if os.path.exists(simname+p+'.phy'):\n",
    "        os.remove(simname+p+'.phy')\n",
    "    \n",
    "    # Get number of entries\n",
    "    entries = fulldf.shape[0]*fulldf.shape[1]\n",
    "    \n",
    "    # Substitute rand percent with 'N'\n",
    "    if percent==0: missingdf=fulldf\n",
    "    else: missingdf = fulldf.where(np.random.uniform(size=fulldf.shape) > float(percent/100.), 'N')\n",
    "    \n",
    "    # Convert dataframe to sequence strings\n",
    "    missinglines =[]\n",
    "    meta = ('%d %d\\n') % (fulldf.shape[0], fulldf.shape[1])\n",
    "    missinglines.append(meta)\n",
    "    for i in xrange(len(missingdf)):\n",
    "        missinglines.append('      '.join([missingdf.index[i],''.join(missingdf.ix[i])])+'\\n')\n",
    "    \n",
    "    # Write strings to phylip file\n",
    "    with open(simname+p+'.phy', 'w+') as m:\n",
    "        m.writelines(missinglines)\n",
    "        #print('Wrote %d missing data phylip file to %s') % (percent, simname+p+'.phy')\n",
    "    # Convert phlyip to nexus for PAUP\n",
    "    alignment = AlignIO.read(open(simname+p+'.phy'), \"phylip\", alphabet=Alphabet.generic_dna)\n",
    "    with open(simname+p+'.nex', \"w+\") as n:\n",
    "        n.write(alignment.format(\"nexus\"))\n",
    "        #print('Wrote %d missing data nexus file to %s') % (percent, simname+p+'.nex')\n",
    "        \n",
    "    return simname+p+'.nex'"
   ]
  },
  {
   "cell_type": "raw",
   "metadata": {},
   "source": [
    "For tractability the structure of the program needs to change from\n",
    " \n",
    " 1. Make percent missing data replicates (which takes too much space and time)\n",
    " 2. Run SVDquartets\n",
    " 3.  Make all comparisons\n",
    "\n",
    "to \n",
    "\n",
    " 1. Make missing data replicate\n",
    " 2. Run SVDquartets\n",
    " 3. Compare\n",
    " 4. Delete old files\n",
    " 5. Repeat"
   ]
  },
  {
   "cell_type": "markdown",
   "metadata": {},
   "source": [
    "### 4. Run SVDquartets"
   ]
  },
  {
   "cell_type": "code",
   "execution_count": 351,
   "metadata": {
    "collapsed": false
   },
   "outputs": [],
   "source": [
    "def write_svdq_block(nexus, percent, blockpath='/Users/IanGilman/simrrls/SVD_paupblock.txt'):\n",
    "    \n",
    "    # Read default PAUP block for funning SVDquartets\n",
    "    with open(blockpath, 'r') as b:\n",
    "        defaultblock = b.readlines()\n",
    "        \n",
    "    # Edit block lines\n",
    "    newblock = ['\\n']\n",
    "    for line in defaultblock:\n",
    "        if 'paup.log' in line:\n",
    "            line = '\\tlog file = p%s.paup.log start replace;\\n' % (str(percent).zfill(3))\n",
    "        if 'SVDquartets' in line:\n",
    "            line = \"\\tSVDquartets evalQuartets=all;\\n\"\n",
    "        if 'SaveTrees' in line:\n",
    "            line = '\\tSaveTrees file=./p%s.tre;\\n' % (str(percent).zfill(3))\n",
    "        newblock.append(line)\n",
    "\n",
    "    # Append block to nexus file\n",
    "    with open(nexus, 'a') as n:\n",
    "        n.writelines(newblock)"
   ]
  },
  {
   "cell_type": "code",
   "execution_count": 394,
   "metadata": {
    "collapsed": false
   },
   "outputs": [
    {
     "name": "stdout",
     "output_type": "stream",
     "text": [
      "/Users/IanGilman/.Trash/l100L100SlbNh 1.39.31 PM\n",
      "\n",
      "Simulation 1\n",
      "N loci:100\n",
      "Locus length: 100\n",
      "Tree shape: mb\n",
      "Ne: h\n",
      "\n",
      "Simulation name: l100L100SmbNh\n",
      "Created directory /Users/IanGilman/simrrls/newsims/l100L100SmbNh\n",
      "Current working directory: /Users/IanGilman/simrrls/newsims/l100L100SmbNh\n",
      "\n",
      "Running simrrls...\n",
      "simrrls -o l100L100SmbNh -f ddrad -l 100 -L 100 -t /Users/IanGilman/simrrls/MedBalTree -N 900000.0\n",
      "\n",
      "Dataset l100L100SmbNh finished.\n",
      "\n",
      "python ~/pyrad/pyrad/pyRAD.py -p params.txt -s 1234567\n",
      "... pyRAD finished.\n",
      "\n",
      "Creating missing data datsets...\n",
      "\n",
      "Running SVDquartets and calculating RF distances...\n",
      "\n",
      "{'p000': [0, 0, 0, 0, 0, 0, 0, 0, 0, 0],\n",
      " 'p010': [0, 0, 0, 0, 0, 0, 0, 0, 0, 0],\n",
      " 'p020': [0, 0, 0, 0, 0, 0, 0, 0, 0, 0],\n",
      " 'p030': [0, 0, 0, 0, 0, 0, 0, 0, 0, 0],\n",
      " 'p040': [0, 0, 0, 0, 0, 0, 0, 0, 0, 0],\n",
      " 'p050': [0, 0, 0, 0, 0, 0, 0, 0, 2, 0],\n",
      " 'p060': [0, 0, 6, 0, 0, 2, 0, 0, 2, 0],\n",
      " 'p070': [0, 0, 0, 2, 0, 0, 0, 2, 2, 4],\n",
      " 'p080': [6, 6, 8, 10, 8, 12, 16, 10, 8, 16],\n",
      " 'p090': [18, 16, 18, 18, 18, 18, 18, 18, 16, 18]}\n",
      "\n",
      "Finished. RF distances written to l100L100SmbNh.RF.csv\n",
      "\n",
      "\n",
      "Simulation 2\n",
      "N loci:100\n",
      "Locus length: 100\n",
      "Tree shape: mb\n",
      "Ne: m\n",
      "\n",
      "Simulation name: l100L100SmbNm\n",
      "Created directory /Users/IanGilman/simrrls/newsims/l100L100SmbNm\n",
      "Current working directory: /Users/IanGilman/simrrls/newsims/l100L100SmbNm\n",
      "\n",
      "Running simrrls...\n",
      "simrrls -o l100L100SmbNm -f ddrad -l 100 -L 100 -t /Users/IanGilman/simrrls/MedBalTree -N 250000.0\n",
      "\n",
      "Dataset l100L100SmbNm finished.\n",
      "\n",
      "python ~/pyrad/pyrad/pyRAD.py -p params.txt -s 1234567\n",
      "... pyRAD finished.\n",
      "\n",
      "Creating missing data datsets...\n",
      "\n",
      "Running SVDquartets and calculating RF distances...\n",
      "\n",
      "{'p000': [0, 0, 0, 0, 0, 0, 0, 0, 0, 0],\n",
      " 'p010': [0, 0, 0, 0, 0, 0, 0, 0, 0, 0],\n",
      " 'p020': [0, 0, 0, 0, 0, 0, 0, 0, 0, 0],\n",
      " 'p030': [0, 0, 0, 0, 0, 0, 0, 0, 0, 0],\n",
      " 'p040': [0, 0, 0, 0, 0, 0, 0, 0, 0, 0],\n",
      " 'p050': [0, 0, 2, 0, 2, 0, 0, 2, 2, 0],\n",
      " 'p060': [4, 2, 2, 4, 0, 6, 2, 2, 2, 4],\n",
      " 'p070': [6, 4, 8, 2, 2, 8, 10, 6, 8, 6],\n",
      " 'p080': [10, 8, 12, 14, 6, 10, 10, 10, 6, 14],\n",
      " 'p090': [18, 18, 18, 18, 18, 18, 16, 16, 18, 18]}\n",
      "\n",
      "Finished. RF distances written to l100L100SmbNm.RF.csv\n",
      "\n",
      "\n",
      "Simulation 3\n",
      "N loci:100\n",
      "Locus length: 100\n",
      "Tree shape: mb\n",
      "Ne: l\n",
      "\n",
      "Simulation name: l100L100SmbNl\n",
      "Created directory /Users/IanGilman/simrrls/newsims/l100L100SmbNl\n",
      "Current working directory: /Users/IanGilman/simrrls/newsims/l100L100SmbNl\n",
      "\n",
      "Running simrrls...\n",
      "simrrls -o l100L100SmbNl -f ddrad -l 100 -L 100 -t /Users/IanGilman/simrrls/MedBalTree -N 50000.0\n",
      "\n",
      "Dataset l100L100SmbNl finished.\n",
      "\n",
      "python ~/pyrad/pyrad/pyRAD.py -p params.txt -s 1234567\n",
      "... pyRAD finished.\n",
      "\n",
      "Creating missing data datsets...\n",
      "\n",
      "Running SVDquartets and calculating RF distances...\n",
      "\n",
      "{'p000': [3, 3, 3, 3, 3, 3, 3, 3, 3, 3],\n",
      " 'p010': [0, 0, 0, 0, 0, 0, 0, 0, 0, 0],\n",
      " 'p020': [0, 0, 0, 0, 0, 0, 0, 0, 0, 0],\n",
      " 'p030': [0, 0, 4, 0, 4, 0, 0, 4, 0, 0],\n",
      " 'p040': [0, 4, 8, 0, 4, 2, 4, 4, 2, 4],\n",
      " 'p050': [2, 8, 10, 8, 8, 6, 8, 4, 4, 10],\n",
      " 'p060': [6, 10, 10, 10, 8, 10, 8, 8, 8, 6],\n",
      " 'p070': [14, 6, 10, 12, 18, 14, 14, 16, 14, 14],\n",
      " 'p080': [18, 18, 16, 16, 18, 18, 18, 16, 16, 18],\n",
      " 'p090': [18, 18, 18, 18, 18, 18, 16, 16, 18, 18]}\n",
      "\n",
      "Finished. RF distances written to l100L100SmbNl.RF.csv\n",
      "\n",
      "\n",
      "Simulation 4\n",
      "N loci:100\n",
      "Locus length: 100\n",
      "Tree shape: su\n",
      "Ne: h\n",
      "\n",
      "Simulation name: l100L100SsuNh\n",
      "Created directory /Users/IanGilman/simrrls/newsims/l100L100SsuNh\n",
      "Current working directory: /Users/IanGilman/simrrls/newsims/l100L100SsuNh\n",
      "\n",
      "Running simrrls...\n",
      "simrrls -o l100L100SsuNh -f ddrad -l 100 -L 100 -t /Users/IanGilman/simrrls/ShortUnbTree -N 900000.0\n",
      "\n",
      "Dataset l100L100SsuNh finished.\n",
      "\n",
      "python ~/pyrad/pyrad/pyRAD.py -p params.txt -s 1234567\n",
      "... pyRAD finished.\n",
      "\n",
      "Creating missing data datsets...\n",
      "\n",
      "Running SVDquartets and calculating RF distances...\n",
      "\n",
      "\n"
     ]
    },
    {
     "ename": "KeyboardInterrupt",
     "evalue": "",
     "output_type": "error",
     "traceback": [
      "\u001b[0;31m---------------------------------------------------------------------------\u001b[0m",
      "\u001b[0;31mKeyboardInterrupt\u001b[0m                         Traceback (most recent call last)",
      "\u001b[0;32m<ipython-input-394-8820245fcce4>\u001b[0m in \u001b[0;36m<module>\u001b[0;34m()\u001b[0m\n\u001b[1;32m     57\u001b[0m             \u001b[0mmp\u001b[0m \u001b[0;34m=\u001b[0m \u001b[0mnexfile\u001b[0m\u001b[0;34m.\u001b[0m\u001b[0msplit\u001b[0m\u001b[0;34m(\u001b[0m\u001b[0;34m'.'\u001b[0m\u001b[0;34m)\u001b[0m\u001b[0;34m[\u001b[0m\u001b[0;36m1\u001b[0m\u001b[0;34m]\u001b[0m\u001b[0;34m\u001b[0m\u001b[0m\n\u001b[1;32m     58\u001b[0m             \u001b[0mrun_svdq_call\u001b[0m \u001b[0;34m=\u001b[0m \u001b[0;34m'paup4 -n %s'\u001b[0m \u001b[0;34m%\u001b[0m \u001b[0;34m(\u001b[0m\u001b[0mnexfile\u001b[0m\u001b[0;34m)\u001b[0m\u001b[0;34m\u001b[0m\u001b[0m\n\u001b[0;32m---> 59\u001b[0;31m             \u001b[0msubprocess\u001b[0m\u001b[0;34m.\u001b[0m\u001b[0mcall\u001b[0m\u001b[0;34m(\u001b[0m\u001b[0mrun_svdq_call\u001b[0m\u001b[0;34m,\u001b[0m \u001b[0mshell\u001b[0m\u001b[0;34m=\u001b[0m\u001b[0mTrue\u001b[0m\u001b[0;34m)\u001b[0m\u001b[0;34m\u001b[0m\u001b[0m\n\u001b[0m\u001b[1;32m     60\u001b[0m \u001b[0;34m\u001b[0m\u001b[0m\n\u001b[1;32m     61\u001b[0m         \u001b[0mtreefiles\u001b[0m \u001b[0;34m=\u001b[0m \u001b[0;34m[\u001b[0m\u001b[0mfilename\u001b[0m \u001b[0;32mfor\u001b[0m \u001b[0mfilename\u001b[0m \u001b[0;32min\u001b[0m \u001b[0mos\u001b[0m\u001b[0;34m.\u001b[0m\u001b[0mlistdir\u001b[0m\u001b[0;34m(\u001b[0m\u001b[0mos\u001b[0m\u001b[0;34m.\u001b[0m\u001b[0mgetcwd\u001b[0m\u001b[0;34m(\u001b[0m\u001b[0;34m)\u001b[0m\u001b[0;34m)\u001b[0m \u001b[0;32mif\u001b[0m \u001b[0mfilename\u001b[0m\u001b[0;34m.\u001b[0m\u001b[0mendswith\u001b[0m\u001b[0;34m(\u001b[0m\u001b[0;34m'.tre'\u001b[0m\u001b[0;34m)\u001b[0m\u001b[0;34m]\u001b[0m\u001b[0;34m\u001b[0m\u001b[0m\n",
      "\u001b[0;32m/Users/IanGilman/anaconda2/lib/python2.7/subprocess.pyc\u001b[0m in \u001b[0;36mcall\u001b[0;34m(*popenargs, **kwargs)\u001b[0m\n\u001b[1;32m    521\u001b[0m     \u001b[0mretcode\u001b[0m \u001b[0;34m=\u001b[0m \u001b[0mcall\u001b[0m\u001b[0;34m(\u001b[0m\u001b[0;34m[\u001b[0m\u001b[0;34m\"ls\"\u001b[0m\u001b[0;34m,\u001b[0m \u001b[0;34m\"-l\"\u001b[0m\u001b[0;34m]\u001b[0m\u001b[0;34m)\u001b[0m\u001b[0;34m\u001b[0m\u001b[0m\n\u001b[1;32m    522\u001b[0m     \"\"\"\n\u001b[0;32m--> 523\u001b[0;31m     \u001b[0;32mreturn\u001b[0m \u001b[0mPopen\u001b[0m\u001b[0;34m(\u001b[0m\u001b[0;34m*\u001b[0m\u001b[0mpopenargs\u001b[0m\u001b[0;34m,\u001b[0m \u001b[0;34m**\u001b[0m\u001b[0mkwargs\u001b[0m\u001b[0;34m)\u001b[0m\u001b[0;34m.\u001b[0m\u001b[0mwait\u001b[0m\u001b[0;34m(\u001b[0m\u001b[0;34m)\u001b[0m\u001b[0;34m\u001b[0m\u001b[0m\n\u001b[0m\u001b[1;32m    524\u001b[0m \u001b[0;34m\u001b[0m\u001b[0m\n\u001b[1;32m    525\u001b[0m \u001b[0;34m\u001b[0m\u001b[0m\n",
      "\u001b[0;32m/Users/IanGilman/anaconda2/lib/python2.7/subprocess.pyc\u001b[0m in \u001b[0;36mwait\u001b[0;34m(self)\u001b[0m\n\u001b[1;32m   1390\u001b[0m             \u001b[0;32mwhile\u001b[0m \u001b[0mself\u001b[0m\u001b[0;34m.\u001b[0m\u001b[0mreturncode\u001b[0m \u001b[0;32mis\u001b[0m \u001b[0mNone\u001b[0m\u001b[0;34m:\u001b[0m\u001b[0;34m\u001b[0m\u001b[0m\n\u001b[1;32m   1391\u001b[0m                 \u001b[0;32mtry\u001b[0m\u001b[0;34m:\u001b[0m\u001b[0;34m\u001b[0m\u001b[0m\n\u001b[0;32m-> 1392\u001b[0;31m                     \u001b[0mpid\u001b[0m\u001b[0;34m,\u001b[0m \u001b[0msts\u001b[0m \u001b[0;34m=\u001b[0m \u001b[0m_eintr_retry_call\u001b[0m\u001b[0;34m(\u001b[0m\u001b[0mos\u001b[0m\u001b[0;34m.\u001b[0m\u001b[0mwaitpid\u001b[0m\u001b[0;34m,\u001b[0m \u001b[0mself\u001b[0m\u001b[0;34m.\u001b[0m\u001b[0mpid\u001b[0m\u001b[0;34m,\u001b[0m \u001b[0;36m0\u001b[0m\u001b[0;34m)\u001b[0m\u001b[0;34m\u001b[0m\u001b[0m\n\u001b[0m\u001b[1;32m   1393\u001b[0m                 \u001b[0;32mexcept\u001b[0m \u001b[0mOSError\u001b[0m \u001b[0;32mas\u001b[0m \u001b[0me\u001b[0m\u001b[0;34m:\u001b[0m\u001b[0;34m\u001b[0m\u001b[0m\n\u001b[1;32m   1394\u001b[0m                     \u001b[0;32mif\u001b[0m \u001b[0me\u001b[0m\u001b[0;34m.\u001b[0m\u001b[0merrno\u001b[0m \u001b[0;34m!=\u001b[0m \u001b[0merrno\u001b[0m\u001b[0;34m.\u001b[0m\u001b[0mECHILD\u001b[0m\u001b[0;34m:\u001b[0m\u001b[0;34m\u001b[0m\u001b[0m\n",
      "\u001b[0;32m/Users/IanGilman/anaconda2/lib/python2.7/subprocess.pyc\u001b[0m in \u001b[0;36m_eintr_retry_call\u001b[0;34m(func, *args)\u001b[0m\n\u001b[1;32m    474\u001b[0m     \u001b[0;32mwhile\u001b[0m \u001b[0mTrue\u001b[0m\u001b[0;34m:\u001b[0m\u001b[0;34m\u001b[0m\u001b[0m\n\u001b[1;32m    475\u001b[0m         \u001b[0;32mtry\u001b[0m\u001b[0;34m:\u001b[0m\u001b[0;34m\u001b[0m\u001b[0m\n\u001b[0;32m--> 476\u001b[0;31m             \u001b[0;32mreturn\u001b[0m \u001b[0mfunc\u001b[0m\u001b[0;34m(\u001b[0m\u001b[0;34m*\u001b[0m\u001b[0margs\u001b[0m\u001b[0;34m)\u001b[0m\u001b[0;34m\u001b[0m\u001b[0m\n\u001b[0m\u001b[1;32m    477\u001b[0m         \u001b[0;32mexcept\u001b[0m \u001b[0;34m(\u001b[0m\u001b[0mOSError\u001b[0m\u001b[0;34m,\u001b[0m \u001b[0mIOError\u001b[0m\u001b[0;34m)\u001b[0m \u001b[0;32mas\u001b[0m \u001b[0me\u001b[0m\u001b[0;34m:\u001b[0m\u001b[0;34m\u001b[0m\u001b[0m\n\u001b[1;32m    478\u001b[0m             \u001b[0;32mif\u001b[0m \u001b[0me\u001b[0m\u001b[0;34m.\u001b[0m\u001b[0merrno\u001b[0m \u001b[0;34m==\u001b[0m \u001b[0merrno\u001b[0m\u001b[0;34m.\u001b[0m\u001b[0mEINTR\u001b[0m\u001b[0;34m:\u001b[0m\u001b[0;34m\u001b[0m\u001b[0m\n",
      "\u001b[0;31mKeyboardInterrupt\u001b[0m: "
     ]
    }
   ],
   "source": [
    "print(os.getcwd())\n",
    "\n",
    "## Loop over all combinations\n",
    "for i, combo in tqdm_notebook(enumerate(combos[:10]), desc='Simulation'):\n",
    "    \n",
    "    ## For convenience\n",
    "    size = combo[0]\n",
    "    number = combo[1]\n",
    "    shape = combo[2]\n",
    "    ne = combo[3]\n",
    "    \n",
    "    # Create tree object from true topology\n",
    "    truetree = dendropy.Tree.get_from_string(treeshapes[shape]['tree'], schema='newick')\n",
    "    \n",
    "    # Create dict to fill of tree distances\n",
    "    percents = ['p'+str(rate).zfill(3) for rate in range(0,95, 10)]\n",
    "    treedist = {}\n",
    "    for key in percents:\n",
    "        treedist[key] = []\n",
    "\n",
    "    ## Create simulation name\n",
    "    print('\\nSimulation %d\\nN loci:%d\\nLocus length: %d\\nTree shape: %s\\nNe: %s\\n') % (i+1, number, size, shape, ne)\n",
    "    simname = 'l%sL%sS%sN%s' % (size, number, shape, ne)\n",
    "    print('Simulation name: %s') % (simname)\n",
    "    \n",
    "    ## Create/move to simulation directory\n",
    "    cursimdir = os.path.join(newsimsdir, simname)\n",
    "    try: \n",
    "        os.mkdir(cursimdir)\n",
    "        print('Created directory %s') % (cursimdir)\n",
    "    except OSError: print('Directory %s exists') % (cursimdir)\n",
    "    os.chdir(cursimdir)\n",
    "    print('Current working directory: %s\\n') % (os.getcwd())\n",
    "    \n",
    "    ## Run simulation and pyRAD if not already done\n",
    "    if not os.path.exists(simname+'_R1_.fastq.gz'):\n",
    "        run_simrrls(size=size, nloci=number, shape=shape, ne=ne, simname=simname)\n",
    "    else: print('Dataset %s already simulated. Move/remove it to rerun. Continuing to pyRAD...\\n') % (simname)\n",
    "    run_pyrad(simname)\n",
    "    print('... pyRAD finished.\\n')\n",
    "    \n",
    "    ## Want to create and analyze 10 replicates of missing data\n",
    "    ## Create missing data datasets\n",
    "    print('Creating missing data datsets...\\n')\n",
    "    # Read phylip file to datframe \n",
    "    fulldata = phylip_to_df(simname=simname)\n",
    "    \n",
    "    print('Running SVDquartets and calculating RF distances...\\n')\n",
    "    for i in tqdm_notebook(range(10), desc='Missing data replicates', leave = False):\n",
    "        # Write/replace nexus files and append PAUP blocks\n",
    "        for mp in tqdm_notebook(range(0, 95, 10), desc='Percent missing', leave=False):\n",
    "            nexusfile = write_missing_data(fulldf=fulldata, percent=mp, simname=simname)\n",
    "            write_svdq_block(nexus=nexusfile, percent=mp)\n",
    "\n",
    "        nexusfiles = [filename for filename in os.listdir(os.getcwd()) if filename.endswith('.nex')]\n",
    "        for nexfile in tqdm_notebook(nexusfiles, desc='SVDquartets', leave=False):\n",
    "            mp = nexfile.split('.')[1]\n",
    "            run_svdq_call = 'paup4 -n %s' % (nexfile)\n",
    "            subprocess.call(run_svdq_call, shell=True)\n",
    "\n",
    "        treefiles = [filename for filename in os.listdir(os.getcwd()) if filename.endswith('.tre')]\n",
    "        for tree in treefiles:\n",
    "            key = tree.split('.')[0]\n",
    "            t = dendropy.Tree.get_from_path(tree, schema='nexus')\n",
    "            t.symmetric_difference(truetree)\n",
    "            try: treedist[key].append(truetree.symmetric_difference(t))\n",
    "            except KeyError: continue\n",
    "    \n",
    "    pprint(treedist)\n",
    "    pd.DataFrame.from_dict(treedist).to_csv(path_or_buf=simname+'.RF.csv')\n",
    "    \n",
    "    print('\\nFinished. RF distances written to %s\\n') % (simname+'.RF.csv')"
   ]
  },
  {
   "cell_type": "markdown",
   "metadata": {
    "collapsed": true
   },
   "source": [
    "## 5. Run GARLI\n",
    "For all loci from all runs we will run GARLI to create input for ASTRAL\n",
    "\n",
    "* Read in GARLI.conf example from `~/Garli/example/basic/garli.conf`\n",
    "* Make list of all directories\n",
    "* For each directory, `cd` and make list of nexus files\n",
    "* For each nexus file create a new garli.conf file\n",
    "    * \n",
    "* Run GARLI for 5 trees? This is 60 (datasets) x 16 (missing data rates) x 5 (trees)= 4800 trees to estimate"
   ]
  },
  {
   "cell_type": "markdown",
   "metadata": {},
   "source": [
    "## 6. Copy all files to directory for ASTRAL analysis"
   ]
  },
  {
   "cell_type": "code",
   "execution_count": 5,
   "metadata": {
    "collapsed": false
   },
   "outputs": [
    {
     "data": {
      "text/plain": [
       "100000.0"
      ]
     },
     "execution_count": 5,
     "metadata": {},
     "output_type": "execute_result"
    }
   ],
   "source": [
    "1e5"
   ]
  },
  {
   "cell_type": "code",
   "execution_count": null,
   "metadata": {
    "collapsed": true
   },
   "outputs": [],
   "source": []
  }
 ],
 "metadata": {
  "anaconda-cloud": {},
  "kernelspec": {
   "display_name": "Python 2",
   "language": "python",
   "name": "python2"
  },
  "language_info": {
   "codemirror_mode": {
    "name": "ipython",
    "version": 2
   },
   "file_extension": ".py",
   "mimetype": "text/x-python",
   "name": "python",
   "nbconvert_exporter": "python",
   "pygments_lexer": "ipython2",
   "version": "2.7.12"
  }
 },
 "nbformat": 4,
 "nbformat_minor": 2
}
