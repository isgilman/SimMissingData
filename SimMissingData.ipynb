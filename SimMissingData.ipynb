{
 "cells": [
  {
   "cell_type": "markdown",
   "metadata": {},
   "source": [
    "# Simulating the effects of missing data in *SVDquartets*\n",
    "To explore the effects of missing data on the accuracy of *SVDquartets*, ddrad datasets will be simulated, varying levels of data will be convereted to `N`'s, *SVDquartets* will be run, and accuracy will be assessed with the Robinson-Foulds distance. Here's a brief outline:\n",
    "\n",
    "1. Load modules, make a few useful definitions\n",
    "2. Simulate datasets\n",
    "  \n",
    " 2.1 Define simulation parameters\n",
    "    * Data type\n",
    "    * Locus size\n",
    "    * Number of loci per library\n",
    "    * Effective population size\n",
    "    * True tree simulated under\n",
    "    \n",
    " 2.2 Run *simRRLs* and *pyRAD*\n",
    "3. Create missing data replicates\n",
    "4. Run *SVDquartets*\n",
    "5. Calculate RF distance\n",
    "6. Parallelize\n",
    "\n",
    "**I highly recommend reading the docs for [*simRRLS*](http://dereneaton.com/radseq/simulating_raw_radseq_data/), [*(i)pyRAD*](http://dereneaton.com/software/pyrad/), and [*ASTRAL-II*](https://github.com/smirarab/ASTRAL/blob/master/astral-tutorial.md). SVDquartets does not have a devoted docs/tutorials page but [Dr. Laura Kubatko's molevol page is very helpful](https://molevol.mbl.edu/index.php/Laura_Kubatko)** \n",
    "    "
   ]
  },
  {
   "cell_type": "markdown",
   "metadata": {},
   "source": [
    "### 1. Load modules, make a few useful definitions"
   ]
  },
  {
   "cell_type": "code",
   "execution_count": 53,
   "metadata": {
    "collapsed": false
   },
   "outputs": [],
   "source": [
    "# Handle IO, sysargs, subprocesses\n",
    "import sys\n",
    "import os\n",
    "import shutil\n",
    "import subprocess\n",
    "from subprocess import Popen, PIPE\n",
    "import glob\n",
    "# Data parsing\n",
    "import numpy as np\n",
    "import pandas as pd\n",
    "import numpy.random as rand\n",
    "import re\n",
    "# Bioinformatics\n",
    "from Bio import AlignIO, Alphabet\n",
    "import dendropy\n",
    "from ete3 import Tree, TreeStyle\n",
    "# Parallelization\n",
    "from multiprocessing import Pool, Process, current_process, cpu_count\n",
    "from multiprocessing.managers import SyncManager\n",
    "import signal\n",
    "# Loading bars and miscellaneous\n",
    "from tqdm import tqdm, tnrange, tqdm_notebook"
   ]
  },
  {
   "cell_type": "markdown",
   "metadata": {},
   "source": [
    "The next few definitions make our work a little easier and more readable."
   ]
  },
  {
   "cell_type": "code",
   "execution_count": 54,
   "metadata": {
    "collapsed": true
   },
   "outputs": [],
   "source": [
    "def listabs(directory):\n",
    "    '''Returns the absolute path of all items in a directory\n",
    "    \n",
    "    Parameters\n",
    "    ----------\n",
    "    directory : path to directory'''\n",
    "    return [os.path.join(directory, filename) for filename in os.listdir(directory)]"
   ]
  },
  {
   "cell_type": "code",
   "execution_count": 55,
   "metadata": {
    "collapsed": true
   },
   "outputs": [],
   "source": [
    "class Vividict(dict):\n",
    "    '''An infinitely nestable dictionary\n",
    "    \n",
    "    Parameters\n",
    "    -----------\n",
    "    dict : a dictionary\n",
    "     '''\n",
    "    def __missing__(self, key):\n",
    "        value = self[key] = type(self)() # retain local pointer to value\n",
    "        return value                     # faster to return than dict lookup"
   ]
  },
  {
   "cell_type": "code",
   "execution_count": 56,
   "metadata": {
    "collapsed": true
   },
   "outputs": [],
   "source": [
    "def remove_all(directory):\n",
    "    '''Recursively removes everything in a directory\n",
    "    \n",
    "    Parameters\n",
    "    ----------\n",
    "    directory : path to directory'''\n",
    "    files = glob.glob(directory+'*')\n",
    "    for f in files:\n",
    "        if os.path.isdir(f): shutil.rmtree(f)\n",
    "        else: os.remove(f)"
   ]
  },
  {
   "cell_type": "code",
   "execution_count": 57,
   "metadata": {
    "collapsed": true
   },
   "outputs": [],
   "source": [
    "def multiply_strints(mystring, by):\n",
    "    '''Multiplies all integers in a string by a value.\n",
    "    \n",
    "    Parameters\n",
    "    ----------\n",
    "    mystring : a string\n",
    "    by : factor to multiply by '''\n",
    "    return re.sub(\n",
    "        re.compile(\"\\d+\"), \n",
    "        lambda matchobj: str(int(matchobj.group(0))*by), mystring)"
   ]
  },
  {
   "cell_type": "code",
   "execution_count": 58,
   "metadata": {
    "collapsed": true
   },
   "outputs": [],
   "source": [
    "flatten = lambda l: [item for sublist in l for item in sublist]"
   ]
  },
  {
   "cell_type": "markdown",
   "metadata": {},
   "source": [
    "## 2. Simulate datasets"
   ]
  },
  {
   "cell_type": "markdown",
   "metadata": {},
   "source": [
    "First, let's create (if we haven't already) and move into a new directory where our simulations will live"
   ]
  },
  {
   "cell_type": "code",
   "execution_count": 59,
   "metadata": {
    "collapsed": false
   },
   "outputs": [
    {
     "name": "stdout",
     "output_type": "stream",
     "text": [
      "Current working directory: /Users/IanGilman/pythonscripts/SimMissingData/l100L200SmbNl\n",
      "\n",
      "Directory /Users/IanGilman/pythonscripts/SimMissingData/ already exists\n",
      "\n",
      "Current working directory: /Users/IanGilman/pythonscripts/SimMissingData\n",
      "\n"
     ]
    }
   ],
   "source": [
    "print('Current working directory: %s\\n') % (os.getcwd())\n",
    "sim_dir = '/Users/IanGilman/pythonscripts/SimMissingData/'\n",
    "try: \n",
    "    os.mkdir(sim_dir)\n",
    "    print('Created new simulation directory: %s\\n') % (sim_dir)\n",
    "except OSError: \n",
    "    print('Directory %s already exists\\n') % (sim_dir)\n",
    "os.chdir(sim_dir)\n",
    "print('Current working directory: %s\\n') % (os.getcwd())"
   ]
  },
  {
   "cell_type": "markdown",
   "metadata": {},
   "source": [
    "### 2.1 Define simulation parameters\n",
    "Next, we'll define the tree to simulate under. We'll stick with a balanced tree with internal branch lengths of 1.0 coalescent units for now. At the end we'll put everything together to run any number of different topologies/parameters in a parallelized way."
   ]
  },
  {
   "cell_type": "code",
   "execution_count": 60,
   "metadata": {
    "collapsed": true
   },
   "outputs": [],
   "source": [
    "MedBalTree = '(((((A:1,B:1):1,C:2):1,D:3):1,(((E:1,F:1):1,G:2):1,H:3):1):1,(((I:1,J:1):1,K:2):1,L:3):2);'\n",
    "path = os.path.join(sim_dir, 'MedBalTree')\n",
    "if not os.path.exists(path):\n",
    "    with open(path, 'w+') as f:\n",
    "        f.write(MedBalTree)"
   ]
  },
  {
   "cell_type": "markdown",
   "metadata": {},
   "source": [
    "We can view the topology we're simulating under using the ete3 module. We'll add the branch length (in coalescent units) along the tops of the branches."
   ]
  },
  {
   "cell_type": "code",
   "execution_count": 61,
   "metadata": {
    "collapsed": false
   },
   "outputs": [
    {
     "data": {
      "image/png": "[encoded data removed]",
      "text/plain": [
       "<IPython.core.display.Image object>"
      ]
     },
     "execution_count": 61,
     "metadata": {},
     "output_type": "execute_result"
    }
   ],
   "source": [
    "ts = TreeStyle()\n",
    "ts.show_leaf_name = True\n",
    "ts.show_branch_length = True\n",
    "tree = Tree(MedBalTree)\n",
    "tree.render(\"%%inline\", w =500, tree_style=ts)"
   ]
  },
  {
   "cell_type": "markdown",
   "metadata": {},
   "source": [
    "For speed, we'll work with a small data set of 200 loci, all of length 100bp, and all taxa will have an effective population size ($N_e$) of $1e5$, which is constant in size along all branches."
   ]
  },
  {
   "cell_type": "code",
   "execution_count": 62,
   "metadata": {
    "collapsed": true
   },
   "outputs": [],
   "source": [
    "sim_params = {'n_loci':200, 'locus_size':100, 'Ne':1e5, 'treeshape':'mb', 'treepath':path, 'Ne_cat': 'l'}"
   ]
  },
  {
   "cell_type": "markdown",
   "metadata": {},
   "source": [
    "Finally, we need a simulation name for output files that's informative about the simulation parameters (for when we have many simulations). I'll stick with a format indicative of the parameters passed to *simRRLs*: `l<locus_size>L<n_loci>S<treeshape>N<Ne>`. I'll refer to $N_e$ as 'l' (low, $1e4$), 'm' (medium, $1e5$), and 'h' (high, $1e6$). Note that 'mb' refers to medium, balanced."
   ]
  },
  {
   "cell_type": "code",
   "execution_count": 63,
   "metadata": {
    "collapsed": false
   },
   "outputs": [
    {
     "name": "stdout",
     "output_type": "stream",
     "text": [
      "l100L200SmbNl\n"
     ]
    }
   ],
   "source": [
    "simname = 'l%dL%dS%sN%s' % (sim_params['locus_size'], sim_params['n_loci'], sim_params['treeshape'], \n",
    "                            sim_params['Ne_cat'])\n",
    "print simname"
   ]
  },
  {
   "cell_type": "markdown",
   "metadata": {},
   "source": [
    "### 2.2 Run *simRRLs* and *pyRAD*"
   ]
  },
  {
   "cell_type": "markdown",
   "metadata": {},
   "source": [
    "We'll want to have a separate directory for each simulation."
   ]
  },
  {
   "cell_type": "code",
   "execution_count": 64,
   "metadata": {
    "collapsed": false
   },
   "outputs": [
    {
     "name": "stdout",
     "output_type": "stream",
     "text": [
      "Current working directory: /Users/IanGilman/pythonscripts/SimMissingData\n",
      "\n",
      "Directory /Users/IanGilman/pythonscripts/SimMissingData/l100L200SmbNl already exists\n",
      "\n",
      "Current working directory: /Users/IanGilman/pythonscripts/SimMissingData/l100L200SmbNl\n",
      "\n"
     ]
    }
   ],
   "source": [
    "print('Current working directory: %s\\n') % (os.getcwd())\n",
    "current_simdir = os.path.join('/Users/IanGilman/pythonscripts/SimMissingData/', simname)\n",
    "try: \n",
    "    os.mkdir(current_simdir)\n",
    "    print('Created new simulation directory: %s\\n') % (current_simdir)\n",
    "except OSError: \n",
    "    print('Directory %s already exists\\n') % (current_simdir)\n",
    "os.chdir(current_simdir)\n",
    "print('Current working directory: %s\\n') % (os.getcwd())"
   ]
  },
  {
   "cell_type": "markdown",
   "metadata": {},
   "source": [
    "**Run *simRRLs***"
   ]
  },
  {
   "cell_type": "markdown",
   "metadata": {},
   "source": [
    "I'm interested in ddRAD because of my empirical work in *Chloropyron* (Orobanchaceae), but RAD, GBS, paired-end ddRAD, and paired-end GBS can also be simulated. Here's what our command would look like entered into the command line:"
   ]
  },
  {
   "cell_type": "code",
   "execution_count": 65,
   "metadata": {
    "collapsed": false
   },
   "outputs": [
    {
     "name": "stdout",
     "output_type": "stream",
     "text": [
      "bash\n",
      ">> -o l100L200SmbNl -f ddrad -l 100 -L 200 -N 100000.0 -t /Users/IanGilman/pythonscripts/SimMissingData/MedBalTree\n"
     ]
    }
   ],
   "source": [
    "simrrlls_call = '-o %s -f ddrad -l %d -L %d -N %s -t %s' % (simname, \n",
    "                                                            sim_params['locus_size'], \n",
    "                                                            sim_params['n_loci'],\n",
    "                                                            sim_params['Ne'],\n",
    "                                                            sim_params['treepath'])\n",
    "print(\"bash\\n>> %s\") % (simrrlls_call)"
   ]
  },
  {
   "cell_type": "markdown",
   "metadata": {},
   "source": [
    "Note that the final command in the chunk below, `<function>.wait()`, waits for the `<function>` subprocess to finish before continuing. It will return '0' be default."
   ]
  },
  {
   "cell_type": "code",
   "execution_count": 66,
   "metadata": {
    "collapsed": false
   },
   "outputs": [
    {
     "data": {
      "text/plain": [
       "0"
      ]
     },
     "execution_count": 66,
     "metadata": {},
     "output_type": "execute_result"
    }
   ],
   "source": [
    "run_simrrls = Popen(['simrrls', '-o', simname, \n",
    "                      '-f', 'ddrad', \n",
    "                      '-l', str(sim_params['locus_size']), \n",
    "                      '-L', str(sim_params['n_loci']), \n",
    "                      '-N', str(sim_params['Ne']),\n",
    "                      '-t', sim_params['treepath']])\n",
    "run_simrrls.wait()"
   ]
  },
  {
   "cell_type": "markdown",
   "metadata": {},
   "source": [
    "**Run *pyRAD***\n",
    "\n",
    "To run *pyRAD* we'll first need to create a params file. We'll create one, slightly change the barcode file path name from *simRRLs* so it's recognized by default by *pyRAD*, and change a few settings. For the purpose of our study, we'll change the restriction overhang, number of processors, datatype, output prefix, and output formats."
   ]
  },
  {
   "cell_type": "code",
   "execution_count": 67,
   "metadata": {
    "collapsed": false
   },
   "outputs": [
    {
     "name": "stdout",
     "output_type": "stream",
     "text": [
      "bash\n",
      ">> pyrad -n\n"
     ]
    },
    {
     "data": {
      "text/plain": [
       "0"
      ]
     },
     "execution_count": 67,
     "metadata": {},
     "output_type": "execute_result"
    }
   ],
   "source": [
    "new_params_call = 'pyrad -n' \n",
    "print(\"bash\\n>> %s\") % (new_params_call)\n",
    "create_new_params = Popen(['/Users/IanGilman/pyrad/pyrad/pyRAD.py', '-n'])\n",
    "create_new_params.wait()"
   ]
  },
  {
   "cell_type": "code",
   "execution_count": 68,
   "metadata": {
    "collapsed": true
   },
   "outputs": [],
   "source": [
    "old_bc_file = simname+'_barcodes.txt'\n",
    "new_bc_file = simname+'.barcodes'\n",
    "if not os.path.exists(new_bc_file):\n",
    "    shutil.move(old_bc_file, new_bc_file)"
   ]
  },
  {
   "cell_type": "code",
   "execution_count": 69,
   "metadata": {
    "collapsed": false
   },
   "outputs": [],
   "source": [
    "# Read old lines\n",
    "with open('params.txt', 'r') as p:\n",
    "    paramsdata =  p.readlines()\n",
    "\n",
    "# Edit lines\n",
    "newlines = []\n",
    "for line in paramsdata:\n",
    "    if 'Restriction overhang' in line:\n",
    "        line = 'CTGCAG, CCGG                     ## 6. Restriction overhang (e.g., C|TGCAG -> TGCAG)     (s1,s2)\\n'\n",
    "    if 'N processors' in line:\n",
    "        line = '%d                         ## 7. N processors (parallel)                           (all)\\n' % (cpu_count())\n",
    "    if 'Datatype' in line:\n",
    "        line = 'ddrad                       ## 11. Datatype: rad,gbs,pairgbs,pairddrad,(others:see docs)(all)\\n'\n",
    "    if 'Prefix name' in line:\n",
    "        line = '%s.c88d6m4p3                 ## 14. Prefix name for final output (no spaces)         (s7)\\n' % (simname)\n",
    "    if 'output formats' in line:\n",
    "        line = '*                       ## 30.opt.: output formats: p,n,a,s,v,u,t,m,k,g,* (see docs) (s7)\\n'\n",
    "    newlines.append(line)\n",
    "\n",
    "# Write new lines\n",
    "with open('params.txt', 'w') as p:\n",
    "    p.writelines(newlines)"
   ]
  },
  {
   "cell_type": "markdown",
   "metadata": {},
   "source": [
    "Now we're ready to run *pyRAD*"
   ]
  },
  {
   "cell_type": "code",
   "execution_count": 70,
   "metadata": {
    "collapsed": false
   },
   "outputs": [
    {
     "name": "stdout",
     "output_type": "stream",
     "text": [
      "bash\n",
      ">> pyrad -p params.txt -s 1234567\n"
     ]
    },
    {
     "data": {
      "text/plain": [
       "0"
      ]
     },
     "execution_count": 70,
     "metadata": {},
     "output_type": "execute_result"
    }
   ],
   "source": [
    "pyrad_call = 'pyrad -p params.txt -s 1234567' \n",
    "print(\"bash\\n>> %s\") % (pyrad_call)\n",
    "run_pyrad = Popen(['/Users/IanGilman/pyrad/pyrad/pyRAD.py', '-p', 'params.txt', '-s', '1234567'])\n",
    "run_pyrad.wait()"
   ]
  },
  {
   "cell_type": "markdown",
   "metadata": {},
   "source": [
    "### 3. Create missing data replicates\n",
    "\n",
    "With our output files in hand, we can now randomly remove data. We'll work with phylip files for simplicity, but have to convert back to nexus for input into PAUP*. We'll begin by reading a phylip file into a DataFrame."
   ]
  },
  {
   "cell_type": "code",
   "execution_count": 71,
   "metadata": {
    "collapsed": false
   },
   "outputs": [
    {
     "data": {
      "text/html": [
       "<div>\n",
       "<table border=\"1\" class=\"dataframe\">\n",
       "  <thead>\n",
       "    <tr style=\"text-align: right;\">\n",
       "      <th></th>\n",
       "      <th>1</th>\n",
       "      <th>2</th>\n",
       "      <th>3</th>\n",
       "      <th>4</th>\n",
       "      <th>5</th>\n",
       "      <th>6</th>\n",
       "      <th>7</th>\n",
       "      <th>8</th>\n",
       "      <th>9</th>\n",
       "      <th>10</th>\n",
       "      <th>...</th>\n",
       "      <th>16991</th>\n",
       "      <th>16992</th>\n",
       "      <th>16993</th>\n",
       "      <th>16994</th>\n",
       "      <th>16995</th>\n",
       "      <th>16996</th>\n",
       "      <th>16997</th>\n",
       "      <th>16998</th>\n",
       "      <th>16999</th>\n",
       "      <th>17000</th>\n",
       "    </tr>\n",
       "    <tr>\n",
       "      <th>0</th>\n",
       "      <th></th>\n",
       "      <th></th>\n",
       "      <th></th>\n",
       "      <th></th>\n",
       "      <th></th>\n",
       "      <th></th>\n",
       "      <th></th>\n",
       "      <th></th>\n",
       "      <th></th>\n",
       "      <th></th>\n",
       "      <th></th>\n",
       "      <th></th>\n",
       "      <th></th>\n",
       "      <th></th>\n",
       "      <th></th>\n",
       "      <th></th>\n",
       "      <th></th>\n",
       "      <th></th>\n",
       "      <th></th>\n",
       "      <th></th>\n",
       "      <th></th>\n",
       "    </tr>\n",
       "  </thead>\n",
       "  <tbody>\n",
       "    <tr>\n",
       "      <th>A_0</th>\n",
       "      <td>T</td>\n",
       "      <td>G</td>\n",
       "      <td>A</td>\n",
       "      <td>T</td>\n",
       "      <td>T</td>\n",
       "      <td>T</td>\n",
       "      <td>C</td>\n",
       "      <td>C</td>\n",
       "      <td>C</td>\n",
       "      <td>G</td>\n",
       "      <td>...</td>\n",
       "      <td>A</td>\n",
       "      <td>G</td>\n",
       "      <td>T</td>\n",
       "      <td>G</td>\n",
       "      <td>C</td>\n",
       "      <td>G</td>\n",
       "      <td>G</td>\n",
       "      <td>A</td>\n",
       "      <td>C</td>\n",
       "      <td>T</td>\n",
       "    </tr>\n",
       "    <tr>\n",
       "      <th>B_0</th>\n",
       "      <td>T</td>\n",
       "      <td>G</td>\n",
       "      <td>A</td>\n",
       "      <td>T</td>\n",
       "      <td>T</td>\n",
       "      <td>T</td>\n",
       "      <td>C</td>\n",
       "      <td>C</td>\n",
       "      <td>C</td>\n",
       "      <td>G</td>\n",
       "      <td>...</td>\n",
       "      <td>A</td>\n",
       "      <td>G</td>\n",
       "      <td>T</td>\n",
       "      <td>G</td>\n",
       "      <td>C</td>\n",
       "      <td>G</td>\n",
       "      <td>G</td>\n",
       "      <td>A</td>\n",
       "      <td>C</td>\n",
       "      <td>T</td>\n",
       "    </tr>\n",
       "    <tr>\n",
       "      <th>C_0</th>\n",
       "      <td>T</td>\n",
       "      <td>G</td>\n",
       "      <td>A</td>\n",
       "      <td>T</td>\n",
       "      <td>T</td>\n",
       "      <td>T</td>\n",
       "      <td>C</td>\n",
       "      <td>C</td>\n",
       "      <td>C</td>\n",
       "      <td>G</td>\n",
       "      <td>...</td>\n",
       "      <td>A</td>\n",
       "      <td>G</td>\n",
       "      <td>T</td>\n",
       "      <td>G</td>\n",
       "      <td>C</td>\n",
       "      <td>G</td>\n",
       "      <td>G</td>\n",
       "      <td>A</td>\n",
       "      <td>C</td>\n",
       "      <td>T</td>\n",
       "    </tr>\n",
       "    <tr>\n",
       "      <th>D_0</th>\n",
       "      <td>T</td>\n",
       "      <td>G</td>\n",
       "      <td>A</td>\n",
       "      <td>T</td>\n",
       "      <td>T</td>\n",
       "      <td>T</td>\n",
       "      <td>C</td>\n",
       "      <td>S</td>\n",
       "      <td>C</td>\n",
       "      <td>G</td>\n",
       "      <td>...</td>\n",
       "      <td>A</td>\n",
       "      <td>G</td>\n",
       "      <td>T</td>\n",
       "      <td>G</td>\n",
       "      <td>C</td>\n",
       "      <td>G</td>\n",
       "      <td>G</td>\n",
       "      <td>A</td>\n",
       "      <td>C</td>\n",
       "      <td>T</td>\n",
       "    </tr>\n",
       "    <tr>\n",
       "      <th>E_0</th>\n",
       "      <td>T</td>\n",
       "      <td>G</td>\n",
       "      <td>A</td>\n",
       "      <td>T</td>\n",
       "      <td>T</td>\n",
       "      <td>T</td>\n",
       "      <td>C</td>\n",
       "      <td>C</td>\n",
       "      <td>C</td>\n",
       "      <td>G</td>\n",
       "      <td>...</td>\n",
       "      <td>A</td>\n",
       "      <td>G</td>\n",
       "      <td>T</td>\n",
       "      <td>G</td>\n",
       "      <td>C</td>\n",
       "      <td>G</td>\n",
       "      <td>G</td>\n",
       "      <td>A</td>\n",
       "      <td>C</td>\n",
       "      <td>T</td>\n",
       "    </tr>\n",
       "    <tr>\n",
       "      <th>F_0</th>\n",
       "      <td>T</td>\n",
       "      <td>G</td>\n",
       "      <td>A</td>\n",
       "      <td>T</td>\n",
       "      <td>T</td>\n",
       "      <td>T</td>\n",
       "      <td>C</td>\n",
       "      <td>C</td>\n",
       "      <td>C</td>\n",
       "      <td>G</td>\n",
       "      <td>...</td>\n",
       "      <td>A</td>\n",
       "      <td>G</td>\n",
       "      <td>T</td>\n",
       "      <td>G</td>\n",
       "      <td>C</td>\n",
       "      <td>G</td>\n",
       "      <td>G</td>\n",
       "      <td>A</td>\n",
       "      <td>C</td>\n",
       "      <td>T</td>\n",
       "    </tr>\n",
       "    <tr>\n",
       "      <th>G_0</th>\n",
       "      <td>T</td>\n",
       "      <td>G</td>\n",
       "      <td>A</td>\n",
       "      <td>T</td>\n",
       "      <td>T</td>\n",
       "      <td>T</td>\n",
       "      <td>C</td>\n",
       "      <td>C</td>\n",
       "      <td>C</td>\n",
       "      <td>G</td>\n",
       "      <td>...</td>\n",
       "      <td>A</td>\n",
       "      <td>G</td>\n",
       "      <td>T</td>\n",
       "      <td>G</td>\n",
       "      <td>C</td>\n",
       "      <td>G</td>\n",
       "      <td>G</td>\n",
       "      <td>A</td>\n",
       "      <td>C</td>\n",
       "      <td>T</td>\n",
       "    </tr>\n",
       "    <tr>\n",
       "      <th>H_0</th>\n",
       "      <td>T</td>\n",
       "      <td>G</td>\n",
       "      <td>A</td>\n",
       "      <td>T</td>\n",
       "      <td>T</td>\n",
       "      <td>T</td>\n",
       "      <td>C</td>\n",
       "      <td>C</td>\n",
       "      <td>C</td>\n",
       "      <td>G</td>\n",
       "      <td>...</td>\n",
       "      <td>A</td>\n",
       "      <td>G</td>\n",
       "      <td>T</td>\n",
       "      <td>G</td>\n",
       "      <td>C</td>\n",
       "      <td>G</td>\n",
       "      <td>G</td>\n",
       "      <td>A</td>\n",
       "      <td>C</td>\n",
       "      <td>T</td>\n",
       "    </tr>\n",
       "    <tr>\n",
       "      <th>I_0</th>\n",
       "      <td>T</td>\n",
       "      <td>G</td>\n",
       "      <td>A</td>\n",
       "      <td>T</td>\n",
       "      <td>T</td>\n",
       "      <td>T</td>\n",
       "      <td>C</td>\n",
       "      <td>C</td>\n",
       "      <td>C</td>\n",
       "      <td>G</td>\n",
       "      <td>...</td>\n",
       "      <td>A</td>\n",
       "      <td>G</td>\n",
       "      <td>T</td>\n",
       "      <td>G</td>\n",
       "      <td>C</td>\n",
       "      <td>G</td>\n",
       "      <td>G</td>\n",
       "      <td>A</td>\n",
       "      <td>C</td>\n",
       "      <td>T</td>\n",
       "    </tr>\n",
       "    <tr>\n",
       "      <th>J_0</th>\n",
       "      <td>T</td>\n",
       "      <td>G</td>\n",
       "      <td>A</td>\n",
       "      <td>T</td>\n",
       "      <td>T</td>\n",
       "      <td>T</td>\n",
       "      <td>C</td>\n",
       "      <td>C</td>\n",
       "      <td>C</td>\n",
       "      <td>G</td>\n",
       "      <td>...</td>\n",
       "      <td>A</td>\n",
       "      <td>G</td>\n",
       "      <td>T</td>\n",
       "      <td>G</td>\n",
       "      <td>C</td>\n",
       "      <td>G</td>\n",
       "      <td>G</td>\n",
       "      <td>A</td>\n",
       "      <td>C</td>\n",
       "      <td>T</td>\n",
       "    </tr>\n",
       "    <tr>\n",
       "      <th>K_0</th>\n",
       "      <td>T</td>\n",
       "      <td>G</td>\n",
       "      <td>A</td>\n",
       "      <td>T</td>\n",
       "      <td>T</td>\n",
       "      <td>T</td>\n",
       "      <td>C</td>\n",
       "      <td>C</td>\n",
       "      <td>C</td>\n",
       "      <td>G</td>\n",
       "      <td>...</td>\n",
       "      <td>A</td>\n",
       "      <td>G</td>\n",
       "      <td>T</td>\n",
       "      <td>G</td>\n",
       "      <td>C</td>\n",
       "      <td>G</td>\n",
       "      <td>G</td>\n",
       "      <td>A</td>\n",
       "      <td>C</td>\n",
       "      <td>T</td>\n",
       "    </tr>\n",
       "    <tr>\n",
       "      <th>L_0</th>\n",
       "      <td>T</td>\n",
       "      <td>G</td>\n",
       "      <td>A</td>\n",
       "      <td>T</td>\n",
       "      <td>T</td>\n",
       "      <td>T</td>\n",
       "      <td>C</td>\n",
       "      <td>C</td>\n",
       "      <td>C</td>\n",
       "      <td>G</td>\n",
       "      <td>...</td>\n",
       "      <td>A</td>\n",
       "      <td>G</td>\n",
       "      <td>T</td>\n",
       "      <td>G</td>\n",
       "      <td>C</td>\n",
       "      <td>G</td>\n",
       "      <td>G</td>\n",
       "      <td>A</td>\n",
       "      <td>C</td>\n",
       "      <td>T</td>\n",
       "    </tr>\n",
       "  </tbody>\n",
       "</table>\n",
       "<p>12 rows × 17000 columns</p>\n",
       "</div>"
      ],
      "text/plain": [
       "    1     2     3     4     5     6     7     8     9     10     ...  16991  \\\n",
       "0                                                                ...          \n",
       "A_0     T     G     A     T     T     T     C     C     C     G  ...      A   \n",
       "B_0     T     G     A     T     T     T     C     C     C     G  ...      A   \n",
       "C_0     T     G     A     T     T     T     C     C     C     G  ...      A   \n",
       "D_0     T     G     A     T     T     T     C     S     C     G  ...      A   \n",
       "E_0     T     G     A     T     T     T     C     C     C     G  ...      A   \n",
       "F_0     T     G     A     T     T     T     C     C     C     G  ...      A   \n",
       "G_0     T     G     A     T     T     T     C     C     C     G  ...      A   \n",
       "H_0     T     G     A     T     T     T     C     C     C     G  ...      A   \n",
       "I_0     T     G     A     T     T     T     C     C     C     G  ...      A   \n",
       "J_0     T     G     A     T     T     T     C     C     C     G  ...      A   \n",
       "K_0     T     G     A     T     T     T     C     C     C     G  ...      A   \n",
       "L_0     T     G     A     T     T     T     C     C     C     G  ...      A   \n",
       "\n",
       "    16992 16993 16994 16995 16996 16997 16998 16999 17000  \n",
       "0                                                          \n",
       "A_0     G     T     G     C     G     G     A     C     T  \n",
       "B_0     G     T     G     C     G     G     A     C     T  \n",
       "C_0     G     T     G     C     G     G     A     C     T  \n",
       "D_0     G     T     G     C     G     G     A     C     T  \n",
       "E_0     G     T     G     C     G     G     A     C     T  \n",
       "F_0     G     T     G     C     G     G     A     C     T  \n",
       "G_0     G     T     G     C     G     G     A     C     T  \n",
       "H_0     G     T     G     C     G     G     A     C     T  \n",
       "I_0     G     T     G     C     G     G     A     C     T  \n",
       "J_0     G     T     G     C     G     G     A     C     T  \n",
       "K_0     G     T     G     C     G     G     A     C     T  \n",
       "L_0     G     T     G     C     G     G     A     C     T  \n",
       "\n",
       "[12 rows x 17000 columns]"
      ]
     },
     "execution_count": 71,
     "metadata": {},
     "output_type": "execute_result"
    }
   ],
   "source": [
    "# Read phylip data\n",
    "phylip = './outfiles/%s.c88d6m4p3.phy' % (simname)\n",
    "with open(phylip, 'r') as p:\n",
    "    phylipdata = p.readlines()\n",
    "\n",
    "# Split all sites \n",
    "splitdata = []\n",
    "for line in phylipdata[1:]:\n",
    "    splitdata.append(line.split())\n",
    "for i, line in enumerate(splitdata):\n",
    "    splitdata[i][1] = list(splitdata[i][1])    \n",
    "flatdata = []\n",
    "for line in splitdata:\n",
    "    flatdata.append([line[0]]+line[1])\n",
    "\n",
    "# Write to dataframe\n",
    "datadf = pd.DataFrame(flatdata)\n",
    "datadf.set_index(keys=[0], inplace=True)\n",
    "\n",
    "datadf"
   ]
  },
  {
   "cell_type": "markdown",
   "metadata": {},
   "source": [
    "For now, we'll remove 50% of the data, but in the full program we'd loop over many rates of missing data. To keep track of these unique datasets we'll add a prefix to our filenames."
   ]
  },
  {
   "cell_type": "code",
   "execution_count": 72,
   "metadata": {
    "collapsed": false
   },
   "outputs": [
    {
     "data": {
      "text/html": [
       "<div>\n",
       "<table border=\"1\" class=\"dataframe\">\n",
       "  <thead>\n",
       "    <tr style=\"text-align: right;\">\n",
       "      <th></th>\n",
       "      <th>1</th>\n",
       "      <th>2</th>\n",
       "      <th>3</th>\n",
       "      <th>4</th>\n",
       "      <th>5</th>\n",
       "      <th>6</th>\n",
       "      <th>7</th>\n",
       "      <th>8</th>\n",
       "      <th>9</th>\n",
       "      <th>10</th>\n",
       "      <th>...</th>\n",
       "      <th>16991</th>\n",
       "      <th>16992</th>\n",
       "      <th>16993</th>\n",
       "      <th>16994</th>\n",
       "      <th>16995</th>\n",
       "      <th>16996</th>\n",
       "      <th>16997</th>\n",
       "      <th>16998</th>\n",
       "      <th>16999</th>\n",
       "      <th>17000</th>\n",
       "    </tr>\n",
       "    <tr>\n",
       "      <th>0</th>\n",
       "      <th></th>\n",
       "      <th></th>\n",
       "      <th></th>\n",
       "      <th></th>\n",
       "      <th></th>\n",
       "      <th></th>\n",
       "      <th></th>\n",
       "      <th></th>\n",
       "      <th></th>\n",
       "      <th></th>\n",
       "      <th></th>\n",
       "      <th></th>\n",
       "      <th></th>\n",
       "      <th></th>\n",
       "      <th></th>\n",
       "      <th></th>\n",
       "      <th></th>\n",
       "      <th></th>\n",
       "      <th></th>\n",
       "      <th></th>\n",
       "      <th></th>\n",
       "    </tr>\n",
       "  </thead>\n",
       "  <tbody>\n",
       "    <tr>\n",
       "      <th>A_0</th>\n",
       "      <td>T</td>\n",
       "      <td>G</td>\n",
       "      <td>A</td>\n",
       "      <td>N</td>\n",
       "      <td>N</td>\n",
       "      <td>T</td>\n",
       "      <td>C</td>\n",
       "      <td>N</td>\n",
       "      <td>N</td>\n",
       "      <td>G</td>\n",
       "      <td>...</td>\n",
       "      <td>A</td>\n",
       "      <td>N</td>\n",
       "      <td>N</td>\n",
       "      <td>N</td>\n",
       "      <td>C</td>\n",
       "      <td>G</td>\n",
       "      <td>G</td>\n",
       "      <td>A</td>\n",
       "      <td>C</td>\n",
       "      <td>T</td>\n",
       "    </tr>\n",
       "    <tr>\n",
       "      <th>B_0</th>\n",
       "      <td>T</td>\n",
       "      <td>G</td>\n",
       "      <td>A</td>\n",
       "      <td>N</td>\n",
       "      <td>T</td>\n",
       "      <td>N</td>\n",
       "      <td>N</td>\n",
       "      <td>C</td>\n",
       "      <td>C</td>\n",
       "      <td>G</td>\n",
       "      <td>...</td>\n",
       "      <td>N</td>\n",
       "      <td>G</td>\n",
       "      <td>T</td>\n",
       "      <td>N</td>\n",
       "      <td>C</td>\n",
       "      <td>G</td>\n",
       "      <td>G</td>\n",
       "      <td>N</td>\n",
       "      <td>C</td>\n",
       "      <td>T</td>\n",
       "    </tr>\n",
       "    <tr>\n",
       "      <th>C_0</th>\n",
       "      <td>T</td>\n",
       "      <td>N</td>\n",
       "      <td>A</td>\n",
       "      <td>T</td>\n",
       "      <td>T</td>\n",
       "      <td>N</td>\n",
       "      <td>C</td>\n",
       "      <td>C</td>\n",
       "      <td>C</td>\n",
       "      <td>N</td>\n",
       "      <td>...</td>\n",
       "      <td>A</td>\n",
       "      <td>N</td>\n",
       "      <td>T</td>\n",
       "      <td>N</td>\n",
       "      <td>N</td>\n",
       "      <td>G</td>\n",
       "      <td>G</td>\n",
       "      <td>A</td>\n",
       "      <td>N</td>\n",
       "      <td>T</td>\n",
       "    </tr>\n",
       "    <tr>\n",
       "      <th>D_0</th>\n",
       "      <td>T</td>\n",
       "      <td>G</td>\n",
       "      <td>A</td>\n",
       "      <td>N</td>\n",
       "      <td>T</td>\n",
       "      <td>T</td>\n",
       "      <td>N</td>\n",
       "      <td>S</td>\n",
       "      <td>N</td>\n",
       "      <td>N</td>\n",
       "      <td>...</td>\n",
       "      <td>A</td>\n",
       "      <td>G</td>\n",
       "      <td>T</td>\n",
       "      <td>G</td>\n",
       "      <td>N</td>\n",
       "      <td>G</td>\n",
       "      <td>N</td>\n",
       "      <td>N</td>\n",
       "      <td>C</td>\n",
       "      <td>N</td>\n",
       "    </tr>\n",
       "    <tr>\n",
       "      <th>E_0</th>\n",
       "      <td>T</td>\n",
       "      <td>G</td>\n",
       "      <td>A</td>\n",
       "      <td>T</td>\n",
       "      <td>T</td>\n",
       "      <td>T</td>\n",
       "      <td>N</td>\n",
       "      <td>N</td>\n",
       "      <td>C</td>\n",
       "      <td>N</td>\n",
       "      <td>...</td>\n",
       "      <td>N</td>\n",
       "      <td>N</td>\n",
       "      <td>T</td>\n",
       "      <td>G</td>\n",
       "      <td>C</td>\n",
       "      <td>G</td>\n",
       "      <td>N</td>\n",
       "      <td>A</td>\n",
       "      <td>C</td>\n",
       "      <td>T</td>\n",
       "    </tr>\n",
       "    <tr>\n",
       "      <th>F_0</th>\n",
       "      <td>T</td>\n",
       "      <td>N</td>\n",
       "      <td>N</td>\n",
       "      <td>T</td>\n",
       "      <td>T</td>\n",
       "      <td>T</td>\n",
       "      <td>N</td>\n",
       "      <td>C</td>\n",
       "      <td>C</td>\n",
       "      <td>G</td>\n",
       "      <td>...</td>\n",
       "      <td>N</td>\n",
       "      <td>G</td>\n",
       "      <td>T</td>\n",
       "      <td>G</td>\n",
       "      <td>N</td>\n",
       "      <td>G</td>\n",
       "      <td>G</td>\n",
       "      <td>A</td>\n",
       "      <td>C</td>\n",
       "      <td>T</td>\n",
       "    </tr>\n",
       "    <tr>\n",
       "      <th>G_0</th>\n",
       "      <td>T</td>\n",
       "      <td>N</td>\n",
       "      <td>A</td>\n",
       "      <td>N</td>\n",
       "      <td>N</td>\n",
       "      <td>N</td>\n",
       "      <td>C</td>\n",
       "      <td>C</td>\n",
       "      <td>C</td>\n",
       "      <td>G</td>\n",
       "      <td>...</td>\n",
       "      <td>A</td>\n",
       "      <td>G</td>\n",
       "      <td>N</td>\n",
       "      <td>N</td>\n",
       "      <td>C</td>\n",
       "      <td>G</td>\n",
       "      <td>N</td>\n",
       "      <td>A</td>\n",
       "      <td>C</td>\n",
       "      <td>N</td>\n",
       "    </tr>\n",
       "    <tr>\n",
       "      <th>H_0</th>\n",
       "      <td>T</td>\n",
       "      <td>G</td>\n",
       "      <td>A</td>\n",
       "      <td>T</td>\n",
       "      <td>T</td>\n",
       "      <td>T</td>\n",
       "      <td>C</td>\n",
       "      <td>N</td>\n",
       "      <td>C</td>\n",
       "      <td>N</td>\n",
       "      <td>...</td>\n",
       "      <td>A</td>\n",
       "      <td>G</td>\n",
       "      <td>T</td>\n",
       "      <td>G</td>\n",
       "      <td>N</td>\n",
       "      <td>G</td>\n",
       "      <td>G</td>\n",
       "      <td>A</td>\n",
       "      <td>N</td>\n",
       "      <td>T</td>\n",
       "    </tr>\n",
       "    <tr>\n",
       "      <th>I_0</th>\n",
       "      <td>T</td>\n",
       "      <td>N</td>\n",
       "      <td>N</td>\n",
       "      <td>T</td>\n",
       "      <td>N</td>\n",
       "      <td>N</td>\n",
       "      <td>C</td>\n",
       "      <td>C</td>\n",
       "      <td>N</td>\n",
       "      <td>G</td>\n",
       "      <td>...</td>\n",
       "      <td>N</td>\n",
       "      <td>N</td>\n",
       "      <td>T</td>\n",
       "      <td>G</td>\n",
       "      <td>C</td>\n",
       "      <td>G</td>\n",
       "      <td>G</td>\n",
       "      <td>A</td>\n",
       "      <td>N</td>\n",
       "      <td>T</td>\n",
       "    </tr>\n",
       "    <tr>\n",
       "      <th>J_0</th>\n",
       "      <td>T</td>\n",
       "      <td>G</td>\n",
       "      <td>A</td>\n",
       "      <td>T</td>\n",
       "      <td>N</td>\n",
       "      <td>T</td>\n",
       "      <td>C</td>\n",
       "      <td>C</td>\n",
       "      <td>C</td>\n",
       "      <td>G</td>\n",
       "      <td>...</td>\n",
       "      <td>N</td>\n",
       "      <td>G</td>\n",
       "      <td>T</td>\n",
       "      <td>N</td>\n",
       "      <td>C</td>\n",
       "      <td>G</td>\n",
       "      <td>G</td>\n",
       "      <td>A</td>\n",
       "      <td>C</td>\n",
       "      <td>T</td>\n",
       "    </tr>\n",
       "    <tr>\n",
       "      <th>K_0</th>\n",
       "      <td>N</td>\n",
       "      <td>G</td>\n",
       "      <td>A</td>\n",
       "      <td>N</td>\n",
       "      <td>T</td>\n",
       "      <td>T</td>\n",
       "      <td>C</td>\n",
       "      <td>C</td>\n",
       "      <td>C</td>\n",
       "      <td>G</td>\n",
       "      <td>...</td>\n",
       "      <td>N</td>\n",
       "      <td>G</td>\n",
       "      <td>T</td>\n",
       "      <td>G</td>\n",
       "      <td>C</td>\n",
       "      <td>N</td>\n",
       "      <td>G</td>\n",
       "      <td>A</td>\n",
       "      <td>N</td>\n",
       "      <td>T</td>\n",
       "    </tr>\n",
       "    <tr>\n",
       "      <th>L_0</th>\n",
       "      <td>T</td>\n",
       "      <td>N</td>\n",
       "      <td>A</td>\n",
       "      <td>T</td>\n",
       "      <td>N</td>\n",
       "      <td>T</td>\n",
       "      <td>N</td>\n",
       "      <td>N</td>\n",
       "      <td>N</td>\n",
       "      <td>N</td>\n",
       "      <td>...</td>\n",
       "      <td>A</td>\n",
       "      <td>G</td>\n",
       "      <td>T</td>\n",
       "      <td>N</td>\n",
       "      <td>C</td>\n",
       "      <td>N</td>\n",
       "      <td>G</td>\n",
       "      <td>A</td>\n",
       "      <td>C</td>\n",
       "      <td>T</td>\n",
       "    </tr>\n",
       "  </tbody>\n",
       "</table>\n",
       "<p>12 rows × 17000 columns</p>\n",
       "</div>"
      ],
      "text/plain": [
       "    1     2     3     4     5     6     7     8     9     10     ...  16991  \\\n",
       "0                                                                ...          \n",
       "A_0     T     G     A     N     N     T     C     N     N     G  ...      A   \n",
       "B_0     T     G     A     N     T     N     N     C     C     G  ...      N   \n",
       "C_0     T     N     A     T     T     N     C     C     C     N  ...      A   \n",
       "D_0     T     G     A     N     T     T     N     S     N     N  ...      A   \n",
       "E_0     T     G     A     T     T     T     N     N     C     N  ...      N   \n",
       "F_0     T     N     N     T     T     T     N     C     C     G  ...      N   \n",
       "G_0     T     N     A     N     N     N     C     C     C     G  ...      A   \n",
       "H_0     T     G     A     T     T     T     C     N     C     N  ...      A   \n",
       "I_0     T     N     N     T     N     N     C     C     N     G  ...      N   \n",
       "J_0     T     G     A     T     N     T     C     C     C     G  ...      N   \n",
       "K_0     N     G     A     N     T     T     C     C     C     G  ...      N   \n",
       "L_0     T     N     A     T     N     T     N     N     N     N  ...      A   \n",
       "\n",
       "    16992 16993 16994 16995 16996 16997 16998 16999 17000  \n",
       "0                                                          \n",
       "A_0     N     N     N     C     G     G     A     C     T  \n",
       "B_0     G     T     N     C     G     G     N     C     T  \n",
       "C_0     N     T     N     N     G     G     A     N     T  \n",
       "D_0     G     T     G     N     G     N     N     C     N  \n",
       "E_0     N     T     G     C     G     N     A     C     T  \n",
       "F_0     G     T     G     N     G     G     A     C     T  \n",
       "G_0     G     N     N     C     G     N     A     C     N  \n",
       "H_0     G     T     G     N     G     G     A     N     T  \n",
       "I_0     N     T     G     C     G     G     A     N     T  \n",
       "J_0     G     T     N     C     G     G     A     C     T  \n",
       "K_0     G     T     G     C     N     G     A     N     T  \n",
       "L_0     G     T     N     C     N     G     A     C     T  \n",
       "\n",
       "[12 rows x 17000 columns]"
      ]
     },
     "execution_count": 72,
     "metadata": {},
     "output_type": "execute_result"
    }
   ],
   "source": [
    "percent = 30\n",
    "# Create string for naming files\n",
    "p = '.p'+str(percent).zfill(2)\n",
    "\n",
    "# Get number of entries\n",
    "entries = datadf.shape[0]*datadf.shape[1]\n",
    "\n",
    "# Substitute rand percent with 'N'\n",
    "if percent==0: missingdf=datadf\n",
    "else: missingdf = datadf.where(np.random.uniform(size=datadf.shape) > float(percent/100.), 'N')\n",
    "\n",
    "missingdf"
   ]
  },
  {
   "cell_type": "code",
   "execution_count": 73,
   "metadata": {
    "collapsed": false
   },
   "outputs": [
    {
     "name": "stdout",
     "output_type": "stream",
     "text": [
      "Wrote 30 percent missing data phylip file to l100L200SmbNl.p30.phy\n",
      "Wrote 30 missing data nexus file to l100L200SmbNl.p30.nex\n"
     ]
    }
   ],
   "source": [
    "# Convert dataframe to sequence strings\n",
    "missinglines =[]\n",
    "meta = ('%d %d\\n') % (datadf.shape[0], datadf.shape[1])\n",
    "missinglines.append(meta)\n",
    "for i in xrange(len(missingdf)):\n",
    "    missinglines.append('       '.join([missingdf.index[i],''.join(missingdf.ix[i])])+'\\n')\n",
    "    \n",
    "# Write strings to phylip file\n",
    "with open(simname+p+'.phy', 'w+') as m:\n",
    "    m.writelines(missinglines)\n",
    "    missing_phy = simname+p+'.phy'\n",
    "    print('Wrote %d percent missing data phylip file to %s') % (percent, missing_phy)\n",
    "\n",
    "# Convert phlyip to nexus for PAUP\n",
    "alignment = AlignIO.read(open(simname+p+'.phy'), \"phylip\", alphabet=Alphabet.generic_dna)\n",
    "with open(simname+p+'.nex', \"w+\") as n:\n",
    "    n.write(alignment.format(\"nexus\"))\n",
    "    missing_nex = simname+p+'.nex'\n",
    "    print('Wrote %d missing data nexus file to %s') % (percent, missing_nex)"
   ]
  },
  {
   "cell_type": "markdown",
   "metadata": {},
   "source": [
    "### 4. Run *SVDquartets*\n",
    "\n",
    "To run *SVDquartets* we'll have to add a PAUP block to our nexus file. This will specify that we want to PAUP to \n",
    "\n",
    "1. autoclose after finishing\n",
    "2. run SVDquartets\n",
    "    * all quartets analyzed\n",
    "    * missing data set to 'Missing'\n",
    "3. save the output as newick trees\n",
    "\n",
    "Here's an example:\n",
    "\n",
    "    BEGIN PAUP;\n",
    "        set autoclose=yes;\n",
    "        SVDquartets evalQuartets=all ambigs=missing;\n",
    "        SaveTrees file=FILENAME format=Newick;\n",
    "        quit;\n",
    "    End;"
   ]
  },
  {
   "cell_type": "code",
   "execution_count": 74,
   "metadata": {
    "collapsed": false
   },
   "outputs": [],
   "source": [
    "saveline = '\\tSaveTrees file=%s.p%s.tre format=Newick brLens=no;\\n' % (simname, str(percent).zfill(2))\n",
    "paup_lines = ['\\nBEGIN PAUP;\\n', '\\tset autoclose=yes;\\n', \n",
    "              '\\tSVDquartets evalQuartets=all ambigs=missing;\\n',\n",
    "              saveline, '\\tquit;\\n', 'End;\\n']\n",
    "\n",
    "with open(missing_nex, 'a') as n:\n",
    "        n.writelines(paup_lines)"
   ]
  },
  {
   "cell_type": "markdown",
   "metadata": {},
   "source": [
    "Finally, let's run *SVDquartets*. We'll set PAUP* to 'non-interactive' mode."
   ]
  },
  {
   "cell_type": "code",
   "execution_count": 92,
   "metadata": {
    "collapsed": false,
    "scrolled": true
   },
   "outputs": [
    {
     "name": "stdout",
     "output_type": "stream",
     "text": [
      "bash\n",
      ">> paup4 -n l100L200SmbNl.p30.nex\n"
     ]
    },
    {
     "data": {
      "text/plain": [
       "0"
      ]
     },
     "execution_count": 92,
     "metadata": {},
     "output_type": "execute_result"
    }
   ],
   "source": [
    "svdquartets_call = 'paup4 -n %s' % (missing_nex)\n",
    "print(\"bash\\n>> %s\") % (svdquartets_call)\n",
    "\n",
    "run_svdquartets = Popen(['paup4', '-n', missing_nex], stdin=PIPE, stdout=PIPE, stderr=PIPE)\n",
    "run_svdquartets.wait()"
   ]
  },
  {
   "cell_type": "markdown",
   "metadata": {},
   "source": [
    "Now we can view our species tree estimate"
   ]
  },
  {
   "cell_type": "code",
   "execution_count": 86,
   "metadata": {
    "collapsed": false
   },
   "outputs": [
    {
     "data": {
      "image/png": "[encoded data removed]",
      "text/plain": [
       "<IPython.core.display.Image object>"
      ]
     },
     "execution_count": 86,
     "metadata": {},
     "output_type": "execute_result"
    }
   ],
   "source": [
    "ts = TreeStyle()\n",
    "ts.show_leaf_name = True\n",
    "p30_tree = Tree('./l100L200SmbNl.p30.tre')\n",
    "p30_tree.render(\"%%inline\", w =500, tree_style=ts)"
   ]
  },
  {
   "cell_type": "markdown",
   "metadata": {},
   "source": [
    "Notice that *simRRLs* added '_0' to each taxon denoting that they are the only sample of that taxon. We'll need to trim those before comparing trees."
   ]
  },
  {
   "cell_type": "code",
   "execution_count": 99,
   "metadata": {
    "collapsed": false
   },
   "outputs": [],
   "source": [
    "def rename_taxa(treefile):\n",
    "    '''Replaces '_0' in taxa\n",
    "    \n",
    "    Parameters\n",
    "    ----------\n",
    "    treefile : path to a newick tree file'''\n",
    "    \n",
    "    with open(treefile, 'r') as tin:\n",
    "        newick = tin.readlines()[0]\n",
    "    with open(treefile, 'w') as tout:\n",
    "        tout.writelines(newick.replace('_0', ''))"
   ]
  },
  {
   "cell_type": "code",
   "execution_count": 98,
   "metadata": {
    "collapsed": true
   },
   "outputs": [],
   "source": [
    "rename_taxa(treefile=missing_nex.replace('nex', 'tre'))"
   ]
  },
  {
   "cell_type": "markdown",
   "metadata": {},
   "source": [
    "### 5. Calculate Robinson-Foulds distance\n",
    "\n",
    "To assess the accuracy of our estimated species tree we'll use the normalized Robinson-Foulds (RF) distance (Robinson and Foulds 1981). This measures the number of bipartitions in our true tree that are not present in our estimated tree, and vice versa. It has a maximum value of $2(n-3)=18$ for our 12-taxon tree. For generality, we will normalize our RF distances by this value.\n",
    "\n",
    "For various reasons, I'm using DendroPy 3.12, and we *actually* want to use the `symmetric_difference`, *not* `robinson_foulds_distance` function because we do not have branch lengths. In addition, there is a [known error](https://github.com/jeetsukumaran/DendroPy/issues/14) in behavior of this function. I wrote the work around suggested by Jeet Sukumaran below as a function."
   ]
  },
  {
   "cell_type": "code",
   "execution_count": 95,
   "metadata": {
    "collapsed": true
   },
   "outputs": [],
   "source": [
    "def sym_diff(t1, t2):\n",
    "    '''This is a fix version of the symmetric difference function in Dendropy written by Jeet Sukumaran\n",
    "    (see his GitHub)\n",
    "    \n",
    "    Parameters\n",
    "    ----------\n",
    "    t1 : first tree path\n",
    "    t2 : second tree path'''\n",
    "    \n",
    "    taxon_namespace = dendropy.TaxonSet()\n",
    "    \n",
    "    t1 = dendropy.Tree.get_from_path(t1, \"newick\", taxon_set=taxon_namespace)\n",
    "    t2 = dendropy.Tree.get_from_path(t2, \"newick\", taxon_set=taxon_namespace)\n",
    "    t1.is_rooted\n",
    "    t2.is_rooted\n",
    "    t1.symmetric_difference(t2)\n",
    "    t1.symmetric_difference(t2)\n",
    "\n",
    "    return t2.symmetric_difference(t1)"
   ]
  },
  {
   "cell_type": "code",
   "execution_count": 96,
   "metadata": {
    "collapsed": false
   },
   "outputs": [
    {
     "name": "stdout",
     "output_type": "stream",
     "text": [
      "(6, 0.3333333333333333)\n"
     ]
    }
   ],
   "source": [
    "RF = sym_diff(t1='./l100L200SmbNl.p30.tre', t2 = '../MedBalTree')\n",
    "norm_RF = RF/18.\n",
    "print(RF, norm_RF)"
   ]
  },
  {
   "cell_type": "markdown",
   "metadata": {},
   "source": [
    "Notice that our RF distance is 6, despite the fact that our estimated and true trees are not *incongruent*. There are multiple polytomies in our estimated topology, so there are bipartitions in our true tree that are not present in the estimate, but no bipartition in our estimate is not present in our true tree."
   ]
  },
  {
   "cell_type": "markdown",
   "metadata": {},
   "source": [
    "### 6. Parallelize\n",
    "Now that we've been through one iteration using one set of parameters, we'd like to efficiently loop through all of the parameter values and simulation replicates. This involves pushing a lot of the above work to a series of functions and then dividing up work using the `multiprocessing` module. We'll also add a few safeguards to make sure everything has run okay and speed things up by skipping sections if they've already been completed."
   ]
  },
  {
   "cell_type": "code",
   "execution_count": 100,
   "metadata": {
    "collapsed": false
   },
   "outputs": [
    {
     "name": "stdout",
     "output_type": "stream",
     "text": [
      "/Users/IanGilman/pythonscripts/SimMissingData\n"
     ]
    }
   ],
   "source": [
    "os.chdir(sim_dir)\n",
    "print os.getcwd()"
   ]
  },
  {
   "cell_type": "code",
   "execution_count": 101,
   "metadata": {
    "collapsed": true
   },
   "outputs": [],
   "source": [
    "def run_simrrls(simname, method, size, n_loci, Ne, tree_path):\n",
    "    '''Simulated RADseq loci.\n",
    "    \n",
    "    Parameters\n",
    "    ----------\n",
    "    simname : simulation name\n",
    "    method : method of library simulation (ddrad, rad, gbs, pairddrad, pairgbs)\n",
    "    size : size in basepairs of loci to simulate\n",
    "    nloci : number of loci to simulate\n",
    "    shape : shape of tree\n",
    "    ne : effective population size\n",
    "    treeshapes : dictionary where keys are tree shapes (in shape) and values are paths to specific tree'''\n",
    "    \n",
    "    run_simrrls = Popen(['simrrls', '-o', simname, \n",
    "                      '-f', 'ddrad', \n",
    "                      '-l', str(size), \n",
    "                      '-L', str(n_loci), \n",
    "                      '-N', str(Ne),\n",
    "                      '-t', tree_path])\n",
    "    run_simrrls = Popen(['/Users/IanGilman/pyrad/pyrad/pyRAD.py', '-p', 'params.txt', '-s', '1234567'])\n",
    "    run_simrrls.wait()"
   ]
  },
  {
   "cell_type": "code",
   "execution_count": 102,
   "metadata": {
    "collapsed": true
   },
   "outputs": [],
   "source": [
    "def run_pyrad(simname, pyrad = '/Users/IanGilman/pyrad/pyrad/pyRAD.py'):\n",
    "    '''Creates and renames the params file created by pyrad so it is detected by default\n",
    "    and then runs pyrad with a few parameters altered.\n",
    "    Parameters\n",
    "    ----------\n",
    "    simname : simulation name\n",
    "    pyrad : path to pyRAD '''\n",
    "    \n",
    "    # Create new params file\n",
    "    create_new_params = Popen(['/Users/IanGilman/pyrad/pyrad/pyRAD.py', '-n'])\n",
    "    create_new_params.wait()\n",
    "    \n",
    "    # Rename barcodes file so it's recognized by default by pyRAD\n",
    "    old_bc_file = simname+'_barcodes.txt'\n",
    "    new_bc_file = simname+'.barcodes'\n",
    "    if os.path.exists(old_bc_file):\n",
    "        shutil.move(old_bc_file, new_bc_file)\n",
    "    \n",
    "    # Read old lines\n",
    "    with open('params.txt', 'r') as p:\n",
    "        paramsdata =  p.readlines()\n",
    "\n",
    "    # Edit lines\n",
    "    newlines = []\n",
    "    for line in paramsdata:\n",
    "        if 'Restriction overhang' in line:\n",
    "            line = 'CTGCAG, CCGG                     ## 6. Restriction overhang (e.g., C|TGCAG -> TGCAG)     (s1,s2)\\n'\n",
    "        if 'N processors' in line:\n",
    "            line = '%d                         ## 7. N processors (parallel)                           (all)\\n' % (cpu_count())\n",
    "        if 'Datatype' in line:\n",
    "            line = 'ddrad                       ## 11. Datatype: rad,gbs,pairgbs,pairddrad,(others:see docs)(all)\\n'\n",
    "        if 'Prefix name' in line:\n",
    "            line = '%s.c88d6m4p3                 ## 14. Prefix name for final output (no spaces)         (s7)\\n' % (simname)\n",
    "        if 'output formats' in line:\n",
    "            line = '*                       ## 30.opt.: output formats: p,n,a,s,v,u,t,m,k,g,* (see docs) (s7)\\n'\n",
    "        newlines.append(line)\n",
    "\n",
    "    # Write new lines\n",
    "    with open('params.txt', 'w') as p:\n",
    "        p.writelines(newlines)\n",
    "    \n",
    "    run_pyrad = Popen([pyrad, '-p', 'params.txt', '-s', '1234567'])\n",
    "    run_pyrad.wait()"
   ]
  },
  {
   "cell_type": "code",
   "execution_count": 103,
   "metadata": {
    "collapsed": true
   },
   "outputs": [],
   "source": [
    "def phylip_to_df(simname):\n",
    "    '''Converts a phylip file to a pandas DataFrame\n",
    "    \n",
    "    Parameters\n",
    "    ----------\n",
    "    simname : simulation name'''\n",
    "    \n",
    "    # Read phylip data\n",
    "    phylip = './outfiles/%s.c88d6m4p3.phy' % (simname)\n",
    "    with open(phylip, 'r') as p:\n",
    "        phylipdata = p.readlines()\n",
    "\n",
    "    # Split all sites \n",
    "    splitdata = []\n",
    "    for line in phylipdata[1:]:\n",
    "        splitdata.append(line.split())\n",
    "    for i, line in enumerate(splitdata):\n",
    "        splitdata[i][1] = list(splitdata[i][1])    \n",
    "    flatdata = []\n",
    "    for line in splitdata:\n",
    "        flatdata.append([line[0]]+line[1])\n",
    "\n",
    "    # Write to dataframe\n",
    "    datadf = pd.DataFrame(flatdata)\n",
    "    datadf.set_index(keys=[0], inplace=True)\n",
    "\n",
    "    return datadf"
   ]
  },
  {
   "cell_type": "code",
   "execution_count": 104,
   "metadata": {
    "collapsed": true
   },
   "outputs": [],
   "source": [
    "def write_missing_data(fulldf, percent, simname):\n",
    "    '''Simulates missing data given a DataFrame of sequence data and writes it to file.\n",
    "    \n",
    "    Parameters\n",
    "    ----------\n",
    "    fulldf : pandas DataFrame containing the full data\n",
    "    percent : percent missing data to simulate\n",
    "    simname : simulation name'''\n",
    "    \n",
    "    # Create string for naming files\n",
    "    p = '.p'+str(percent).zfill(2)\n",
    "\n",
    "    # Get number of entries\n",
    "    entries = datadf.shape[0]*datadf.shape[1]\n",
    "\n",
    "    # Substitute rand percent with 'N'\n",
    "    if percent==0: missingdf=datadf\n",
    "    else: missingdf = datadf.where(np.random.uniform(size=datadf.shape) > float(percent/100.), 'N')\n",
    "\n",
    "    # Convert dataframe to sequence strings\n",
    "    missinglines =[]\n",
    "    meta = ('%d %d\\n') % (datadf.shape[0], datadf.shape[1])\n",
    "    missinglines.append(meta)\n",
    "    for i in xrange(len(missingdf)):\n",
    "        missinglines.append('       '.join([missingdf.index[i],''.join(missingdf.ix[i])])+'\\n')\n",
    "\n",
    "    # Write strings to phylip file\n",
    "    with open(simname+p+'.phy', 'w+') as m:\n",
    "        m.writelines(missinglines)\n",
    "        missing_phy = simname+p+'.phy'\n",
    "\n",
    "    # Convert phlyip to nexus for PAUP\n",
    "    alignment = AlignIO.read(open(simname+p+'.phy'), \"phylip\", alphabet=Alphabet.generic_dna)\n",
    "    with open(simname+p+'.nex', \"w+\") as n:\n",
    "        n.write(alignment.format(\"nexus\"))\n",
    "        missing_nex = simname+p+'.nex'\n",
    "        \n",
    "    saveline = '\\tSaveTrees file=%s.p%s.tre format=Newick brLens=no;\\n' % (simname, str(percent).zfill(2))\n",
    "    paup_lines = ['\\nBEGIN PAUP;\\n', '\\tset autoclose=yes;\\n', \n",
    "                  '\\tSVDquartets evalQuartets=all ambigs=missing;\\n',\n",
    "                  saveline, '\\tquit;\\n', 'End;\\n']\n",
    "\n",
    "    with open(missing_nex, 'a') as n:\n",
    "            n.writelines(paup_lines)\n",
    "        \n",
    "    return missing_nex"
   ]
  },
  {
   "cell_type": "markdown",
   "metadata": {
    "collapsed": true
   },
   "source": [
    "The following function will run through an entire simulation and follows the basic outline for a single set of parameters above, but it has some wrappers that allow it to run in a parallel on our Linux stand-alone servers. The use of the `shared_array` in conjunction with `SyncManager` and `mgr_init` allows us to stop running with a `KeyboardInterrupt` (or kernel interrupt in Jupyter). See [Johnathon Tushman's GitHub](http://jtushman.github.io/blog/2014/01/14/python-%7C-multiprocessing-and-interrupts/) for more detailed infomation. Another issue in which threads were not properly communicating is circumvented in the `try`/`except` block containing `BaseProxy._address_to_local`, see [StackOverflow](https://stackoverflow.com/questions/3649458/broken-pipe-when-using-python-multiprocessing-managers-basemanager-syncmanager). "
   ]
  },
  {
   "cell_type": "code",
   "execution_count": 109,
   "metadata": {
    "collapsed": false
   },
   "outputs": [],
   "source": [
    "def SVD_simulation(size, n_loci, shape, Ne, treeshapes, Nes, process_number, shared_array, svd_limit = 100):\n",
    "    '''\n",
    "    Runs a complete simulation from creation of a new simulation directory through calculation of normalized\n",
    "    RF distance between estimated and true tree in SVDquartets.\n",
    "    \n",
    "    Parameters\n",
    "    ----------\n",
    "    size : locus size in basepairs\n",
    "    n_loci : number of loci in library\n",
    "    shape : key to dictionary of treeshapes\n",
    "    Ne : key to dictionary of effective population sizes\n",
    "    treeshapes : dictionary of tree shapes and paths to tree files\n",
    "    Nes : dictionary of effective population sizes\n",
    "    process_number : process number in the shared array of concurrent processes\n",
    "    shared_array : array of concurrent processes initiated\n",
    "    svd_limit = number of tries of SVDquartets to find informative quartets (default 100)'''\n",
    "    \n",
    "    try:\n",
    "        while True:\n",
    "            \n",
    "            try: \n",
    "                if address in BaseProxy._address_to_local:\n",
    "                    del BaseProxy._address_to_local[address][0].connection\n",
    "            except NameError: None\n",
    "\n",
    "            shared_array.append(process_number)\n",
    "            print('Started thread: %d') % (process_number)\n",
    "\n",
    "            # Get values from simulation name\n",
    "            proc = os.getpid()\n",
    "\n",
    "            # Get simulation name\n",
    "            simname = 'l%dL%dS%sN%s' % (size, n_loci, shape, Ne)\n",
    "\n",
    "            # Make/switch directories\n",
    "            print('Simulation: %s\\n\\tLocus size: %dbp\\n\\tLibrary size: %d loci\\n\\tTree shape: %s\\n\\tNe: %d\\n\\tProcess ID: %d\\n') % (simname, size, n_loci, shape, Nes[Ne], proc)\n",
    "            print('Current working directory: %s\\n') % (os.getcwd())\n",
    "            current_simdir = os.path.join('/Users/IanGilman/pythonscripts/SimMissingData/', simname)\n",
    "            try: \n",
    "                os.mkdir(current_simdir)\n",
    "                print('Created new simulation directory: %s\\n') % (current_simdir)\n",
    "            except OSError: \n",
    "                print('Directory %s already exists\\n') % (current_simdir)\n",
    "            os.chdir(current_simdir)\n",
    "            print('Current working directory: %s\\n') % (os.getcwd())\n",
    "\n",
    "            # Initialize final output\n",
    "            reps = 10 \n",
    "            finaloutput = os.path.join(os.getcwd(), simname+'.SVD.RF.csv')\n",
    "            # Check to see if simulation has already been completed\n",
    "            if os.path.exists(finaloutput):\n",
    "                print('\\tFound SVD RF file for %s. Checking for completion...\\n') % (simname)\n",
    "                with open(finaloutput, 'r') as f:\n",
    "                    if not len(f.readlines())==reps+1:\n",
    "                        print('\\t%s SVD RF file not complete. Rerunning...\\n') % (simname)\n",
    "                    else:\n",
    "                        print('\\t%s SVD RF file complete. Move/remove it to recalcualte. Exitting...\\n') % (simname)\n",
    "                        sys.exit() \n",
    "            # Initialize dict for RF distances\n",
    "            treedist = {}\n",
    "            \n",
    "            ## Simulate library if it has not already been done.\n",
    "            if not os.path.exists(simname+'_R1_.fastq.gz'):\n",
    "                print('Running simRRLs for %s\\n') % (simname)\n",
    "                run_simrrls(simname=simname, method='ddrad', size=size, n_loci=n_loci, Ne=Nes[Ne], tree_path=treeshapes[shape]['path'])\n",
    "\n",
    "                print('simRRLs finished for %s\\n') % (simname)\n",
    "            else: \n",
    "                print('Dataset %s already simulated. Move/remove it to rerun. Continuing to pyRAD...\\n') % (simname)\n",
    "\n",
    "            ## Run pyRAD\n",
    "            phy_file = os.path.join(os.getcwd(), 'outfiles/'+simname+'.c88d6m4p3.phy')\n",
    "            print('Looking for %s...\\n') % (phy_file)\n",
    "            if os.path.exists(phy_file):\n",
    "                print('pyRAD complete for %s. Move/remove results to rerun. \\n') % (simname)\n",
    "            else: \n",
    "                print('Running pyRAD for %s...\\n') % (simname)\n",
    "                run_pyrad(simname=simname)\n",
    "                print('pyRAD finished for %s\\n') % (simname)\n",
    "\n",
    "            ##  Read phylip file to datframe \n",
    "            fulldata = phylip_to_df(simname=simname)\n",
    "\n",
    "            ## Loop over percents\n",
    "            for percent in tqdm_notebook(range(0,85,10), desc=simname+' percent missing data: ', leave=False):\n",
    "\n",
    "                # Initialize dict key and list\n",
    "                pkey = 'p'+str(percent).zfill(2)\n",
    "                treedist[pkey] = []\n",
    "\n",
    "                # Loop over replicates\n",
    "                for i, rep in tqdm_notebook(enumerate(range(reps)), desc=simname+' replicates: ', leave=False):\n",
    "                    missing_percent_nex = simname+'.p'+str(percent).zfill(2)+'.nex'            \n",
    "\n",
    "                    # Delete old missing data file if present\n",
    "                    if os.path.exists(missing_percent_nex):\n",
    "                        os.remove(missing_percent_nex)\n",
    "\n",
    "                    # When missing data is high, there are not informative quartets found in SVDquartets.\n",
    "                    # When this happens we will resample missing data and try again if/until a limit, 'svd_limit'\n",
    "                    # is reached. Then a complete polytomy will be returned.\n",
    "                    SVDoutput = 'No informative quartets were found'\n",
    "                    counts = 0\n",
    "                    while ('No informative quartets were found' in SVDoutput) and (counts<svd_limit):\n",
    "                        # Write missing data and run SVDquartets\n",
    "                        missing_percent_nex = write_missing_data(fulldf=fulldata, percent=percent, simname=simname)\n",
    "                        run_svdquartets = Popen(['paup4', '-n', missing_percent_nex], stderr=PIPE, stdin=PIPE, stdout=PIPE)\n",
    "                        run_svdquartets.wait()\n",
    "                        SVDoutput, b = run_svdquartets.communicate(b\"input data that is passed to subprocess' stdin\")\n",
    "                        counts+=1\n",
    "\n",
    "                        # If we've hit the limit, write polytomy\n",
    "                        if counts==svd_limit:\n",
    "                            species_tree_path = '%s.p%s.tre' % (simname, str(percent).zfill(2))\n",
    "                            with open(species_tree_path, 'w+') as s:\n",
    "                                s.write('(A,B,C,D,E,F,G,H,I,J,K,L);')\n",
    "\n",
    "                    species_tree_estimate = re.sub('nex', 'tre', missing_percent_nex)\n",
    "                    rename_taxa(species_tree_estimate)\n",
    "                    # Calculate RF distance\n",
    "                    RF = sym_diff(t1=species_tree_estimate, t2 = treeshapes[shape]['path'])\n",
    "                    norm_RF = RF/18.\n",
    "                    treedist[pkey].append(norm_RF)\n",
    "\n",
    "            pd.DataFrame.from_dict(treedist).to_csv(path_or_buf=finaloutput)\n",
    "            print('Final RF distance matrix written to %s\\n') % (finaloutput)\n",
    "            return treedist\n",
    "\n",
    "    except KeyboardInterrupt:\n",
    "        print \"Keyboard interrupt in process: \", process_number\n",
    "    finally:\n",
    "        print \"cleaning up thread\", process_number"
   ]
  },
  {
   "cell_type": "code",
   "execution_count": 110,
   "metadata": {
    "collapsed": false
   },
   "outputs": [],
   "source": [
    "def mgr_init():\n",
    "    '''Explicit initialization of sync manager'''\n",
    "    signal.signal(signal.SIGINT, signal.SIG_IGN)\n",
    "    print 'Initialized manager'"
   ]
  },
  {
   "cell_type": "code",
   "execution_count": 111,
   "metadata": {
    "collapsed": false
   },
   "outputs": [],
   "source": [
    "# Initiate dict for trees and filepaths \n",
    "treeshapes = Vividict()\n",
    "\n",
    "MedBalTree = '(((((A:1,B:1):1,C:2):1,D:3):1,(((E:1,F:1):1,G:2):1,H:3):1):1,(((I:1,J:1):1,K:2):1,L:3):2);'\n",
    "ShortBalTree = multiply_strints(MedBalTree, 0.5).replace('.0', '') # halve branch lengths\n",
    "LongBalTree = multiply_strints(MedBalTree, 2.0).replace('.0', '') # double branch lengths\n",
    "\n",
    "treeshapes['sb']['tree'] = ShortBalTree\n",
    "treeshapes['mb']['tree'] = MedBalTree\n",
    "treeshapes['lb']['tree'] = LongBalTree\n",
    "\n",
    "# Write trees to files\n",
    "for key in treeshapes.iterkeys():\n",
    "    path = os.path.join(sim_dir, key)\n",
    "    treeshapes[key]['path'] = str(path)\n",
    "    with open(path, 'w+') as f:\n",
    "        f.write(treeshapes[key]['tree'])\n",
    "\n",
    "#----- SIMULATION PARAMETERS -----#\n",
    "library_sizes = [500, 1000]\n",
    "locus_sizes = [400, 500, 600]\n",
    "Nes = {'l':1e4, 'm': 1e5, 'h':1e6}\n",
    "SVD_limit = 10\n",
    "\n",
    "# Create list of parameter settings for input into SVD_simulation\n",
    "params = []\n",
    "for number in library_sizes:\n",
    "    for size in locus_sizes:\n",
    "        for shape in treeshapes.keys():\n",
    "            for Ne in Nes.keys():\n",
    "                params.append([size, number, shape, Ne])"
   ]
  },
  {
   "cell_type": "markdown",
   "metadata": {},
   "source": [
    "We'll only run through the first 5 simulations below"
   ]
  },
  {
   "cell_type": "code",
   "execution_count": 115,
   "metadata": {
    "collapsed": false
   },
   "outputs": [
    {
     "name": "stdout",
     "output_type": "stream",
     "text": [
      "Initialized manager\n",
      "Started thread: 0\n",
      "Simulation: l400L1000SsbNh\n",
      "\tLocus size: 400bp\n",
      "\tLibrary size: 500 loci\n",
      "\tTree shape: sb\n",
      "\tNe: 1000000\n",
      "\tProcess ID: 23336\n",
      "Started thread: 1\n",
      "\n",
      "Simulation: l400L1000SsbNm\n",
      "\tLocus size: 400bp\n",
      "\tLibrary size: 500 loci\n",
      "\tTree shape: sb\n",
      "\tNe: 100000\n",
      "\tProcess ID: 23337\n",
      "Current working directory: /Users/IanGilman/pythonscripts/SimMissingData\n",
      "\n",
      "\n",
      "Current working directory: /Users/IanGilman/pythonscripts/SimMissingData\n",
      "Directory /Users/IanGilman/pythonscripts/SimMissingData/l400L1000SsbNh already exists\n",
      "\n",
      "\n",
      "Directory /Users/IanGilman/pythonscripts/SimMissingData/l400L1000SsbNm already exists\n",
      "Current working directory: /Users/IanGilman/pythonscripts/SimMissingData/l400L1000SsbNh\n",
      "\n",
      "\n",
      "Current working directory: /Users/IanGilman/pythonscripts/SimMissingData/l400L1000SsbNm\n",
      "Dataset l400L1000SsbNh already simulated. Move/remove it to rerun. Continuing to pyRAD...\n",
      "\n",
      "\n",
      "Dataset l400L1000SsbNm already simulated. Move/remove it to rerun. Continuing to pyRAD...\n",
      "Looking for /Users/IanGilman/pythonscripts/SimMissingData/l400L1000SsbNh/outfiles/l400L1000SsbNh.c88d6m4p3.phy...\n",
      "\n",
      "\n",
      "Looking for /Users/IanGilman/pythonscripts/SimMissingData/l400L1000SsbNm/outfiles/l400L1000SsbNm.c88d6m4p3.phy...\n",
      "Running pyRAD for l400L1000SsbNh...\n",
      "\n",
      "\n",
      "Running pyRAD for l400L1000SsbNm...\n",
      "\n",
      "\n",
      "pyRAD finished for l400L1000SsbNm\n",
      "\n",
      "pyRAD finished for l400L1000SsbNh\n",
      "\n",
      "Final RF distance matrix written to /Users/IanGilman/pythonscripts/SimMissingData/l400L1000SsbNm/l400L1000SsbNm.SVD.RF.csv\n",
      "\n",
      "cleaning up thread 1\n",
      "Final RF distance matrix written to /Users/IanGilman/pythonscripts/SimMissingData/l400L1000SsbNh/l400L1000SsbNh.SVD.RF.csv\n",
      "\n",
      "cleaning up thread 0\n",
      "0\n",
      "1\n"
     ]
    }
   ],
   "source": [
    "if __name__ == '__main__':\n",
    "\n",
    "    processes = []\n",
    "\n",
    "    # now using SyncManager vs a Manager\n",
    "    manager = SyncManager()\n",
    "    # explicitly starting the manager, and telling it to ignore the interrupt signal\n",
    "    manager.start(mgr_init)\n",
    "    try:\n",
    "        shared_array = manager.list()\n",
    "\n",
    "        for PID, param in tqdm_notebook(enumerate(params[:2]), desc='Simulations '):\n",
    "            p = Process(target=SVD_simulation, \n",
    "                        args=(param[0], param[1], param[2], param[3], treeshapes, Nes, \n",
    "                              PID, shared_array, SVD_limit))\n",
    "            p.start()\n",
    "            processes.append(p)\n",
    "        try:\n",
    "            for process in processes:\n",
    "                process.join()\n",
    "        except KeyboardInterrupt:\n",
    "            print \"Keyboard interrupt in main\"\n",
    "\n",
    "        for item in shared_array:\n",
    "            print item\n",
    "    finally:\n",
    "    # to be safe -- explicitly shutting down the manager\n",
    "        manager.shutdown()"
   ]
  },
  {
   "cell_type": "code",
   "execution_count": null,
   "metadata": {
    "collapsed": true
   },
   "outputs": [],
   "source": []
  }
 ],
 "metadata": {
  "anaconda-cloud": {},
  "kernelspec": {
   "display_name": "Python 2",
   "language": "python",
   "name": "python2"
  },
  "language_info": {
   "codemirror_mode": {
    "name": "ipython",
    "version": 2
   },
   "file_extension": ".py",
   "mimetype": "text/x-python",
   "name": "python",
   "nbconvert_exporter": "python",
   "pygments_lexer": "ipython2",
   "version": "2.7.12"
  }
 },
 "nbformat": 4,
 "nbformat_minor": 2
}
