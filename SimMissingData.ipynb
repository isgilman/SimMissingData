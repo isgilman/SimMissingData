{
 "cells": [
  {
   "cell_type": "markdown",
   "metadata": {},
   "source": [
    "# Simulating the effects of missing data in *SVDquartets*\n",
    "In order to explore the effect of missing data on the ability to recover the correct topology in *SVDquartets* a number of ddrad datasets will be simulated, varying levels of data will be convereted to `N`'s, *SVDquartets* will be run, and accuracy will be assessed with the Robinson-Foulds distance. Here is a brief outline:\n",
    "\n",
    "1. Load modules, make a few useful definitions\n",
    "2. Simulate datasets\n",
    "  \n",
    " 2.1 Define simulation parameters\n",
    "    * Data type\n",
    "    * Locus size\n",
    "    * Number of loci per library\n",
    "    * Effective population size\n",
    "    * True tree simulated under\n",
    "    \n",
    " 2.2 Run *simRRLs* and *pyRAD*\n",
    "3. Create missing data replicates\n",
    "4. Run *SVDquartets*\n",
    "5. Calculate RF distance\n",
    "\n",
    "**I highly recommend reading the docs for [*simRRLS*](http://dereneaton.com/radseq/simulating_raw_radseq_data/), [*(i)pyRAD*](http://dereneaton.com/software/pyrad/), and [*ASTRAL-II*](https://github.com/smirarab/ASTRAL/blob/master/astral-tutorial.md). SVDquartets does not have a devoted docs/tutorials page but [Dr. Laura Kubatko's molevol page is very helpful](https://molevol.mbl.edu/index.php/Laura_Kubatko)** \n",
    "    "
   ]
  },
  {
   "cell_type": "markdown",
   "metadata": {},
   "source": [
    "### 1. Load modules, make a few useful definitions"
   ]
  },
  {
   "cell_type": "code",
   "execution_count": 85,
   "metadata": {
    "collapsed": false
   },
   "outputs": [],
   "source": [
    "# Handle IO, sysargs, subprocesses\n",
    "import sys\n",
    "import os\n",
    "import shutil\n",
    "import subprocess\n",
    "from subprocess import Popen, PIPE\n",
    "import csv\n",
    "import glob\n",
    "import pkg_resources\n",
    "import argparse \n",
    "# Data parsing\n",
    "import numpy as np\n",
    "import pandas as pd\n",
    "import numpy.random as rand\n",
    "import re\n",
    "# Bioinformatics\n",
    "from Bio import AlignIO, Alphabet\n",
    "import dendropy\n",
    "from ete3 import Tree, TreeStyle\n",
    "import simrrls as simrrls\n",
    "# Parallelization\n",
    "import logging\n",
    "from multiprocessing import Pool, Process, current_process, log_to_stderr, cpu_count\n",
    "from multiprocessing.managers import SyncManager\n",
    "import signal\n",
    "# Loading bars and miscellaneous\n",
    "from tqdm import tqdm, tnrange, tqdm_notebook\n",
    "from pprint import pprint"
   ]
  },
  {
   "cell_type": "markdown",
   "metadata": {},
   "source": [
    "The next few definitions make our work a little easier and more readable."
   ]
  },
  {
   "cell_type": "code",
   "execution_count": 3,
   "metadata": {
    "collapsed": true
   },
   "outputs": [],
   "source": [
    "def listabs(directory):\n",
    "    '''Returns the absolute path of all items in a directory\n",
    "    \n",
    "    Parameters\n",
    "    ----------\n",
    "    directory : path to directory'''\n",
    "    return [os.path.join(directory, filename) for filename in os.listdir(directory)]"
   ]
  },
  {
   "cell_type": "code",
   "execution_count": 4,
   "metadata": {
    "collapsed": true
   },
   "outputs": [],
   "source": [
    "class Vividict(dict):\n",
    "    '''An infinitely nestable dictionary\n",
    "    \n",
    "    Parameters\n",
    "    -----------\n",
    "    dict : a dictionary\n",
    "     '''\n",
    "    def __missing__(self, key):\n",
    "        value = self[key] = type(self)() # retain local pointer to value\n",
    "        return value                     # faster to return than dict lookup"
   ]
  },
  {
   "cell_type": "code",
   "execution_count": 5,
   "metadata": {
    "collapsed": true
   },
   "outputs": [],
   "source": [
    "def remove_all(directory):\n",
    "    files = glob.glob(directory+'*')\n",
    "    for f in files:\n",
    "        if os.path.isdir(f): shutil.rmtree(f)\n",
    "        else: os.remove(f)"
   ]
  },
  {
   "cell_type": "code",
   "execution_count": 6,
   "metadata": {
    "collapsed": true
   },
   "outputs": [],
   "source": [
    "def multiply_strints(mystring, by):\n",
    "    '''Multiplies all integers in a string by a value.\n",
    "    \n",
    "    Parameters\n",
    "    ----------\n",
    "    mystring : a string\n",
    "    by : factor to multiply by '''\n",
    "    return re.sub(\n",
    "        re.compile(\"\\d+\"), \n",
    "        lambda matchobj: str(int(matchobj.group(0))*by), mystring)"
   ]
  },
  {
   "cell_type": "code",
   "execution_count": 68,
   "metadata": {
    "collapsed": true
   },
   "outputs": [],
   "source": [
    "flatten = lambda l: [item for sublist in l for item in sublist]"
   ]
  },
  {
   "cell_type": "markdown",
   "metadata": {},
   "source": [
    "## 2. Simulate datasets"
   ]
  },
  {
   "cell_type": "markdown",
   "metadata": {},
   "source": [
    "First, let's create and move into a new directory where our simulations will live"
   ]
  },
  {
   "cell_type": "code",
   "execution_count": 7,
   "metadata": {
    "collapsed": false
   },
   "outputs": [
    {
     "name": "stdout",
     "output_type": "stream",
     "text": [
      "Current working directory: /Users/IanGilman/pythonscripts\n",
      "\n",
      "Directory /Users/IanGilman/pythonscripts/SimMissingData/ already exists\n",
      "\n",
      "Current working directory: /Users/IanGilman/pythonscripts/SimMissingData\n",
      "\n"
     ]
    }
   ],
   "source": [
    "print('Current working directory: %s\\n') % (os.getcwd())\n",
    "sim_dir = '/Users/IanGilman/pythonscripts/SimMissingData/'\n",
    "try: \n",
    "    os.mkdir(sim_dir)\n",
    "    print('Created new simulation directory: %s\\n') % (sim_dir)\n",
    "except OSError: \n",
    "    print('Directory %s already exists\\n') % (sim_dir)\n",
    "os.chdir(sim_dir)\n",
    "print('Current working directory: %s\\n') % (os.getcwd())"
   ]
  },
  {
   "cell_type": "markdown",
   "metadata": {},
   "source": [
    "### 2.1 Define simulation parameters\n",
    "Next, we'll define the tree to simulate under. We'll stick with a balanced tree with internal branch lengths of 1.0 coalescent units for now. At the end we'll put everything together to run any number of different topologies/parameters in a parallelized way."
   ]
  },
  {
   "cell_type": "code",
   "execution_count": 8,
   "metadata": {
    "collapsed": true
   },
   "outputs": [],
   "source": [
    "MedBalTree = '(((((A:1,B:1):1,C:2):1,D:3):1,(((E:1,F:1):1,G:2):1,H:3):1):1,(((I:1,J:1):1,K:2):1,L:3):2);'\n",
    "path = os.path.join(sim_dir, 'MedBalTree')\n",
    "with open(path, 'w+') as f:\n",
    "    f.write(MedBalTree)"
   ]
  },
  {
   "cell_type": "code",
   "execution_count": 150,
   "metadata": {
    "collapsed": false
   },
   "outputs": [
    {
     "data": {
      "image/png": "[encoded data removed]",
      "text/plain": [
       "<IPython.core.display.Image object>"
      ]
     },
     "execution_count": 150,
     "metadata": {},
     "output_type": "execute_result"
    }
   ],
   "source": [
    "ts = TreeStyle()\n",
    "ts.show_leaf_name = True\n",
    "ts.show_branch_length = True\n",
    "tree = Tree(MedBalTree)\n",
    "tree.render(\"%%inline\", w =500, tree_style=ts)"
   ]
  },
  {
   "cell_type": "markdown",
   "metadata": {},
   "source": [
    "Our data set will 200 loci, all of length 100bp, and all taxa will have an effective population size ($N_e$) of $1e5$, which is constant in size."
   ]
  },
  {
   "cell_type": "code",
   "execution_count": 17,
   "metadata": {
    "collapsed": true
   },
   "outputs": [],
   "source": [
    "sim_params = {'n_loci':200, 'locus_size':100, 'Ne':1e5, 'treeshape':'mb', 'treepath':path, 'Ne_cat': 'l'}"
   ]
  },
  {
   "cell_type": "markdown",
   "metadata": {},
   "source": [
    "Finally, we need a simulation name for output files that's informative about the simulation parameters (for when we have many simulations). I'll stick with a format indicative of the parameters passed to *simRRLs*: `l<locus_size>L<n_loci>S<treeshape>N<Ne>`. I'll refer to $N_e$ as 'l' (low, $1e4$), 'm' (medium, $1e5$), and 'h' (high, $1e6$). Note that 'mb' refers to medium, balanced."
   ]
  },
  {
   "cell_type": "code",
   "execution_count": 18,
   "metadata": {
    "collapsed": false
   },
   "outputs": [
    {
     "name": "stdout",
     "output_type": "stream",
     "text": [
      "l100L200SmbNl\n"
     ]
    }
   ],
   "source": [
    "simname = 'l%dL%dS%sN%s' % (sim_params['locus_size'], sim_params['n_loci'], sim_params['treeshape'], \n",
    "                            sim_params['Ne_cat'])\n",
    "print simname"
   ]
  },
  {
   "cell_type": "markdown",
   "metadata": {},
   "source": [
    "### 2.2 Run *simRRLs* and *pyRAD*"
   ]
  },
  {
   "cell_type": "markdown",
   "metadata": {},
   "source": [
    "We'll want to have a separate directory for each simulation."
   ]
  },
  {
   "cell_type": "code",
   "execution_count": 50,
   "metadata": {
    "collapsed": false
   },
   "outputs": [
    {
     "name": "stdout",
     "output_type": "stream",
     "text": [
      "Current working directory: /Users/IanGilman/pythonscripts/SimMissingData/l100L200SmbNl\n",
      "\n",
      "Directory /Users/IanGilman/pythonscripts/SimMissingData/l100L200SmbNl already exists\n",
      "\n",
      "Current working directory: /Users/IanGilman/pythonscripts/SimMissingData/l100L200SmbNl\n",
      "\n"
     ]
    }
   ],
   "source": [
    "print('Current working directory: %s\\n') % (os.getcwd())\n",
    "current_simdir = os.path.join('/Users/IanGilman/pythonscripts/SimMissingData/', simname)\n",
    "try: \n",
    "    os.mkdir(current_simdir)\n",
    "    print('Created new simulation directory: %s\\n') % (current_simdir)\n",
    "except OSError: \n",
    "    print('Directory %s already exists\\n') % (current_simdir)\n",
    "os.chdir(current_simdir)\n",
    "print('Current working directory: %s\\n') % (os.getcwd())"
   ]
  },
  {
   "cell_type": "markdown",
   "metadata": {},
   "source": [
    "**Run *simRRLs***"
   ]
  },
  {
   "cell_type": "markdown",
   "metadata": {},
   "source": [
    "I'm interested in ddRAD because of my empirical work in *Chloropyron* (Orobanchaceae), but RAD, GBS, paired-end ddRAD, and paired-end GBS can also be simulated. Here's what our command would look like entered into the command line:"
   ]
  },
  {
   "cell_type": "code",
   "execution_count": 52,
   "metadata": {
    "collapsed": false
   },
   "outputs": [
    {
     "name": "stdout",
     "output_type": "stream",
     "text": [
      "bash\n",
      ">> -o l100L200SmbNl -f ddrad -l 100 -L 200 -N 100000.0 -t /Users/IanGilman/pythonscripts/SimMissingData/MedBalTree\n"
     ]
    }
   ],
   "source": [
    "simrrlls_call = '-o %s -f ddrad -l %d -L %d -N %s -t %s' % (simname, \n",
    "                                                            sim_params['locus_size'], \n",
    "                                                            sim_params['n_loci'],\n",
    "                                                            sim_params['Ne'],\n",
    "                                                            sim_params['treepath'])\n",
    "print(\"bash\\n>> %s\") % (simrrlls_call)"
   ]
  },
  {
   "cell_type": "code",
   "execution_count": 55,
   "metadata": {
    "collapsed": false
   },
   "outputs": [],
   "source": [
    "run_simrrls = Popen(['simrrls', '-o', simname, \n",
    "                      '-f', 'ddrad', \n",
    "                      '-l', str(sim_params['locus_size']), \n",
    "                      '-L', str(sim_params['n_loci']), \n",
    "                      '-N', str(sim_params['Ne']),\n",
    "                      '-t', sim_params['treepath']], \n",
    "                     stdin=PIPE, stdout=PIPE, stderr=PIPE)"
   ]
  },
  {
   "cell_type": "markdown",
   "metadata": {},
   "source": [
    "**Run *pyRAD***\n",
    "\n",
    "To run *pyRAD* we'll first need to create a params file. We'll create one, slightly change the barcode file from *simRRLs* so it's recognized by default by *pyRAD*, and change a few settings. For the purpose of our study, we'll change the restriction overhang, number of processors, datatype, output prefix, and output formats."
   ]
  },
  {
   "cell_type": "code",
   "execution_count": 60,
   "metadata": {
    "collapsed": false
   },
   "outputs": [
    {
     "name": "stdout",
     "output_type": "stream",
     "text": [
      "bash\n",
      ">> pyrad -n\n"
     ]
    }
   ],
   "source": [
    "new_params_call = 'pyrad -n' \n",
    "print(\"bash\\n>> %s\") % (new_params_call)\n",
    "create_new_params = Popen(['/Users/IanGilman/pyrad/pyrad/pyRAD.py', '-n'], stdin=PIPE, stdout=PIPE, stderr=PIPE)"
   ]
  },
  {
   "cell_type": "code",
   "execution_count": 62,
   "metadata": {
    "collapsed": true
   },
   "outputs": [],
   "source": [
    "old_bc_file = simname+'_barcodes.txt'\n",
    "new_bc_file = simname+'.barcodes'\n",
    "if not os.path.exists(new_bc_file):\n",
    "    shutil.move(old_bc_file, new_bc_file)"
   ]
  },
  {
   "cell_type": "code",
   "execution_count": 65,
   "metadata": {
    "collapsed": false
   },
   "outputs": [],
   "source": [
    "# Read old lines\n",
    "with open('params.txt', 'r') as p:\n",
    "    paramsdata =  p.readlines()\n",
    "\n",
    "# Edit lines\n",
    "newlines = []\n",
    "for line in paramsdata:\n",
    "    if 'Restriction overhang' in line:\n",
    "        line = 'CTGCAG, CCGG                     ## 6. Restriction overhang (e.g., C|TGCAG -> TGCAG)     (s1,s2)\\n'\n",
    "    if 'N processors' in line:\n",
    "        line = '%d                         ## 7. N processors (parallel)                           (all)\\n' % (cpu_count())\n",
    "    if 'Datatype' in line:\n",
    "        line = 'ddrad                       ## 11. Datatype: rad,gbs,pairgbs,pairddrad,(others:see docs)(all)\\n'\n",
    "    if 'Prefix name' in line:\n",
    "        line = '%s.c88d6m4p3                 ## 14. Prefix name for final output (no spaces)         (s7)\\n' % (simname)\n",
    "    if 'output formats' in line:\n",
    "        line = '*                       ## 30.opt.: output formats: p,n,a,s,v,u,t,m,k,g,* (see docs) (s7)\\n'\n",
    "    newlines.append(line)\n",
    "\n",
    "# Write new lines\n",
    "with open('params.txt', 'w') as p:\n",
    "    p.writelines(newlines)"
   ]
  },
  {
   "cell_type": "markdown",
   "metadata": {},
   "source": [
    "Now we're ready to run *pyRAD*"
   ]
  },
  {
   "cell_type": "code",
   "execution_count": 67,
   "metadata": {
    "collapsed": false
   },
   "outputs": [
    {
     "name": "stdout",
     "output_type": "stream",
     "text": [
      "bash\n",
      ">> pyrad -p params.txt -s 1234567\n"
     ]
    }
   ],
   "source": [
    "pyrad_call = 'pyrad -p params.txt -s 1234567' \n",
    "print(\"bash\\n>> %s\") % (pyrad_call)\n",
    "run_pyrad = Popen(['/Users/IanGilman/pyrad/pyrad/pyRAD.py', '-p', 'params.txt', '-s', '1234567'], \n",
    "                  stdin=PIPE, stdout=PIPE, stderr=PIPE)"
   ]
  },
  {
   "cell_type": "markdown",
   "metadata": {},
   "source": [
    "### 3. Create missing data replicates\n",
    "\n",
    "With our output files in hand, we can now randomly remove data. We'll work with phylip files for simplicity, but have to convert back to nexus for input into PAUP*. We'll begin by reading a phylip file into a DataFrame."
   ]
  },
  {
   "cell_type": "code",
   "execution_count": 73,
   "metadata": {
    "collapsed": false
   },
   "outputs": [
    {
     "data": {
      "text/html": [
       "<div>\n",
       "<table border=\"1\" class=\"dataframe\">\n",
       "  <thead>\n",
       "    <tr style=\"text-align: right;\">\n",
       "      <th></th>\n",
       "      <th>1</th>\n",
       "      <th>2</th>\n",
       "      <th>3</th>\n",
       "      <th>4</th>\n",
       "      <th>5</th>\n",
       "      <th>6</th>\n",
       "      <th>7</th>\n",
       "      <th>8</th>\n",
       "      <th>9</th>\n",
       "      <th>10</th>\n",
       "      <th>...</th>\n",
       "      <th>16991</th>\n",
       "      <th>16992</th>\n",
       "      <th>16993</th>\n",
       "      <th>16994</th>\n",
       "      <th>16995</th>\n",
       "      <th>16996</th>\n",
       "      <th>16997</th>\n",
       "      <th>16998</th>\n",
       "      <th>16999</th>\n",
       "      <th>17000</th>\n",
       "    </tr>\n",
       "    <tr>\n",
       "      <th>0</th>\n",
       "      <th></th>\n",
       "      <th></th>\n",
       "      <th></th>\n",
       "      <th></th>\n",
       "      <th></th>\n",
       "      <th></th>\n",
       "      <th></th>\n",
       "      <th></th>\n",
       "      <th></th>\n",
       "      <th></th>\n",
       "      <th></th>\n",
       "      <th></th>\n",
       "      <th></th>\n",
       "      <th></th>\n",
       "      <th></th>\n",
       "      <th></th>\n",
       "      <th></th>\n",
       "      <th></th>\n",
       "      <th></th>\n",
       "      <th></th>\n",
       "      <th></th>\n",
       "    </tr>\n",
       "  </thead>\n",
       "  <tbody>\n",
       "    <tr>\n",
       "      <th>A_0</th>\n",
       "      <td>T</td>\n",
       "      <td>G</td>\n",
       "      <td>A</td>\n",
       "      <td>T</td>\n",
       "      <td>T</td>\n",
       "      <td>T</td>\n",
       "      <td>C</td>\n",
       "      <td>C</td>\n",
       "      <td>C</td>\n",
       "      <td>G</td>\n",
       "      <td>...</td>\n",
       "      <td>A</td>\n",
       "      <td>G</td>\n",
       "      <td>T</td>\n",
       "      <td>G</td>\n",
       "      <td>C</td>\n",
       "      <td>G</td>\n",
       "      <td>G</td>\n",
       "      <td>A</td>\n",
       "      <td>C</td>\n",
       "      <td>T</td>\n",
       "    </tr>\n",
       "    <tr>\n",
       "      <th>B_0</th>\n",
       "      <td>T</td>\n",
       "      <td>G</td>\n",
       "      <td>A</td>\n",
       "      <td>T</td>\n",
       "      <td>T</td>\n",
       "      <td>T</td>\n",
       "      <td>C</td>\n",
       "      <td>C</td>\n",
       "      <td>C</td>\n",
       "      <td>G</td>\n",
       "      <td>...</td>\n",
       "      <td>A</td>\n",
       "      <td>G</td>\n",
       "      <td>T</td>\n",
       "      <td>G</td>\n",
       "      <td>C</td>\n",
       "      <td>G</td>\n",
       "      <td>G</td>\n",
       "      <td>A</td>\n",
       "      <td>C</td>\n",
       "      <td>T</td>\n",
       "    </tr>\n",
       "    <tr>\n",
       "      <th>C_0</th>\n",
       "      <td>T</td>\n",
       "      <td>G</td>\n",
       "      <td>A</td>\n",
       "      <td>T</td>\n",
       "      <td>T</td>\n",
       "      <td>T</td>\n",
       "      <td>C</td>\n",
       "      <td>C</td>\n",
       "      <td>C</td>\n",
       "      <td>G</td>\n",
       "      <td>...</td>\n",
       "      <td>A</td>\n",
       "      <td>G</td>\n",
       "      <td>T</td>\n",
       "      <td>G</td>\n",
       "      <td>C</td>\n",
       "      <td>G</td>\n",
       "      <td>G</td>\n",
       "      <td>A</td>\n",
       "      <td>C</td>\n",
       "      <td>T</td>\n",
       "    </tr>\n",
       "    <tr>\n",
       "      <th>D_0</th>\n",
       "      <td>T</td>\n",
       "      <td>G</td>\n",
       "      <td>A</td>\n",
       "      <td>T</td>\n",
       "      <td>T</td>\n",
       "      <td>T</td>\n",
       "      <td>C</td>\n",
       "      <td>S</td>\n",
       "      <td>C</td>\n",
       "      <td>G</td>\n",
       "      <td>...</td>\n",
       "      <td>A</td>\n",
       "      <td>G</td>\n",
       "      <td>T</td>\n",
       "      <td>G</td>\n",
       "      <td>C</td>\n",
       "      <td>G</td>\n",
       "      <td>G</td>\n",
       "      <td>A</td>\n",
       "      <td>C</td>\n",
       "      <td>T</td>\n",
       "    </tr>\n",
       "    <tr>\n",
       "      <th>E_0</th>\n",
       "      <td>T</td>\n",
       "      <td>G</td>\n",
       "      <td>A</td>\n",
       "      <td>T</td>\n",
       "      <td>T</td>\n",
       "      <td>T</td>\n",
       "      <td>C</td>\n",
       "      <td>C</td>\n",
       "      <td>C</td>\n",
       "      <td>G</td>\n",
       "      <td>...</td>\n",
       "      <td>A</td>\n",
       "      <td>G</td>\n",
       "      <td>T</td>\n",
       "      <td>G</td>\n",
       "      <td>C</td>\n",
       "      <td>G</td>\n",
       "      <td>G</td>\n",
       "      <td>A</td>\n",
       "      <td>C</td>\n",
       "      <td>T</td>\n",
       "    </tr>\n",
       "    <tr>\n",
       "      <th>F_0</th>\n",
       "      <td>T</td>\n",
       "      <td>G</td>\n",
       "      <td>A</td>\n",
       "      <td>T</td>\n",
       "      <td>T</td>\n",
       "      <td>T</td>\n",
       "      <td>C</td>\n",
       "      <td>C</td>\n",
       "      <td>C</td>\n",
       "      <td>G</td>\n",
       "      <td>...</td>\n",
       "      <td>A</td>\n",
       "      <td>G</td>\n",
       "      <td>T</td>\n",
       "      <td>G</td>\n",
       "      <td>C</td>\n",
       "      <td>G</td>\n",
       "      <td>G</td>\n",
       "      <td>A</td>\n",
       "      <td>C</td>\n",
       "      <td>T</td>\n",
       "    </tr>\n",
       "    <tr>\n",
       "      <th>G_0</th>\n",
       "      <td>T</td>\n",
       "      <td>G</td>\n",
       "      <td>A</td>\n",
       "      <td>T</td>\n",
       "      <td>T</td>\n",
       "      <td>T</td>\n",
       "      <td>C</td>\n",
       "      <td>C</td>\n",
       "      <td>C</td>\n",
       "      <td>G</td>\n",
       "      <td>...</td>\n",
       "      <td>A</td>\n",
       "      <td>G</td>\n",
       "      <td>T</td>\n",
       "      <td>G</td>\n",
       "      <td>C</td>\n",
       "      <td>G</td>\n",
       "      <td>G</td>\n",
       "      <td>A</td>\n",
       "      <td>C</td>\n",
       "      <td>T</td>\n",
       "    </tr>\n",
       "    <tr>\n",
       "      <th>H_0</th>\n",
       "      <td>T</td>\n",
       "      <td>G</td>\n",
       "      <td>A</td>\n",
       "      <td>T</td>\n",
       "      <td>T</td>\n",
       "      <td>T</td>\n",
       "      <td>C</td>\n",
       "      <td>C</td>\n",
       "      <td>C</td>\n",
       "      <td>G</td>\n",
       "      <td>...</td>\n",
       "      <td>A</td>\n",
       "      <td>G</td>\n",
       "      <td>T</td>\n",
       "      <td>G</td>\n",
       "      <td>C</td>\n",
       "      <td>G</td>\n",
       "      <td>G</td>\n",
       "      <td>A</td>\n",
       "      <td>C</td>\n",
       "      <td>T</td>\n",
       "    </tr>\n",
       "    <tr>\n",
       "      <th>I_0</th>\n",
       "      <td>T</td>\n",
       "      <td>G</td>\n",
       "      <td>A</td>\n",
       "      <td>T</td>\n",
       "      <td>T</td>\n",
       "      <td>T</td>\n",
       "      <td>C</td>\n",
       "      <td>C</td>\n",
       "      <td>C</td>\n",
       "      <td>G</td>\n",
       "      <td>...</td>\n",
       "      <td>A</td>\n",
       "      <td>G</td>\n",
       "      <td>T</td>\n",
       "      <td>G</td>\n",
       "      <td>C</td>\n",
       "      <td>G</td>\n",
       "      <td>G</td>\n",
       "      <td>A</td>\n",
       "      <td>C</td>\n",
       "      <td>T</td>\n",
       "    </tr>\n",
       "    <tr>\n",
       "      <th>J_0</th>\n",
       "      <td>T</td>\n",
       "      <td>G</td>\n",
       "      <td>A</td>\n",
       "      <td>T</td>\n",
       "      <td>T</td>\n",
       "      <td>T</td>\n",
       "      <td>C</td>\n",
       "      <td>C</td>\n",
       "      <td>C</td>\n",
       "      <td>G</td>\n",
       "      <td>...</td>\n",
       "      <td>A</td>\n",
       "      <td>G</td>\n",
       "      <td>T</td>\n",
       "      <td>G</td>\n",
       "      <td>C</td>\n",
       "      <td>G</td>\n",
       "      <td>G</td>\n",
       "      <td>A</td>\n",
       "      <td>C</td>\n",
       "      <td>T</td>\n",
       "    </tr>\n",
       "    <tr>\n",
       "      <th>K_0</th>\n",
       "      <td>T</td>\n",
       "      <td>G</td>\n",
       "      <td>A</td>\n",
       "      <td>T</td>\n",
       "      <td>T</td>\n",
       "      <td>T</td>\n",
       "      <td>C</td>\n",
       "      <td>C</td>\n",
       "      <td>C</td>\n",
       "      <td>G</td>\n",
       "      <td>...</td>\n",
       "      <td>A</td>\n",
       "      <td>G</td>\n",
       "      <td>T</td>\n",
       "      <td>G</td>\n",
       "      <td>C</td>\n",
       "      <td>G</td>\n",
       "      <td>G</td>\n",
       "      <td>A</td>\n",
       "      <td>C</td>\n",
       "      <td>T</td>\n",
       "    </tr>\n",
       "    <tr>\n",
       "      <th>L_0</th>\n",
       "      <td>T</td>\n",
       "      <td>G</td>\n",
       "      <td>A</td>\n",
       "      <td>T</td>\n",
       "      <td>T</td>\n",
       "      <td>T</td>\n",
       "      <td>C</td>\n",
       "      <td>C</td>\n",
       "      <td>C</td>\n",
       "      <td>G</td>\n",
       "      <td>...</td>\n",
       "      <td>A</td>\n",
       "      <td>G</td>\n",
       "      <td>T</td>\n",
       "      <td>G</td>\n",
       "      <td>C</td>\n",
       "      <td>G</td>\n",
       "      <td>G</td>\n",
       "      <td>A</td>\n",
       "      <td>C</td>\n",
       "      <td>T</td>\n",
       "    </tr>\n",
       "  </tbody>\n",
       "</table>\n",
       "<p>12 rows × 17000 columns</p>\n",
       "</div>"
      ],
      "text/plain": [
       "    1     2     3     4     5     6     7     8     9     10     ...  16991  \\\n",
       "0                                                                ...          \n",
       "A_0     T     G     A     T     T     T     C     C     C     G  ...      A   \n",
       "B_0     T     G     A     T     T     T     C     C     C     G  ...      A   \n",
       "C_0     T     G     A     T     T     T     C     C     C     G  ...      A   \n",
       "D_0     T     G     A     T     T     T     C     S     C     G  ...      A   \n",
       "E_0     T     G     A     T     T     T     C     C     C     G  ...      A   \n",
       "F_0     T     G     A     T     T     T     C     C     C     G  ...      A   \n",
       "G_0     T     G     A     T     T     T     C     C     C     G  ...      A   \n",
       "H_0     T     G     A     T     T     T     C     C     C     G  ...      A   \n",
       "I_0     T     G     A     T     T     T     C     C     C     G  ...      A   \n",
       "J_0     T     G     A     T     T     T     C     C     C     G  ...      A   \n",
       "K_0     T     G     A     T     T     T     C     C     C     G  ...      A   \n",
       "L_0     T     G     A     T     T     T     C     C     C     G  ...      A   \n",
       "\n",
       "    16992 16993 16994 16995 16996 16997 16998 16999 17000  \n",
       "0                                                          \n",
       "A_0     G     T     G     C     G     G     A     C     T  \n",
       "B_0     G     T     G     C     G     G     A     C     T  \n",
       "C_0     G     T     G     C     G     G     A     C     T  \n",
       "D_0     G     T     G     C     G     G     A     C     T  \n",
       "E_0     G     T     G     C     G     G     A     C     T  \n",
       "F_0     G     T     G     C     G     G     A     C     T  \n",
       "G_0     G     T     G     C     G     G     A     C     T  \n",
       "H_0     G     T     G     C     G     G     A     C     T  \n",
       "I_0     G     T     G     C     G     G     A     C     T  \n",
       "J_0     G     T     G     C     G     G     A     C     T  \n",
       "K_0     G     T     G     C     G     G     A     C     T  \n",
       "L_0     G     T     G     C     G     G     A     C     T  \n",
       "\n",
       "[12 rows x 17000 columns]"
      ]
     },
     "execution_count": 73,
     "metadata": {},
     "output_type": "execute_result"
    }
   ],
   "source": [
    "# Read phylip data\n",
    "phylip = './outfiles/%s.c88d6m4p3.phy' % (simname)\n",
    "with open(phylip, 'r') as p:\n",
    "    phylipdata = p.readlines()\n",
    "\n",
    "# Split all sites \n",
    "splitdata = []\n",
    "for line in phylipdata[1:]:\n",
    "    splitdata.append(line.split())\n",
    "for i, line in enumerate(splitdata):\n",
    "    splitdata[i][1] = list(splitdata[i][1])    \n",
    "flatdata = []\n",
    "for line in splitdata:\n",
    "    flatdata.append([line[0]]+line[1])\n",
    "\n",
    "# Write to dataframe\n",
    "datadf = pd.DataFrame(flatdata)\n",
    "datadf.set_index(keys=[0], inplace=True)\n",
    "\n",
    "datadf"
   ]
  },
  {
   "cell_type": "markdown",
   "metadata": {},
   "source": [
    "For now, we'll remove 50% of the data, but in the full program we'd loop over many rates of missing data. To keep track of these unique datasets we'll add a prefix to our filenames."
   ]
  },
  {
   "cell_type": "code",
   "execution_count": 77,
   "metadata": {
    "collapsed": false
   },
   "outputs": [
    {
     "data": {
      "text/html": [
       "<div>\n",
       "<table border=\"1\" class=\"dataframe\">\n",
       "  <thead>\n",
       "    <tr style=\"text-align: right;\">\n",
       "      <th></th>\n",
       "      <th>1</th>\n",
       "      <th>2</th>\n",
       "      <th>3</th>\n",
       "      <th>4</th>\n",
       "      <th>5</th>\n",
       "      <th>6</th>\n",
       "      <th>7</th>\n",
       "      <th>8</th>\n",
       "      <th>9</th>\n",
       "      <th>10</th>\n",
       "      <th>...</th>\n",
       "      <th>16991</th>\n",
       "      <th>16992</th>\n",
       "      <th>16993</th>\n",
       "      <th>16994</th>\n",
       "      <th>16995</th>\n",
       "      <th>16996</th>\n",
       "      <th>16997</th>\n",
       "      <th>16998</th>\n",
       "      <th>16999</th>\n",
       "      <th>17000</th>\n",
       "    </tr>\n",
       "    <tr>\n",
       "      <th>0</th>\n",
       "      <th></th>\n",
       "      <th></th>\n",
       "      <th></th>\n",
       "      <th></th>\n",
       "      <th></th>\n",
       "      <th></th>\n",
       "      <th></th>\n",
       "      <th></th>\n",
       "      <th></th>\n",
       "      <th></th>\n",
       "      <th></th>\n",
       "      <th></th>\n",
       "      <th></th>\n",
       "      <th></th>\n",
       "      <th></th>\n",
       "      <th></th>\n",
       "      <th></th>\n",
       "      <th></th>\n",
       "      <th></th>\n",
       "      <th></th>\n",
       "      <th></th>\n",
       "    </tr>\n",
       "  </thead>\n",
       "  <tbody>\n",
       "    <tr>\n",
       "      <th>A_0</th>\n",
       "      <td>N</td>\n",
       "      <td>N</td>\n",
       "      <td>A</td>\n",
       "      <td>T</td>\n",
       "      <td>T</td>\n",
       "      <td>N</td>\n",
       "      <td>C</td>\n",
       "      <td>N</td>\n",
       "      <td>N</td>\n",
       "      <td>G</td>\n",
       "      <td>...</td>\n",
       "      <td>N</td>\n",
       "      <td>G</td>\n",
       "      <td>T</td>\n",
       "      <td>G</td>\n",
       "      <td>N</td>\n",
       "      <td>G</td>\n",
       "      <td>N</td>\n",
       "      <td>N</td>\n",
       "      <td>N</td>\n",
       "      <td>T</td>\n",
       "    </tr>\n",
       "    <tr>\n",
       "      <th>B_0</th>\n",
       "      <td>N</td>\n",
       "      <td>N</td>\n",
       "      <td>A</td>\n",
       "      <td>N</td>\n",
       "      <td>T</td>\n",
       "      <td>N</td>\n",
       "      <td>N</td>\n",
       "      <td>N</td>\n",
       "      <td>C</td>\n",
       "      <td>G</td>\n",
       "      <td>...</td>\n",
       "      <td>A</td>\n",
       "      <td>G</td>\n",
       "      <td>T</td>\n",
       "      <td>N</td>\n",
       "      <td>C</td>\n",
       "      <td>G</td>\n",
       "      <td>N</td>\n",
       "      <td>A</td>\n",
       "      <td>C</td>\n",
       "      <td>N</td>\n",
       "    </tr>\n",
       "    <tr>\n",
       "      <th>C_0</th>\n",
       "      <td>N</td>\n",
       "      <td>G</td>\n",
       "      <td>A</td>\n",
       "      <td>N</td>\n",
       "      <td>N</td>\n",
       "      <td>N</td>\n",
       "      <td>N</td>\n",
       "      <td>N</td>\n",
       "      <td>C</td>\n",
       "      <td>G</td>\n",
       "      <td>...</td>\n",
       "      <td>A</td>\n",
       "      <td>G</td>\n",
       "      <td>T</td>\n",
       "      <td>N</td>\n",
       "      <td>C</td>\n",
       "      <td>N</td>\n",
       "      <td>N</td>\n",
       "      <td>A</td>\n",
       "      <td>C</td>\n",
       "      <td>T</td>\n",
       "    </tr>\n",
       "    <tr>\n",
       "      <th>D_0</th>\n",
       "      <td>T</td>\n",
       "      <td>G</td>\n",
       "      <td>A</td>\n",
       "      <td>T</td>\n",
       "      <td>N</td>\n",
       "      <td>T</td>\n",
       "      <td>N</td>\n",
       "      <td>S</td>\n",
       "      <td>C</td>\n",
       "      <td>G</td>\n",
       "      <td>...</td>\n",
       "      <td>N</td>\n",
       "      <td>N</td>\n",
       "      <td>T</td>\n",
       "      <td>N</td>\n",
       "      <td>C</td>\n",
       "      <td>G</td>\n",
       "      <td>N</td>\n",
       "      <td>N</td>\n",
       "      <td>N</td>\n",
       "      <td>N</td>\n",
       "    </tr>\n",
       "    <tr>\n",
       "      <th>E_0</th>\n",
       "      <td>T</td>\n",
       "      <td>N</td>\n",
       "      <td>A</td>\n",
       "      <td>N</td>\n",
       "      <td>N</td>\n",
       "      <td>T</td>\n",
       "      <td>N</td>\n",
       "      <td>N</td>\n",
       "      <td>N</td>\n",
       "      <td>N</td>\n",
       "      <td>...</td>\n",
       "      <td>A</td>\n",
       "      <td>G</td>\n",
       "      <td>N</td>\n",
       "      <td>N</td>\n",
       "      <td>N</td>\n",
       "      <td>N</td>\n",
       "      <td>N</td>\n",
       "      <td>N</td>\n",
       "      <td>C</td>\n",
       "      <td>N</td>\n",
       "    </tr>\n",
       "    <tr>\n",
       "      <th>F_0</th>\n",
       "      <td>T</td>\n",
       "      <td>G</td>\n",
       "      <td>A</td>\n",
       "      <td>T</td>\n",
       "      <td>T</td>\n",
       "      <td>T</td>\n",
       "      <td>N</td>\n",
       "      <td>C</td>\n",
       "      <td>C</td>\n",
       "      <td>N</td>\n",
       "      <td>...</td>\n",
       "      <td>A</td>\n",
       "      <td>G</td>\n",
       "      <td>T</td>\n",
       "      <td>G</td>\n",
       "      <td>N</td>\n",
       "      <td>G</td>\n",
       "      <td>G</td>\n",
       "      <td>N</td>\n",
       "      <td>C</td>\n",
       "      <td>T</td>\n",
       "    </tr>\n",
       "    <tr>\n",
       "      <th>G_0</th>\n",
       "      <td>T</td>\n",
       "      <td>G</td>\n",
       "      <td>A</td>\n",
       "      <td>T</td>\n",
       "      <td>T</td>\n",
       "      <td>N</td>\n",
       "      <td>C</td>\n",
       "      <td>N</td>\n",
       "      <td>N</td>\n",
       "      <td>N</td>\n",
       "      <td>...</td>\n",
       "      <td>N</td>\n",
       "      <td>G</td>\n",
       "      <td>N</td>\n",
       "      <td>N</td>\n",
       "      <td>C</td>\n",
       "      <td>G</td>\n",
       "      <td>G</td>\n",
       "      <td>A</td>\n",
       "      <td>N</td>\n",
       "      <td>N</td>\n",
       "    </tr>\n",
       "    <tr>\n",
       "      <th>H_0</th>\n",
       "      <td>T</td>\n",
       "      <td>G</td>\n",
       "      <td>N</td>\n",
       "      <td>N</td>\n",
       "      <td>T</td>\n",
       "      <td>N</td>\n",
       "      <td>N</td>\n",
       "      <td>N</td>\n",
       "      <td>C</td>\n",
       "      <td>N</td>\n",
       "      <td>...</td>\n",
       "      <td>N</td>\n",
       "      <td>G</td>\n",
       "      <td>N</td>\n",
       "      <td>G</td>\n",
       "      <td>N</td>\n",
       "      <td>N</td>\n",
       "      <td>N</td>\n",
       "      <td>A</td>\n",
       "      <td>C</td>\n",
       "      <td>N</td>\n",
       "    </tr>\n",
       "    <tr>\n",
       "      <th>I_0</th>\n",
       "      <td>N</td>\n",
       "      <td>G</td>\n",
       "      <td>A</td>\n",
       "      <td>N</td>\n",
       "      <td>T</td>\n",
       "      <td>T</td>\n",
       "      <td>C</td>\n",
       "      <td>C</td>\n",
       "      <td>C</td>\n",
       "      <td>G</td>\n",
       "      <td>...</td>\n",
       "      <td>N</td>\n",
       "      <td>N</td>\n",
       "      <td>T</td>\n",
       "      <td>G</td>\n",
       "      <td>C</td>\n",
       "      <td>G</td>\n",
       "      <td>N</td>\n",
       "      <td>N</td>\n",
       "      <td>C</td>\n",
       "      <td>N</td>\n",
       "    </tr>\n",
       "    <tr>\n",
       "      <th>J_0</th>\n",
       "      <td>N</td>\n",
       "      <td>G</td>\n",
       "      <td>A</td>\n",
       "      <td>N</td>\n",
       "      <td>N</td>\n",
       "      <td>T</td>\n",
       "      <td>N</td>\n",
       "      <td>C</td>\n",
       "      <td>C</td>\n",
       "      <td>N</td>\n",
       "      <td>...</td>\n",
       "      <td>N</td>\n",
       "      <td>G</td>\n",
       "      <td>N</td>\n",
       "      <td>G</td>\n",
       "      <td>C</td>\n",
       "      <td>G</td>\n",
       "      <td>N</td>\n",
       "      <td>N</td>\n",
       "      <td>C</td>\n",
       "      <td>T</td>\n",
       "    </tr>\n",
       "    <tr>\n",
       "      <th>K_0</th>\n",
       "      <td>N</td>\n",
       "      <td>N</td>\n",
       "      <td>A</td>\n",
       "      <td>T</td>\n",
       "      <td>N</td>\n",
       "      <td>T</td>\n",
       "      <td>C</td>\n",
       "      <td>C</td>\n",
       "      <td>C</td>\n",
       "      <td>N</td>\n",
       "      <td>...</td>\n",
       "      <td>N</td>\n",
       "      <td>N</td>\n",
       "      <td>N</td>\n",
       "      <td>G</td>\n",
       "      <td>C</td>\n",
       "      <td>G</td>\n",
       "      <td>G</td>\n",
       "      <td>N</td>\n",
       "      <td>C</td>\n",
       "      <td>N</td>\n",
       "    </tr>\n",
       "    <tr>\n",
       "      <th>L_0</th>\n",
       "      <td>N</td>\n",
       "      <td>N</td>\n",
       "      <td>A</td>\n",
       "      <td>N</td>\n",
       "      <td>N</td>\n",
       "      <td>T</td>\n",
       "      <td>C</td>\n",
       "      <td>C</td>\n",
       "      <td>N</td>\n",
       "      <td>N</td>\n",
       "      <td>...</td>\n",
       "      <td>A</td>\n",
       "      <td>G</td>\n",
       "      <td>T</td>\n",
       "      <td>N</td>\n",
       "      <td>N</td>\n",
       "      <td>N</td>\n",
       "      <td>N</td>\n",
       "      <td>A</td>\n",
       "      <td>N</td>\n",
       "      <td>N</td>\n",
       "    </tr>\n",
       "  </tbody>\n",
       "</table>\n",
       "<p>12 rows × 17000 columns</p>\n",
       "</div>"
      ],
      "text/plain": [
       "    1     2     3     4     5     6     7     8     9     10     ...  16991  \\\n",
       "0                                                                ...          \n",
       "A_0     N     N     A     T     T     N     C     N     N     G  ...      N   \n",
       "B_0     N     N     A     N     T     N     N     N     C     G  ...      A   \n",
       "C_0     N     G     A     N     N     N     N     N     C     G  ...      A   \n",
       "D_0     T     G     A     T     N     T     N     S     C     G  ...      N   \n",
       "E_0     T     N     A     N     N     T     N     N     N     N  ...      A   \n",
       "F_0     T     G     A     T     T     T     N     C     C     N  ...      A   \n",
       "G_0     T     G     A     T     T     N     C     N     N     N  ...      N   \n",
       "H_0     T     G     N     N     T     N     N     N     C     N  ...      N   \n",
       "I_0     N     G     A     N     T     T     C     C     C     G  ...      N   \n",
       "J_0     N     G     A     N     N     T     N     C     C     N  ...      N   \n",
       "K_0     N     N     A     T     N     T     C     C     C     N  ...      N   \n",
       "L_0     N     N     A     N     N     T     C     C     N     N  ...      A   \n",
       "\n",
       "    16992 16993 16994 16995 16996 16997 16998 16999 17000  \n",
       "0                                                          \n",
       "A_0     G     T     G     N     G     N     N     N     T  \n",
       "B_0     G     T     N     C     G     N     A     C     N  \n",
       "C_0     G     T     N     C     N     N     A     C     T  \n",
       "D_0     N     T     N     C     G     N     N     N     N  \n",
       "E_0     G     N     N     N     N     N     N     C     N  \n",
       "F_0     G     T     G     N     G     G     N     C     T  \n",
       "G_0     G     N     N     C     G     G     A     N     N  \n",
       "H_0     G     N     G     N     N     N     A     C     N  \n",
       "I_0     N     T     G     C     G     N     N     C     N  \n",
       "J_0     G     N     G     C     G     N     N     C     T  \n",
       "K_0     N     N     G     C     G     G     N     C     N  \n",
       "L_0     G     T     N     N     N     N     A     N     N  \n",
       "\n",
       "[12 rows x 17000 columns]"
      ]
     },
     "execution_count": 77,
     "metadata": {},
     "output_type": "execute_result"
    }
   ],
   "source": [
    "percent = 50\n",
    "# Create string for naming files\n",
    "p = '.p'+str(percent).zfill(2)\n",
    "\n",
    "# Get number of entries\n",
    "entries = datadf.shape[0]*datadf.shape[1]\n",
    "\n",
    "# Substitute rand percent with 'N'\n",
    "if percent==0: missingdf=datadf\n",
    "else: missingdf = datadf.where(np.random.uniform(size=datadf.shape) > float(percent/100.), 'N')\n",
    "\n",
    "missingdf"
   ]
  },
  {
   "cell_type": "code",
   "execution_count": 132,
   "metadata": {
    "collapsed": false
   },
   "outputs": [
    {
     "name": "stdout",
     "output_type": "stream",
     "text": [
      "Wrote 50 percent missing data phylip file to l100L200SmbNl.p50.phy\n",
      "Wrote 50 missing data nexus file to l100L200SmbNl.p50.nex\n"
     ]
    }
   ],
   "source": [
    "# Convert dataframe to sequence strings\n",
    "missinglines =[]\n",
    "meta = ('%d %d\\n') % (datadf.shape[0], datadf.shape[1])\n",
    "missinglines.append(meta)\n",
    "for i in xrange(len(missingdf)):\n",
    "    missinglines.append('       '.join([missingdf.index[i],''.join(missingdf.ix[i])])+'\\n')\n",
    "    \n",
    "# Write strings to phylip file\n",
    "with open(simname+p+'.phy', 'w+') as m:\n",
    "    m.writelines(missinglines)\n",
    "    missing_phy = simname+p+'.phy'\n",
    "    print('Wrote %d percent missing data phylip file to %s') % (percent, missing_phy)\n",
    "\n",
    "# Convert phlyip to nexus for PAUP\n",
    "alignment = AlignIO.read(open(simname+p+'.phy'), \"phylip\", alphabet=Alphabet.generic_dna)\n",
    "with open(simname+p+'.nex', \"w+\") as n:\n",
    "    n.write(alignment.format(\"nexus\"))\n",
    "    missing_nex = simname+p+'.nex'\n",
    "    print('Wrote %d missing data nexus file to %s') % (percent, missing_nex)"
   ]
  },
  {
   "cell_type": "markdown",
   "metadata": {},
   "source": [
    "### 4. Run *SVDquartets*\n",
    "\n",
    "To run *SVDquartets* we'll have to add a PAUP block to our nexus file. This will specify that we want to PAUP to \n",
    "\n",
    "1. autoclose after finishing\n",
    "2. run SVDquartets\n",
    "    * all quartets analyzed\n",
    "    * missing data set to 'Missing'\n",
    "3. save the output as newick trees\n",
    "\n",
    "Here's an example:\n",
    "\n",
    "    BEGIN PAUP;\n",
    "        set autoclose=yes;\n",
    "        SVDquartets evalQuartets=all ambigs=missing;\n",
    "        SaveTrees file=FILENAME format=Newick;\n",
    "        quit;\n",
    "    End;"
   ]
  },
  {
   "cell_type": "code",
   "execution_count": 133,
   "metadata": {
    "collapsed": false
   },
   "outputs": [],
   "source": [
    "saveline = '\\tSaveTrees file=%s.tre format=Newick brLens=no;\\n' % (simname)\n",
    "paup_lines = ['\\nBEGIN PAUP;\\n', '\\tset autoclose=yes;\\n', \n",
    "              '\\tSVDquartets evalQuartets=all ambigs=missing;\\n',\n",
    "              saveline, '\\tquit;\\n', 'End;\\n']\n",
    "\n",
    "with open(missing_nex, 'a') as n:\n",
    "        n.writelines(paup_lines)"
   ]
  },
  {
   "cell_type": "markdown",
   "metadata": {},
   "source": [
    "Finally, let's run *SVDquartets*. We'll set PAUP* to 'non-interactive' mode."
   ]
  },
  {
   "cell_type": "code",
   "execution_count": 134,
   "metadata": {
    "collapsed": false
   },
   "outputs": [
    {
     "name": "stdout",
     "output_type": "stream",
     "text": [
      "bash\n",
      ">> paup4 -n l100L200SmbNl.p50.nex\n"
     ]
    }
   ],
   "source": [
    "svdquartets_call = 'paup4 -n %s' % (missing_nex)\n",
    "print(\"bash\\n>> %s\") % (svdquartets_call)\n",
    "run_svdquartets = Popen(['paup4', '-n', missing_nex], stdin=PIPE, stdout=PIPE, stderr=PIPE)"
   ]
  },
  {
   "cell_type": "code",
   "execution_count": 146,
   "metadata": {
    "collapsed": false
   },
   "outputs": [
    {
     "data": {
      "image/png": "[encoded data removed]",
      "text/plain": [
       "<IPython.core.display.Image object>"
      ]
     },
     "execution_count": 146,
     "metadata": {},
     "output_type": "execute_result"
    }
   ],
   "source": [
    "ts = TreeStyle()\n",
    "ts.show_leaf_name = True\n",
    "p50_tree = Tree('./l100L200SmbNl.tre')\n",
    "p50_tree.render(\"%%inline\", w =500, tree_style=ts)"
   ]
  },
  {
   "cell_type": "markdown",
   "metadata": {},
   "source": [
    "### 4. Calculate Robinson-Foulds distance\n",
    "\n",
    "To assess the accuracy of our estimated species tree I will use the normalized Robinson-Foulds (RF) distance (Robinson and Foulds 1981). This measures the number of bipartitions in our true tree that are not present in out estimated tree, and the number of biparitions in our estimated tree that are not present in the true tree. It has a maximum value of $2(n-3)=18$ for our 12-taxon tree. For generality, we will normalize our RF distances by this value.\n",
    "\n",
    "For various reasons, I'm using DendroPy 3.12, and we *actually* want to use the `symmetric_difference`, not `robinson_foulds_distance` function because we do not have branch lengths. In addition, there is a [known error](https://github.com/jeetsukumaran/DendroPy/issues/14) in behavior of this function. I wrote the work around suggest by Jeet Sukumaran below as a function."
   ]
  },
  {
   "cell_type": "code",
   "execution_count": 154,
   "metadata": {
    "collapsed": true
   },
   "outputs": [],
   "source": [
    "def sym_diff(t1, t2):\n",
    "    '''This is a fix version of the symmetric difference function in Dendropy written by Jeet Sukumaran\n",
    "    (see his GitHub)\n",
    "    \n",
    "    Parameters\n",
    "    ----------\n",
    "    t1 : first tree path\n",
    "    t2 : second tree path'''\n",
    "    \n",
    "    taxon_namespace = dendropy.TaxonSet()\n",
    "    \n",
    "    t1 = dendropy.Tree.get_from_path(t1, \"newick\", taxon_set=taxon_namespace)\n",
    "    t2 = dendropy.Tree.get_from_path(t2, \"newick\", taxon_set=taxon_namespace)\n",
    "    t1.is_rooted\n",
    "    t2.is_rooted\n",
    "    t1.symmetric_difference(t2)\n",
    "    t1.symmetric_difference(t2)\n",
    "\n",
    "    return t2.symmetric_difference(t1)"
   ]
  },
  {
   "cell_type": "code",
   "execution_count": 158,
   "metadata": {
    "collapsed": false
   },
   "outputs": [
    {
     "name": "stdout",
     "output_type": "stream",
     "text": [
      "(13, 0.7222222222222222)\n"
     ]
    }
   ],
   "source": [
    "RF = sym_diff(t1='./l100L200SmbNl.tre', t2 = '../MedBalTree')\n",
    "norm_RF = sym_diff(t1='./l100L200SmbNl.tre', t2 = '../MedBalTree')/18.\n",
    "print(RF, norm_RF)"
   ]
  },
  {
   "cell_type": "markdown",
   "metadata": {},
   "source": [
    "Now that we've been through one iteration using one set of parameters we'd like to "
   ]
  },
  {
   "cell_type": "code",
   "execution_count": 394,
   "metadata": {
    "collapsed": false
   },
   "outputs": [
    {
     "name": "stdout",
     "output_type": "stream",
     "text": [
      "/Users/IanGilman/.Trash/l100L100SlbNh 1.39.31 PM\n",
      "\n",
      "Simulation 1\n",
      "N loci:100\n",
      "Locus length: 100\n",
      "Tree shape: mb\n",
      "Ne: h\n",
      "\n",
      "Simulation name: l100L100SmbNh\n",
      "Created directory /Users/IanGilman/simrrls/newsims/l100L100SmbNh\n",
      "Current working directory: /Users/IanGilman/simrrls/newsims/l100L100SmbNh\n",
      "\n",
      "Running simrrls...\n",
      "simrrls -o l100L100SmbNh -f ddrad -l 100 -L 100 -t /Users/IanGilman/simrrls/MedBalTree -N 900000.0\n",
      "\n",
      "Dataset l100L100SmbNh finished.\n",
      "\n",
      "python ~/pyrad/pyrad/pyRAD.py -p params.txt -s 1234567\n",
      "... pyRAD finished.\n",
      "\n",
      "Creating missing data datsets...\n",
      "\n",
      "Running SVDquartets and calculating RF distances...\n",
      "\n",
      "{'p000': [0, 0, 0, 0, 0, 0, 0, 0, 0, 0],\n",
      " 'p010': [0, 0, 0, 0, 0, 0, 0, 0, 0, 0],\n",
      " 'p020': [0, 0, 0, 0, 0, 0, 0, 0, 0, 0],\n",
      " 'p030': [0, 0, 0, 0, 0, 0, 0, 0, 0, 0],\n",
      " 'p040': [0, 0, 0, 0, 0, 0, 0, 0, 0, 0],\n",
      " 'p050': [0, 0, 0, 0, 0, 0, 0, 0, 2, 0],\n",
      " 'p060': [0, 0, 6, 0, 0, 2, 0, 0, 2, 0],\n",
      " 'p070': [0, 0, 0, 2, 0, 0, 0, 2, 2, 4],\n",
      " 'p080': [6, 6, 8, 10, 8, 12, 16, 10, 8, 16],\n",
      " 'p090': [18, 16, 18, 18, 18, 18, 18, 18, 16, 18]}\n",
      "\n",
      "Finished. RF distances written to l100L100SmbNh.RF.csv\n",
      "\n",
      "\n",
      "Simulation 2\n",
      "N loci:100\n",
      "Locus length: 100\n",
      "Tree shape: mb\n",
      "Ne: m\n",
      "\n",
      "Simulation name: l100L100SmbNm\n",
      "Created directory /Users/IanGilman/simrrls/newsims/l100L100SmbNm\n",
      "Current working directory: /Users/IanGilman/simrrls/newsims/l100L100SmbNm\n",
      "\n",
      "Running simrrls...\n",
      "simrrls -o l100L100SmbNm -f ddrad -l 100 -L 100 -t /Users/IanGilman/simrrls/MedBalTree -N 250000.0\n",
      "\n",
      "Dataset l100L100SmbNm finished.\n",
      "\n",
      "python ~/pyrad/pyrad/pyRAD.py -p params.txt -s 1234567\n",
      "... pyRAD finished.\n",
      "\n",
      "Creating missing data datsets...\n",
      "\n",
      "Running SVDquartets and calculating RF distances...\n",
      "\n",
      "{'p000': [0, 0, 0, 0, 0, 0, 0, 0, 0, 0],\n",
      " 'p010': [0, 0, 0, 0, 0, 0, 0, 0, 0, 0],\n",
      " 'p020': [0, 0, 0, 0, 0, 0, 0, 0, 0, 0],\n",
      " 'p030': [0, 0, 0, 0, 0, 0, 0, 0, 0, 0],\n",
      " 'p040': [0, 0, 0, 0, 0, 0, 0, 0, 0, 0],\n",
      " 'p050': [0, 0, 2, 0, 2, 0, 0, 2, 2, 0],\n",
      " 'p060': [4, 2, 2, 4, 0, 6, 2, 2, 2, 4],\n",
      " 'p070': [6, 4, 8, 2, 2, 8, 10, 6, 8, 6],\n",
      " 'p080': [10, 8, 12, 14, 6, 10, 10, 10, 6, 14],\n",
      " 'p090': [18, 18, 18, 18, 18, 18, 16, 16, 18, 18]}\n",
      "\n",
      "Finished. RF distances written to l100L100SmbNm.RF.csv\n",
      "\n",
      "\n",
      "Simulation 3\n",
      "N loci:100\n",
      "Locus length: 100\n",
      "Tree shape: mb\n",
      "Ne: l\n",
      "\n",
      "Simulation name: l100L100SmbNl\n",
      "Created directory /Users/IanGilman/simrrls/newsims/l100L100SmbNl\n",
      "Current working directory: /Users/IanGilman/simrrls/newsims/l100L100SmbNl\n",
      "\n",
      "Running simrrls...\n",
      "simrrls -o l100L100SmbNl -f ddrad -l 100 -L 100 -t /Users/IanGilman/simrrls/MedBalTree -N 50000.0\n",
      "\n",
      "Dataset l100L100SmbNl finished.\n",
      "\n",
      "python ~/pyrad/pyrad/pyRAD.py -p params.txt -s 1234567\n",
      "... pyRAD finished.\n",
      "\n",
      "Creating missing data datsets...\n",
      "\n",
      "Running SVDquartets and calculating RF distances...\n",
      "\n",
      "{'p000': [3, 3, 3, 3, 3, 3, 3, 3, 3, 3],\n",
      " 'p010': [0, 0, 0, 0, 0, 0, 0, 0, 0, 0],\n",
      " 'p020': [0, 0, 0, 0, 0, 0, 0, 0, 0, 0],\n",
      " 'p030': [0, 0, 4, 0, 4, 0, 0, 4, 0, 0],\n",
      " 'p040': [0, 4, 8, 0, 4, 2, 4, 4, 2, 4],\n",
      " 'p050': [2, 8, 10, 8, 8, 6, 8, 4, 4, 10],\n",
      " 'p060': [6, 10, 10, 10, 8, 10, 8, 8, 8, 6],\n",
      " 'p070': [14, 6, 10, 12, 18, 14, 14, 16, 14, 14],\n",
      " 'p080': [18, 18, 16, 16, 18, 18, 18, 16, 16, 18],\n",
      " 'p090': [18, 18, 18, 18, 18, 18, 16, 16, 18, 18]}\n",
      "\n",
      "Finished. RF distances written to l100L100SmbNl.RF.csv\n",
      "\n",
      "\n",
      "Simulation 4\n",
      "N loci:100\n",
      "Locus length: 100\n",
      "Tree shape: su\n",
      "Ne: h\n",
      "\n",
      "Simulation name: l100L100SsuNh\n",
      "Created directory /Users/IanGilman/simrrls/newsims/l100L100SsuNh\n",
      "Current working directory: /Users/IanGilman/simrrls/newsims/l100L100SsuNh\n",
      "\n",
      "Running simrrls...\n",
      "simrrls -o l100L100SsuNh -f ddrad -l 100 -L 100 -t /Users/IanGilman/simrrls/ShortUnbTree -N 900000.0\n",
      "\n",
      "Dataset l100L100SsuNh finished.\n",
      "\n",
      "python ~/pyrad/pyrad/pyRAD.py -p params.txt -s 1234567\n",
      "... pyRAD finished.\n",
      "\n",
      "Creating missing data datsets...\n",
      "\n",
      "Running SVDquartets and calculating RF distances...\n",
      "\n",
      "\n"
     ]
    },
    {
     "ename": "KeyboardInterrupt",
     "evalue": "",
     "output_type": "error",
     "traceback": [
      "\u001b[0;31m---------------------------------------------------------------------------\u001b[0m",
      "\u001b[0;31mKeyboardInterrupt\u001b[0m                         Traceback (most recent call last)",
      "\u001b[0;32m<ipython-input-394-8820245fcce4>\u001b[0m in \u001b[0;36m<module>\u001b[0;34m()\u001b[0m\n\u001b[1;32m     57\u001b[0m             \u001b[0mmp\u001b[0m \u001b[0;34m=\u001b[0m \u001b[0mnexfile\u001b[0m\u001b[0;34m.\u001b[0m\u001b[0msplit\u001b[0m\u001b[0;34m(\u001b[0m\u001b[0;34m'.'\u001b[0m\u001b[0;34m)\u001b[0m\u001b[0;34m[\u001b[0m\u001b[0;36m1\u001b[0m\u001b[0;34m]\u001b[0m\u001b[0;34m\u001b[0m\u001b[0m\n\u001b[1;32m     58\u001b[0m             \u001b[0mrun_svdq_call\u001b[0m \u001b[0;34m=\u001b[0m \u001b[0;34m'paup4 -n %s'\u001b[0m \u001b[0;34m%\u001b[0m \u001b[0;34m(\u001b[0m\u001b[0mnexfile\u001b[0m\u001b[0;34m)\u001b[0m\u001b[0;34m\u001b[0m\u001b[0m\n\u001b[0;32m---> 59\u001b[0;31m             \u001b[0msubprocess\u001b[0m\u001b[0;34m.\u001b[0m\u001b[0mcall\u001b[0m\u001b[0;34m(\u001b[0m\u001b[0mrun_svdq_call\u001b[0m\u001b[0;34m,\u001b[0m \u001b[0mshell\u001b[0m\u001b[0;34m=\u001b[0m\u001b[0mTrue\u001b[0m\u001b[0;34m)\u001b[0m\u001b[0;34m\u001b[0m\u001b[0m\n\u001b[0m\u001b[1;32m     60\u001b[0m \u001b[0;34m\u001b[0m\u001b[0m\n\u001b[1;32m     61\u001b[0m         \u001b[0mtreefiles\u001b[0m \u001b[0;34m=\u001b[0m \u001b[0;34m[\u001b[0m\u001b[0mfilename\u001b[0m \u001b[0;32mfor\u001b[0m \u001b[0mfilename\u001b[0m \u001b[0;32min\u001b[0m \u001b[0mos\u001b[0m\u001b[0;34m.\u001b[0m\u001b[0mlistdir\u001b[0m\u001b[0;34m(\u001b[0m\u001b[0mos\u001b[0m\u001b[0;34m.\u001b[0m\u001b[0mgetcwd\u001b[0m\u001b[0;34m(\u001b[0m\u001b[0;34m)\u001b[0m\u001b[0;34m)\u001b[0m \u001b[0;32mif\u001b[0m \u001b[0mfilename\u001b[0m\u001b[0;34m.\u001b[0m\u001b[0mendswith\u001b[0m\u001b[0;34m(\u001b[0m\u001b[0;34m'.tre'\u001b[0m\u001b[0;34m)\u001b[0m\u001b[0;34m]\u001b[0m\u001b[0;34m\u001b[0m\u001b[0m\n",
      "\u001b[0;32m/Users/IanGilman/anaconda2/lib/python2.7/subprocess.pyc\u001b[0m in \u001b[0;36mcall\u001b[0;34m(*popenargs, **kwargs)\u001b[0m\n\u001b[1;32m    521\u001b[0m     \u001b[0mretcode\u001b[0m \u001b[0;34m=\u001b[0m \u001b[0mcall\u001b[0m\u001b[0;34m(\u001b[0m\u001b[0;34m[\u001b[0m\u001b[0;34m\"ls\"\u001b[0m\u001b[0;34m,\u001b[0m \u001b[0;34m\"-l\"\u001b[0m\u001b[0;34m]\u001b[0m\u001b[0;34m)\u001b[0m\u001b[0;34m\u001b[0m\u001b[0m\n\u001b[1;32m    522\u001b[0m     \"\"\"\n\u001b[0;32m--> 523\u001b[0;31m     \u001b[0;32mreturn\u001b[0m \u001b[0mPopen\u001b[0m\u001b[0;34m(\u001b[0m\u001b[0;34m*\u001b[0m\u001b[0mpopenargs\u001b[0m\u001b[0;34m,\u001b[0m \u001b[0;34m**\u001b[0m\u001b[0mkwargs\u001b[0m\u001b[0;34m)\u001b[0m\u001b[0;34m.\u001b[0m\u001b[0mwait\u001b[0m\u001b[0;34m(\u001b[0m\u001b[0;34m)\u001b[0m\u001b[0;34m\u001b[0m\u001b[0m\n\u001b[0m\u001b[1;32m    524\u001b[0m \u001b[0;34m\u001b[0m\u001b[0m\n\u001b[1;32m    525\u001b[0m \u001b[0;34m\u001b[0m\u001b[0m\n",
      "\u001b[0;32m/Users/IanGilman/anaconda2/lib/python2.7/subprocess.pyc\u001b[0m in \u001b[0;36mwait\u001b[0;34m(self)\u001b[0m\n\u001b[1;32m   1390\u001b[0m             \u001b[0;32mwhile\u001b[0m \u001b[0mself\u001b[0m\u001b[0;34m.\u001b[0m\u001b[0mreturncode\u001b[0m \u001b[0;32mis\u001b[0m \u001b[0mNone\u001b[0m\u001b[0;34m:\u001b[0m\u001b[0;34m\u001b[0m\u001b[0m\n\u001b[1;32m   1391\u001b[0m                 \u001b[0;32mtry\u001b[0m\u001b[0;34m:\u001b[0m\u001b[0;34m\u001b[0m\u001b[0m\n\u001b[0;32m-> 1392\u001b[0;31m                     \u001b[0mpid\u001b[0m\u001b[0;34m,\u001b[0m \u001b[0msts\u001b[0m \u001b[0;34m=\u001b[0m \u001b[0m_eintr_retry_call\u001b[0m\u001b[0;34m(\u001b[0m\u001b[0mos\u001b[0m\u001b[0;34m.\u001b[0m\u001b[0mwaitpid\u001b[0m\u001b[0;34m,\u001b[0m \u001b[0mself\u001b[0m\u001b[0;34m.\u001b[0m\u001b[0mpid\u001b[0m\u001b[0;34m,\u001b[0m \u001b[0;36m0\u001b[0m\u001b[0;34m)\u001b[0m\u001b[0;34m\u001b[0m\u001b[0m\n\u001b[0m\u001b[1;32m   1393\u001b[0m                 \u001b[0;32mexcept\u001b[0m \u001b[0mOSError\u001b[0m \u001b[0;32mas\u001b[0m \u001b[0me\u001b[0m\u001b[0;34m:\u001b[0m\u001b[0;34m\u001b[0m\u001b[0m\n\u001b[1;32m   1394\u001b[0m                     \u001b[0;32mif\u001b[0m \u001b[0me\u001b[0m\u001b[0;34m.\u001b[0m\u001b[0merrno\u001b[0m \u001b[0;34m!=\u001b[0m \u001b[0merrno\u001b[0m\u001b[0;34m.\u001b[0m\u001b[0mECHILD\u001b[0m\u001b[0;34m:\u001b[0m\u001b[0;34m\u001b[0m\u001b[0m\n",
      "\u001b[0;32m/Users/IanGilman/anaconda2/lib/python2.7/subprocess.pyc\u001b[0m in \u001b[0;36m_eintr_retry_call\u001b[0;34m(func, *args)\u001b[0m\n\u001b[1;32m    474\u001b[0m     \u001b[0;32mwhile\u001b[0m \u001b[0mTrue\u001b[0m\u001b[0;34m:\u001b[0m\u001b[0;34m\u001b[0m\u001b[0m\n\u001b[1;32m    475\u001b[0m         \u001b[0;32mtry\u001b[0m\u001b[0;34m:\u001b[0m\u001b[0;34m\u001b[0m\u001b[0m\n\u001b[0;32m--> 476\u001b[0;31m             \u001b[0;32mreturn\u001b[0m \u001b[0mfunc\u001b[0m\u001b[0;34m(\u001b[0m\u001b[0;34m*\u001b[0m\u001b[0margs\u001b[0m\u001b[0;34m)\u001b[0m\u001b[0;34m\u001b[0m\u001b[0m\n\u001b[0m\u001b[1;32m    477\u001b[0m         \u001b[0;32mexcept\u001b[0m \u001b[0;34m(\u001b[0m\u001b[0mOSError\u001b[0m\u001b[0;34m,\u001b[0m \u001b[0mIOError\u001b[0m\u001b[0;34m)\u001b[0m \u001b[0;32mas\u001b[0m \u001b[0me\u001b[0m\u001b[0;34m:\u001b[0m\u001b[0;34m\u001b[0m\u001b[0m\n\u001b[1;32m    478\u001b[0m             \u001b[0;32mif\u001b[0m \u001b[0me\u001b[0m\u001b[0;34m.\u001b[0m\u001b[0merrno\u001b[0m \u001b[0;34m==\u001b[0m \u001b[0merrno\u001b[0m\u001b[0;34m.\u001b[0m\u001b[0mEINTR\u001b[0m\u001b[0;34m:\u001b[0m\u001b[0;34m\u001b[0m\u001b[0m\n",
      "\u001b[0;31mKeyboardInterrupt\u001b[0m: "
     ]
    }
   ],
   "source": [
    "print(os.getcwd())\n",
    "\n",
    "## Loop over all combinations\n",
    "for i, combo in tqdm_notebook(enumerate(combos[:10]), desc='Simulation'):\n",
    "    \n",
    "    ## For convenience\n",
    "    size = combo[0]\n",
    "    number = combo[1]\n",
    "    shape = combo[2]\n",
    "    ne = combo[3]\n",
    "    \n",
    "    # Create tree object from true topology\n",
    "    truetree = dendropy.Tree.get_from_string(treeshapes[shape]['tree'], schema='newick')\n",
    "    \n",
    "    # Create dict to fill of tree distances\n",
    "    percents = ['p'+str(rate).zfill(3) for rate in range(0,95, 10)]\n",
    "    treedist = {}\n",
    "    for key in percents:\n",
    "        treedist[key] = []\n",
    "\n",
    "    ## Create simulation name\n",
    "    print('\\nSimulation %d\\nN loci:%d\\nLocus length: %d\\nTree shape: %s\\nNe: %s\\n') % (i+1, number, size, shape, ne)\n",
    "    simname = 'l%sL%sS%sN%s' % (size, number, shape, ne)\n",
    "    print('Simulation name: %s') % (simname)\n",
    "    \n",
    "    ## Create/move to simulation directory\n",
    "    cursimdir = os.path.join(newsimsdir, simname)\n",
    "    try: \n",
    "        os.mkdir(cursimdir)\n",
    "        print('Created directory %s') % (cursimdir)\n",
    "    except OSError: print('Directory %s exists') % (cursimdir)\n",
    "    os.chdir(cursimdir)\n",
    "    print('Current working directory: %s\\n') % (os.getcwd())\n",
    "    \n",
    "    ## Run simulation and pyRAD if not already done\n",
    "    if not os.path.exists(simname+'_R1_.fastq.gz'):\n",
    "        run_simrrls(size=size, nloci=number, shape=shape, ne=ne, simname=simname)\n",
    "    else: print('Dataset %s already simulated. Move/remove it to rerun. Continuing to pyRAD...\\n') % (simname)\n",
    "    run_pyrad(simname)\n",
    "    print('... pyRAD finished.\\n')\n",
    "    \n",
    "    ## Want to create and analyze 10 replicates of missing data\n",
    "    ## Create missing data datasets\n",
    "    print('Creating missing data datsets...\\n')\n",
    "    # Read phylip file to datframe \n",
    "    fulldata = phylip_to_df(simname=simname)\n",
    "    \n",
    "    print('Running SVDquartets and calculating RF distances...\\n')\n",
    "    for i in tqdm_notebook(range(10), desc='Missing data replicates', leave = False):\n",
    "        # Write/replace nexus files and append PAUP blocks\n",
    "        for mp in tqdm_notebook(range(0, 95, 10), desc='Percent missing', leave=False):\n",
    "            nexusfile = write_missing_data(fulldf=fulldata, percent=mp, simname=simname)\n",
    "            write_svdq_block(nexus=nexusfile, percent=mp)\n",
    "\n",
    "        nexusfiles = [filename for filename in os.listdir(os.getcwd()) if filename.endswith('.nex')]\n",
    "        for nexfile in tqdm_notebook(nexusfiles, desc='SVDquartets', leave=False):\n",
    "            mp = nexfile.split('.')[1]\n",
    "            run_svdq_call = 'paup4 -n %s' % (nexfile)\n",
    "            subprocess.call(run_svdq_call, shell=True)\n",
    "\n",
    "        treefiles = [filename for filename in os.listdir(os.getcwd()) if filename.endswith('.tre')]\n",
    "        for tree in treefiles:\n",
    "            key = tree.split('.')[0]\n",
    "            t = dendropy.Tree.get_from_path(tree, schema='nexus')\n",
    "            t.symmetric_difference(truetree)\n",
    "            try: treedist[key].append(truetree.symmetric_difference(t))\n",
    "            except KeyError: continue\n",
    "    \n",
    "    pprint(treedist)\n",
    "    pd.DataFrame.from_dict(treedist).to_csv(path_or_buf=simname+'.RF.csv')\n",
    "    \n",
    "    print('\\nFinished. RF distances written to %s\\n') % (simname+'.RF.csv')"
   ]
  },
  {
   "cell_type": "markdown",
   "metadata": {
    "collapsed": true
   },
   "source": [
    "## 5. Run GARLI\n",
    "For all loci from all runs we will run GARLI to create input for ASTRAL\n",
    "\n",
    "* Read in GARLI.conf example from `~/Garli/example/basic/garli.conf`\n",
    "* Make list of all directories\n",
    "* For each directory, `cd` and make list of nexus files\n",
    "* For each nexus file create a new garli.conf file\n",
    "    * \n",
    "* Run GARLI for 5 trees? This is 60 (datasets) x 16 (missing data rates) x 5 (trees)= 4800 trees to estimate"
   ]
  },
  {
   "cell_type": "markdown",
   "metadata": {},
   "source": [
    "## 6. Copy all files to directory for ASTRAL analysis"
   ]
  },
  {
   "cell_type": "code",
   "execution_count": 5,
   "metadata": {
    "collapsed": false
   },
   "outputs": [
    {
     "data": {
      "text/plain": [
       "100000.0"
      ]
     },
     "execution_count": 5,
     "metadata": {},
     "output_type": "execute_result"
    }
   ],
   "source": [
    "1e5"
   ]
  },
  {
   "cell_type": "code",
   "execution_count": null,
   "metadata": {
    "collapsed": true
   },
   "outputs": [],
   "source": []
  },
  {
   "cell_type": "code",
   "execution_count": 67,
   "metadata": {
    "collapsed": false
   },
   "outputs": [],
   "source": [
    "ShortBalTree = multiply_strints(MedBalTree, 0.5)\n",
    "LongBalTree = multiply_strints(MedBalTree, 2.0)"
   ]
  },
  {
   "cell_type": "code",
   "execution_count": 68,
   "metadata": {
    "collapsed": false
   },
   "outputs": [],
   "source": [
    "treeshapes = Vividict()\n",
    "treeshapes['ShortBalTree']['tree'] = ShortBalTree\n",
    "treeshapes['MedBalTree']['tree'] = MedBalTree\n",
    "treeshapes['LongBalTree']['tree'] = LongBalTree"
   ]
  },
  {
   "cell_type": "code",
   "execution_count": 69,
   "metadata": {
    "collapsed": false
   },
   "outputs": [],
   "source": [
    "for key in treeshapes.iterkeys():\n",
    "    path = os.path.join(sim_dir, key)\n",
    "    treeshapes[key]['path'] = str(path)\n",
    "    with open(path, 'w+') as f:\n",
    "        f.write(treeshapes[key]['tree'])"
   ]
  },
  {
   "cell_type": "code",
   "execution_count": 70,
   "metadata": {
    "collapsed": false
   },
   "outputs": [],
   "source": [
    "treeshapes['sb'] = treeshapes.pop('ShortBalTree')\n",
    "treeshapes['mb'] = treeshapes.pop('MedBalTree')\n",
    "treeshapes['lb'] = treeshapes.pop('LongBalTree')"
   ]
  },
  {
   "cell_type": "code",
   "execution_count": 71,
   "metadata": {
    "collapsed": false
   },
   "outputs": [
    {
     "name": "stdout",
     "output_type": "stream",
     "text": [
      "{'mb': {'path': '/Users/IanGilman/pythonscripts/SimMissingData/MedBalTree', 'tree': '(((((A:1,B:1):1,C:2):1,D:3):1,(((E:1,F:1):1,G:2):1,H:3):1):1,(((I:1,J:1):1,K:2):1,L:3):2);'}, 'lb': {'path': '/Users/IanGilman/pythonscripts/SimMissingData/LongBalTree', 'tree': '(((((A:2.0,B:2.0):2.0,C:4.0):2.0,D:6.0):2.0,(((E:2.0,F:2.0):2.0,G:4.0):2.0,H:6.0):2.0):2.0,(((I:2.0,J:2.0):2.0,K:4.0):2.0,L:6.0):4.0);'}, 'sb': {'path': '/Users/IanGilman/pythonscripts/SimMissingData/ShortBalTree', 'tree': '(((((A:0.5,B:0.5):0.5,C:1.0):0.5,D:1.5):0.5,(((E:0.5,F:0.5):0.5,G:1.0):0.5,H:1.5):0.5):0.5,(((I:0.5,J:0.5):0.5,K:1.0):0.5,L:1.5):1.0);'}}\n"
     ]
    }
   ],
   "source": [
    "print treeshapes"
   ]
  },
  {
   "cell_type": "code",
   "execution_count": 10,
   "metadata": {
    "collapsed": false
   },
   "outputs": [
    {
     "name": "stdout",
     "output_type": "stream",
     "text": [
      "540\n",
      "[[100, 100, 'mb', 'h'], [100, 100, 'mb', 'm'], [100, 100, 'mb', 'l'], [100, 100, 'su', 'h'], [100, 100, 'su', 'm'], [100, 100, 'su', 'l'], [100, 100, 'lb', 'h'], [100, 100, 'lb', 'm'], [100, 100, 'lb', 'l'], [100, 100, 'mu', 'h'], [100, 100, 'mu', 'm'], [100, 100, 'mu', 'l'], [100, 100, 'lu', 'h'], [100, 100, 'lu', 'm'], [100, 100, 'lu', 'l'], [100, 100, 'sb', 'h'], [100, 100, 'sb', 'm'], [100, 100, 'sb', 'l'], [200, 100, 'mb', 'h'], [200, 100, 'mb', 'm'], [200, 100, 'mb', 'l'], [200, 100, 'su', 'h'], [200, 100, 'su', 'm'], [200, 100, 'su', 'l'], [200, 100, 'lb', 'h'], [200, 100, 'lb', 'm'], [200, 100, 'lb', 'l'], [200, 100, 'mu', 'h'], [200, 100, 'mu', 'm'], [200, 100, 'mu', 'l'], [200, 100, 'lu', 'h'], [200, 100, 'lu', 'm'], [200, 100, 'lu', 'l'], [200, 100, 'sb', 'h'], [200, 100, 'sb', 'm'], [200, 100, 'sb', 'l'], [300, 100, 'mb', 'h'], [300, 100, 'mb', 'm'], [300, 100, 'mb', 'l'], [300, 100, 'su', 'h'], [300, 100, 'su', 'm'], [300, 100, 'su', 'l'], [300, 100, 'lb', 'h'], [300, 100, 'lb', 'm'], [300, 100, 'lb', 'l'], [300, 100, 'mu', 'h'], [300, 100, 'mu', 'm'], [300, 100, 'mu', 'l'], [300, 100, 'lu', 'h'], [300, 100, 'lu', 'm'], [300, 100, 'lu', 'l'], [300, 100, 'sb', 'h'], [300, 100, 'sb', 'm'], [300, 100, 'sb', 'l'], [400, 100, 'mb', 'h'], [400, 100, 'mb', 'm'], [400, 100, 'mb', 'l'], [400, 100, 'su', 'h'], [400, 100, 'su', 'm'], [400, 100, 'su', 'l'], [400, 100, 'lb', 'h'], [400, 100, 'lb', 'm'], [400, 100, 'lb', 'l'], [400, 100, 'mu', 'h'], [400, 100, 'mu', 'm'], [400, 100, 'mu', 'l'], [400, 100, 'lu', 'h'], [400, 100, 'lu', 'm'], [400, 100, 'lu', 'l'], [400, 100, 'sb', 'h'], [400, 100, 'sb', 'm'], [400, 100, 'sb', 'l'], [500, 100, 'mb', 'h'], [500, 100, 'mb', 'm'], [500, 100, 'mb', 'l'], [500, 100, 'su', 'h'], [500, 100, 'su', 'm'], [500, 100, 'su', 'l'], [500, 100, 'lb', 'h'], [500, 100, 'lb', 'm'], [500, 100, 'lb', 'l'], [500, 100, 'mu', 'h'], [500, 100, 'mu', 'm'], [500, 100, 'mu', 'l'], [500, 100, 'lu', 'h'], [500, 100, 'lu', 'm'], [500, 100, 'lu', 'l'], [500, 100, 'sb', 'h'], [500, 100, 'sb', 'm'], [500, 100, 'sb', 'l'], [600, 100, 'mb', 'h'], [600, 100, 'mb', 'm'], [600, 100, 'mb', 'l'], [600, 100, 'su', 'h'], [600, 100, 'su', 'm'], [600, 100, 'su', 'l'], [600, 100, 'lb', 'h'], [600, 100, 'lb', 'm'], [600, 100, 'lb', 'l'], [600, 100, 'mu', 'h'], [600, 100, 'mu', 'm'], [600, 100, 'mu', 'l'], [600, 100, 'lu', 'h'], [600, 100, 'lu', 'm'], [600, 100, 'lu', 'l'], [600, 100, 'sb', 'h'], [600, 100, 'sb', 'm'], [600, 100, 'sb', 'l'], [100, 500, 'mb', 'h'], [100, 500, 'mb', 'm'], [100, 500, 'mb', 'l'], [100, 500, 'su', 'h'], [100, 500, 'su', 'm'], [100, 500, 'su', 'l'], [100, 500, 'lb', 'h'], [100, 500, 'lb', 'm'], [100, 500, 'lb', 'l'], [100, 500, 'mu', 'h'], [100, 500, 'mu', 'm'], [100, 500, 'mu', 'l'], [100, 500, 'lu', 'h'], [100, 500, 'lu', 'm'], [100, 500, 'lu', 'l'], [100, 500, 'sb', 'h'], [100, 500, 'sb', 'm'], [100, 500, 'sb', 'l'], [200, 500, 'mb', 'h'], [200, 500, 'mb', 'm'], [200, 500, 'mb', 'l'], [200, 500, 'su', 'h'], [200, 500, 'su', 'm'], [200, 500, 'su', 'l'], [200, 500, 'lb', 'h'], [200, 500, 'lb', 'm'], [200, 500, 'lb', 'l'], [200, 500, 'mu', 'h'], [200, 500, 'mu', 'm'], [200, 500, 'mu', 'l'], [200, 500, 'lu', 'h'], [200, 500, 'lu', 'm'], [200, 500, 'lu', 'l'], [200, 500, 'sb', 'h'], [200, 500, 'sb', 'm'], [200, 500, 'sb', 'l'], [300, 500, 'mb', 'h'], [300, 500, 'mb', 'm'], [300, 500, 'mb', 'l'], [300, 500, 'su', 'h'], [300, 500, 'su', 'm'], [300, 500, 'su', 'l'], [300, 500, 'lb', 'h'], [300, 500, 'lb', 'm'], [300, 500, 'lb', 'l'], [300, 500, 'mu', 'h'], [300, 500, 'mu', 'm'], [300, 500, 'mu', 'l'], [300, 500, 'lu', 'h'], [300, 500, 'lu', 'm'], [300, 500, 'lu', 'l'], [300, 500, 'sb', 'h'], [300, 500, 'sb', 'm'], [300, 500, 'sb', 'l'], [400, 500, 'mb', 'h'], [400, 500, 'mb', 'm'], [400, 500, 'mb', 'l'], [400, 500, 'su', 'h'], [400, 500, 'su', 'm'], [400, 500, 'su', 'l'], [400, 500, 'lb', 'h'], [400, 500, 'lb', 'm'], [400, 500, 'lb', 'l'], [400, 500, 'mu', 'h'], [400, 500, 'mu', 'm'], [400, 500, 'mu', 'l'], [400, 500, 'lu', 'h'], [400, 500, 'lu', 'm'], [400, 500, 'lu', 'l'], [400, 500, 'sb', 'h'], [400, 500, 'sb', 'm'], [400, 500, 'sb', 'l'], [500, 500, 'mb', 'h'], [500, 500, 'mb', 'm'], [500, 500, 'mb', 'l'], [500, 500, 'su', 'h'], [500, 500, 'su', 'm'], [500, 500, 'su', 'l'], [500, 500, 'lb', 'h'], [500, 500, 'lb', 'm'], [500, 500, 'lb', 'l'], [500, 500, 'mu', 'h'], [500, 500, 'mu', 'm'], [500, 500, 'mu', 'l'], [500, 500, 'lu', 'h'], [500, 500, 'lu', 'm'], [500, 500, 'lu', 'l'], [500, 500, 'sb', 'h'], [500, 500, 'sb', 'm'], [500, 500, 'sb', 'l'], [600, 500, 'mb', 'h'], [600, 500, 'mb', 'm'], [600, 500, 'mb', 'l'], [600, 500, 'su', 'h'], [600, 500, 'su', 'm'], [600, 500, 'su', 'l'], [600, 500, 'lb', 'h'], [600, 500, 'lb', 'm'], [600, 500, 'lb', 'l'], [600, 500, 'mu', 'h'], [600, 500, 'mu', 'm'], [600, 500, 'mu', 'l'], [600, 500, 'lu', 'h'], [600, 500, 'lu', 'm'], [600, 500, 'lu', 'l'], [600, 500, 'sb', 'h'], [600, 500, 'sb', 'm'], [600, 500, 'sb', 'l'], [100, 1000, 'mb', 'h'], [100, 1000, 'mb', 'm'], [100, 1000, 'mb', 'l'], [100, 1000, 'su', 'h'], [100, 1000, 'su', 'm'], [100, 1000, 'su', 'l'], [100, 1000, 'lb', 'h'], [100, 1000, 'lb', 'm'], [100, 1000, 'lb', 'l'], [100, 1000, 'mu', 'h'], [100, 1000, 'mu', 'm'], [100, 1000, 'mu', 'l'], [100, 1000, 'lu', 'h'], [100, 1000, 'lu', 'm'], [100, 1000, 'lu', 'l'], [100, 1000, 'sb', 'h'], [100, 1000, 'sb', 'm'], [100, 1000, 'sb', 'l'], [200, 1000, 'mb', 'h'], [200, 1000, 'mb', 'm'], [200, 1000, 'mb', 'l'], [200, 1000, 'su', 'h'], [200, 1000, 'su', 'm'], [200, 1000, 'su', 'l'], [200, 1000, 'lb', 'h'], [200, 1000, 'lb', 'm'], [200, 1000, 'lb', 'l'], [200, 1000, 'mu', 'h'], [200, 1000, 'mu', 'm'], [200, 1000, 'mu', 'l'], [200, 1000, 'lu', 'h'], [200, 1000, 'lu', 'm'], [200, 1000, 'lu', 'l'], [200, 1000, 'sb', 'h'], [200, 1000, 'sb', 'm'], [200, 1000, 'sb', 'l'], [300, 1000, 'mb', 'h'], [300, 1000, 'mb', 'm'], [300, 1000, 'mb', 'l'], [300, 1000, 'su', 'h'], [300, 1000, 'su', 'm'], [300, 1000, 'su', 'l'], [300, 1000, 'lb', 'h'], [300, 1000, 'lb', 'm'], [300, 1000, 'lb', 'l'], [300, 1000, 'mu', 'h'], [300, 1000, 'mu', 'm'], [300, 1000, 'mu', 'l'], [300, 1000, 'lu', 'h'], [300, 1000, 'lu', 'm'], [300, 1000, 'lu', 'l'], [300, 1000, 'sb', 'h'], [300, 1000, 'sb', 'm'], [300, 1000, 'sb', 'l'], [400, 1000, 'mb', 'h'], [400, 1000, 'mb', 'm'], [400, 1000, 'mb', 'l'], [400, 1000, 'su', 'h'], [400, 1000, 'su', 'm'], [400, 1000, 'su', 'l'], [400, 1000, 'lb', 'h'], [400, 1000, 'lb', 'm'], [400, 1000, 'lb', 'l'], [400, 1000, 'mu', 'h'], [400, 1000, 'mu', 'm'], [400, 1000, 'mu', 'l'], [400, 1000, 'lu', 'h'], [400, 1000, 'lu', 'm'], [400, 1000, 'lu', 'l'], [400, 1000, 'sb', 'h'], [400, 1000, 'sb', 'm'], [400, 1000, 'sb', 'l'], [500, 1000, 'mb', 'h'], [500, 1000, 'mb', 'm'], [500, 1000, 'mb', 'l'], [500, 1000, 'su', 'h'], [500, 1000, 'su', 'm'], [500, 1000, 'su', 'l'], [500, 1000, 'lb', 'h'], [500, 1000, 'lb', 'm'], [500, 1000, 'lb', 'l'], [500, 1000, 'mu', 'h'], [500, 1000, 'mu', 'm'], [500, 1000, 'mu', 'l'], [500, 1000, 'lu', 'h'], [500, 1000, 'lu', 'm'], [500, 1000, 'lu', 'l'], [500, 1000, 'sb', 'h'], [500, 1000, 'sb', 'm'], [500, 1000, 'sb', 'l'], [600, 1000, 'mb', 'h'], [600, 1000, 'mb', 'm'], [600, 1000, 'mb', 'l'], [600, 1000, 'su', 'h'], [600, 1000, 'su', 'm'], [600, 1000, 'su', 'l'], [600, 1000, 'lb', 'h'], [600, 1000, 'lb', 'm'], [600, 1000, 'lb', 'l'], [600, 1000, 'mu', 'h'], [600, 1000, 'mu', 'm'], [600, 1000, 'mu', 'l'], [600, 1000, 'lu', 'h'], [600, 1000, 'lu', 'm'], [600, 1000, 'lu', 'l'], [600, 1000, 'sb', 'h'], [600, 1000, 'sb', 'm'], [600, 1000, 'sb', 'l'], [100, 5000, 'mb', 'h'], [100, 5000, 'mb', 'm'], [100, 5000, 'mb', 'l'], [100, 5000, 'su', 'h'], [100, 5000, 'su', 'm'], [100, 5000, 'su', 'l'], [100, 5000, 'lb', 'h'], [100, 5000, 'lb', 'm'], [100, 5000, 'lb', 'l'], [100, 5000, 'mu', 'h'], [100, 5000, 'mu', 'm'], [100, 5000, 'mu', 'l'], [100, 5000, 'lu', 'h'], [100, 5000, 'lu', 'm'], [100, 5000, 'lu', 'l'], [100, 5000, 'sb', 'h'], [100, 5000, 'sb', 'm'], [100, 5000, 'sb', 'l'], [200, 5000, 'mb', 'h'], [200, 5000, 'mb', 'm'], [200, 5000, 'mb', 'l'], [200, 5000, 'su', 'h'], [200, 5000, 'su', 'm'], [200, 5000, 'su', 'l'], [200, 5000, 'lb', 'h'], [200, 5000, 'lb', 'm'], [200, 5000, 'lb', 'l'], [200, 5000, 'mu', 'h'], [200, 5000, 'mu', 'm'], [200, 5000, 'mu', 'l'], [200, 5000, 'lu', 'h'], [200, 5000, 'lu', 'm'], [200, 5000, 'lu', 'l'], [200, 5000, 'sb', 'h'], [200, 5000, 'sb', 'm'], [200, 5000, 'sb', 'l'], [300, 5000, 'mb', 'h'], [300, 5000, 'mb', 'm'], [300, 5000, 'mb', 'l'], [300, 5000, 'su', 'h'], [300, 5000, 'su', 'm'], [300, 5000, 'su', 'l'], [300, 5000, 'lb', 'h'], [300, 5000, 'lb', 'm'], [300, 5000, 'lb', 'l'], [300, 5000, 'mu', 'h'], [300, 5000, 'mu', 'm'], [300, 5000, 'mu', 'l'], [300, 5000, 'lu', 'h'], [300, 5000, 'lu', 'm'], [300, 5000, 'lu', 'l'], [300, 5000, 'sb', 'h'], [300, 5000, 'sb', 'm'], [300, 5000, 'sb', 'l'], [400, 5000, 'mb', 'h'], [400, 5000, 'mb', 'm'], [400, 5000, 'mb', 'l'], [400, 5000, 'su', 'h'], [400, 5000, 'su', 'm'], [400, 5000, 'su', 'l'], [400, 5000, 'lb', 'h'], [400, 5000, 'lb', 'm'], [400, 5000, 'lb', 'l'], [400, 5000, 'mu', 'h'], [400, 5000, 'mu', 'm'], [400, 5000, 'mu', 'l'], [400, 5000, 'lu', 'h'], [400, 5000, 'lu', 'm'], [400, 5000, 'lu', 'l'], [400, 5000, 'sb', 'h'], [400, 5000, 'sb', 'm'], [400, 5000, 'sb', 'l'], [500, 5000, 'mb', 'h'], [500, 5000, 'mb', 'm'], [500, 5000, 'mb', 'l'], [500, 5000, 'su', 'h'], [500, 5000, 'su', 'm'], [500, 5000, 'su', 'l'], [500, 5000, 'lb', 'h'], [500, 5000, 'lb', 'm'], [500, 5000, 'lb', 'l'], [500, 5000, 'mu', 'h'], [500, 5000, 'mu', 'm'], [500, 5000, 'mu', 'l'], [500, 5000, 'lu', 'h'], [500, 5000, 'lu', 'm'], [500, 5000, 'lu', 'l'], [500, 5000, 'sb', 'h'], [500, 5000, 'sb', 'm'], [500, 5000, 'sb', 'l'], [600, 5000, 'mb', 'h'], [600, 5000, 'mb', 'm'], [600, 5000, 'mb', 'l'], [600, 5000, 'su', 'h'], [600, 5000, 'su', 'm'], [600, 5000, 'su', 'l'], [600, 5000, 'lb', 'h'], [600, 5000, 'lb', 'm'], [600, 5000, 'lb', 'l'], [600, 5000, 'mu', 'h'], [600, 5000, 'mu', 'm'], [600, 5000, 'mu', 'l'], [600, 5000, 'lu', 'h'], [600, 5000, 'lu', 'm'], [600, 5000, 'lu', 'l'], [600, 5000, 'sb', 'h'], [600, 5000, 'sb', 'm'], [600, 5000, 'sb', 'l'], [100, 10000, 'mb', 'h'], [100, 10000, 'mb', 'm'], [100, 10000, 'mb', 'l'], [100, 10000, 'su', 'h'], [100, 10000, 'su', 'm'], [100, 10000, 'su', 'l'], [100, 10000, 'lb', 'h'], [100, 10000, 'lb', 'm'], [100, 10000, 'lb', 'l'], [100, 10000, 'mu', 'h'], [100, 10000, 'mu', 'm'], [100, 10000, 'mu', 'l'], [100, 10000, 'lu', 'h'], [100, 10000, 'lu', 'm'], [100, 10000, 'lu', 'l'], [100, 10000, 'sb', 'h'], [100, 10000, 'sb', 'm'], [100, 10000, 'sb', 'l'], [200, 10000, 'mb', 'h'], [200, 10000, 'mb', 'm'], [200, 10000, 'mb', 'l'], [200, 10000, 'su', 'h'], [200, 10000, 'su', 'm'], [200, 10000, 'su', 'l'], [200, 10000, 'lb', 'h'], [200, 10000, 'lb', 'm'], [200, 10000, 'lb', 'l'], [200, 10000, 'mu', 'h'], [200, 10000, 'mu', 'm'], [200, 10000, 'mu', 'l'], [200, 10000, 'lu', 'h'], [200, 10000, 'lu', 'm'], [200, 10000, 'lu', 'l'], [200, 10000, 'sb', 'h'], [200, 10000, 'sb', 'm'], [200, 10000, 'sb', 'l'], [300, 10000, 'mb', 'h'], [300, 10000, 'mb', 'm'], [300, 10000, 'mb', 'l'], [300, 10000, 'su', 'h'], [300, 10000, 'su', 'm'], [300, 10000, 'su', 'l'], [300, 10000, 'lb', 'h'], [300, 10000, 'lb', 'm'], [300, 10000, 'lb', 'l'], [300, 10000, 'mu', 'h'], [300, 10000, 'mu', 'm'], [300, 10000, 'mu', 'l'], [300, 10000, 'lu', 'h'], [300, 10000, 'lu', 'm'], [300, 10000, 'lu', 'l'], [300, 10000, 'sb', 'h'], [300, 10000, 'sb', 'm'], [300, 10000, 'sb', 'l'], [400, 10000, 'mb', 'h'], [400, 10000, 'mb', 'm'], [400, 10000, 'mb', 'l'], [400, 10000, 'su', 'h'], [400, 10000, 'su', 'm'], [400, 10000, 'su', 'l'], [400, 10000, 'lb', 'h'], [400, 10000, 'lb', 'm'], [400, 10000, 'lb', 'l'], [400, 10000, 'mu', 'h'], [400, 10000, 'mu', 'm'], [400, 10000, 'mu', 'l'], [400, 10000, 'lu', 'h'], [400, 10000, 'lu', 'm'], [400, 10000, 'lu', 'l'], [400, 10000, 'sb', 'h'], [400, 10000, 'sb', 'm'], [400, 10000, 'sb', 'l'], [500, 10000, 'mb', 'h'], [500, 10000, 'mb', 'm'], [500, 10000, 'mb', 'l'], [500, 10000, 'su', 'h'], [500, 10000, 'su', 'm'], [500, 10000, 'su', 'l'], [500, 10000, 'lb', 'h'], [500, 10000, 'lb', 'm'], [500, 10000, 'lb', 'l'], [500, 10000, 'mu', 'h'], [500, 10000, 'mu', 'm'], [500, 10000, 'mu', 'l'], [500, 10000, 'lu', 'h'], [500, 10000, 'lu', 'm'], [500, 10000, 'lu', 'l'], [500, 10000, 'sb', 'h'], [500, 10000, 'sb', 'm'], [500, 10000, 'sb', 'l'], [600, 10000, 'mb', 'h'], [600, 10000, 'mb', 'm'], [600, 10000, 'mb', 'l'], [600, 10000, 'su', 'h'], [600, 10000, 'su', 'm'], [600, 10000, 'su', 'l'], [600, 10000, 'lb', 'h'], [600, 10000, 'lb', 'm'], [600, 10000, 'lb', 'l'], [600, 10000, 'mu', 'h'], [600, 10000, 'mu', 'm'], [600, 10000, 'mu', 'l'], [600, 10000, 'lu', 'h'], [600, 10000, 'lu', 'm'], [600, 10000, 'lu', 'l'], [600, 10000, 'sb', 'h'], [600, 10000, 'sb', 'm'], [600, 10000, 'sb', 'l']]\n"
     ]
    }
   ],
   "source": [
    "nloci = [100, 200]\n",
    "lengths = [100, 200]\n",
    "Nes = {'l':100, 'm': 1000, 'h':10000}\n",
    "\n",
    "combos = []\n",
    "for number in nloci:\n",
    "    for size in lengths:\n",
    "        for shape in treeshapes.keys():\n",
    "            for Ne in Nes.keys():\n",
    "                combos.append([size, number, shape, Ne])\n",
    "print(len(combos))\n",
    "# print combos"
   ]
  }
 ],
 "metadata": {
  "anaconda-cloud": {},
  "kernelspec": {
   "display_name": "Python 2",
   "language": "python",
   "name": "python2"
  },
  "language_info": {
   "codemirror_mode": {
    "name": "ipython",
    "version": 2
   },
   "file_extension": ".py",
   "mimetype": "text/x-python",
   "name": "python",
   "nbconvert_exporter": "python",
   "pygments_lexer": "ipython2",
   "version": "2.7.12"
  }
 },
 "nbformat": 4,
 "nbformat_minor": 2
}
